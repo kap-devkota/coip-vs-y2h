{
 "cells": [
  {
   "cell_type": "code",
   "execution_count": 75,
   "id": "4e0e2a34-b8e7-4a0b-a60d-25d8ab4b98ae",
   "metadata": {},
   "outputs": [],
   "source": [
    "import pandas as pd\n",
    "import matplotlib.pyplot as plt\n",
    "import seaborn as sns\n"
   ]
  },
  {
   "cell_type": "code",
   "execution_count": 76,
   "id": "d8c51556-0687-439c-87bb-c9d0940614c7",
   "metadata": {},
   "outputs": [],
   "source": [
    "_clust = pd.DataFrame([(0.149, 0.044), (0.054, 0.047), (0.160, 0.030), (0.046, 0.025)], columns = [\"3clust\", \"4clust\"])"
   ]
  },
  {
   "cell_type": "code",
   "execution_count": 77,
   "id": "9a927e1c-2d0a-4496-9074-00f2d4cd7fa8",
   "metadata": {},
   "outputs": [
    {
     "data": {
      "text/html": [
       "<div>\n",
       "<style scoped>\n",
       "    .dataframe tbody tr th:only-of-type {\n",
       "        vertical-align: middle;\n",
       "    }\n",
       "\n",
       "    .dataframe tbody tr th {\n",
       "        vertical-align: top;\n",
       "    }\n",
       "\n",
       "    .dataframe thead th {\n",
       "        text-align: right;\n",
       "    }\n",
       "</style>\n",
       "<table border=\"1\" class=\"dataframe\">\n",
       "  <thead>\n",
       "    <tr style=\"text-align: right;\">\n",
       "      <th></th>\n",
       "      <th>3clust</th>\n",
       "    </tr>\n",
       "  </thead>\n",
       "  <tbody>\n",
       "    <tr>\n",
       "      <th>0</th>\n",
       "      <td>0.149</td>\n",
       "    </tr>\n",
       "    <tr>\n",
       "      <th>1</th>\n",
       "      <td>0.054</td>\n",
       "    </tr>\n",
       "    <tr>\n",
       "      <th>2</th>\n",
       "      <td>0.160</td>\n",
       "    </tr>\n",
       "    <tr>\n",
       "      <th>3</th>\n",
       "      <td>0.046</td>\n",
       "    </tr>\n",
       "  </tbody>\n",
       "</table>\n",
       "</div>"
      ],
      "text/plain": [
       "   3clust\n",
       "0   0.149\n",
       "1   0.054\n",
       "2   0.160\n",
       "3   0.046"
      ]
     },
     "execution_count": 77,
     "metadata": {},
     "output_type": "execute_result"
    }
   ],
   "source": [
    "_clust[\"3clust\"].to_frame()"
   ]
  },
  {
   "cell_type": "code",
   "execution_count": 78,
   "id": "0bfc16b0-52c0-404c-b8b4-254139a36029",
   "metadata": {},
   "outputs": [
    {
     "data": {
      "image/png": "[encoded data removed]",
      "text/plain": [
       "<Figure size 432x144 with 1 Axes>"
      ]
     },
     "metadata": {},
     "output_type": "display_data"
    }
   ],
   "source": [
    "custom_params = {\"axes.spines.right\": False, \"axes.spines.top\": False}\n",
    "sns.set_theme(style=\"whitegrid\", rc=custom_params)\n",
    "\n",
    "f, ax = plt.subplots(figsize=(6, 2))\n",
    "ax = sns.barplot(y = _clust.index, x=\"3clust\", data = _clust[\"3clust\"].to_frame(), color=\"seagreen\", orient= \"h\")\n",
    "ax.set_xlabel(\"\")\n",
    "ax.set_yticklabels(\"\")\n",
    "plt.savefig(\"3clust.svg\")"
   ]
  },
  {
   "cell_type": "code",
   "execution_count": 79,
   "id": "d9c963d8-eb35-4d98-9ecd-3a8b58acd143",
   "metadata": {},
   "outputs": [
    {
     "data": {
      "image/png": "[encoded data removed]",
      "text/plain": [
       "<Figure size 432x144 with 1 Axes>"
      ]
     },
     "metadata": {},
     "output_type": "display_data"
    }
   ],
   "source": [
    "custom_params = {\"axes.spines.right\": False, \"axes.spines.top\": False}\n",
    "sns.set_theme(style=\"whitegrid\", rc=custom_params)\n",
    "\n",
    "f, ax = plt.subplots(figsize=(6, 2))\n",
    "ax = sns.barplot(y = _clust.index, x=\"4clust\", data = _clust[\"4clust\"].to_frame(), color=\"seagreen\", orient= \"h\")\n",
    "ax.set_xlabel(\"\")\n",
    "ax.set_yticklabels(\"\")\n",
    "plt.savefig(\"4clust.svg\")"
   ]
  },
  {
   "cell_type": "code",
   "execution_count": 80,
   "id": "597c2c67-3b91-4db2-bdfa-cfbdcb6ebc05",
   "metadata": {},
   "outputs": [
    {
     "data": {
      "text/html": [
       "<div>\n",
       "<style scoped>\n",
       "    .dataframe tbody tr th:only-of-type {\n",
       "        vertical-align: middle;\n",
       "    }\n",
       "\n",
       "    .dataframe tbody tr th {\n",
       "        vertical-align: top;\n",
       "    }\n",
       "\n",
       "    .dataframe thead th {\n",
       "        text-align: right;\n",
       "    }\n",
       "</style>\n",
       "<table border=\"1\" class=\"dataframe\">\n",
       "  <thead>\n",
       "    <tr style=\"text-align: right;\">\n",
       "      <th></th>\n",
       "      <th>y2h</th>\n",
       "      <th>coip</th>\n",
       "      <th>y2h-shared</th>\n",
       "      <th>coip-shared</th>\n",
       "    </tr>\n",
       "  </thead>\n",
       "  <tbody>\n",
       "    <tr>\n",
       "      <th>sf</th>\n",
       "      <td>0.154379</td>\n",
       "      <td>0.457370</td>\n",
       "      <td>0.266405</td>\n",
       "      <td>0.501590</td>\n",
       "    </tr>\n",
       "    <tr>\n",
       "      <th>sp</th>\n",
       "      <td>0.346360</td>\n",
       "      <td>1.133216</td>\n",
       "      <td>0.633675</td>\n",
       "      <td>1.134269</td>\n",
       "    </tr>\n",
       "    <tr>\n",
       "      <th>sc</th>\n",
       "      <td>0.504111</td>\n",
       "      <td>0.857556</td>\n",
       "      <td>0.662625</td>\n",
       "      <td>0.878391</td>\n",
       "    </tr>\n",
       "    <tr>\n",
       "      <th>E1-F</th>\n",
       "      <td>0.702047</td>\n",
       "      <td>0.528088</td>\n",
       "      <td>0.587031</td>\n",
       "      <td>0.505320</td>\n",
       "    </tr>\n",
       "    <tr>\n",
       "      <th>E1-P</th>\n",
       "      <td>0.433681</td>\n",
       "      <td>-0.041029</td>\n",
       "      <td>0.235466</td>\n",
       "      <td>0.080142</td>\n",
       "    </tr>\n",
       "    <tr>\n",
       "      <th>E1-C</th>\n",
       "      <td>-0.004481</td>\n",
       "      <td>-0.280152</td>\n",
       "      <td>-0.246684</td>\n",
       "      <td>-0.342910</td>\n",
       "    </tr>\n",
       "    <tr>\n",
       "      <th>set-a-f</th>\n",
       "      <td>1.246484</td>\n",
       "      <td>1.357877</td>\n",
       "      <td>1.379189</td>\n",
       "      <td>1.446516</td>\n",
       "    </tr>\n",
       "    <tr>\n",
       "      <th>set-a-p</th>\n",
       "      <td>1.224707</td>\n",
       "      <td>1.648550</td>\n",
       "      <td>1.455182</td>\n",
       "      <td>1.760888</td>\n",
       "    </tr>\n",
       "    <tr>\n",
       "      <th>set-a-c</th>\n",
       "      <td>1.028151</td>\n",
       "      <td>1.200217</td>\n",
       "      <td>1.081810</td>\n",
       "      <td>1.169190</td>\n",
       "    </tr>\n",
       "  </tbody>\n",
       "</table>\n",
       "</div>"
      ],
      "text/plain": [
       "              y2h      coip  y2h-shared  coip-shared\n",
       "sf       0.154379  0.457370    0.266405     0.501590\n",
       "sp       0.346360  1.133216    0.633675     1.134269\n",
       "sc       0.504111  0.857556    0.662625     0.878391\n",
       "E1-F     0.702047  0.528088    0.587031     0.505320\n",
       "E1-P     0.433681 -0.041029    0.235466     0.080142\n",
       "E1-C    -0.004481 -0.280152   -0.246684    -0.342910\n",
       "set-a-f  1.246484  1.357877    1.379189     1.446516\n",
       "set-a-p  1.224707  1.648550    1.455182     1.760888\n",
       "set-a-c  1.028151  1.200217    1.081810     1.169190"
      ]
     },
     "execution_count": 80,
     "metadata": {},
     "output_type": "execute_result"
    }
   ],
   "source": [
    "## Resnik edge similarity visualization\n",
    "\n",
    "df_res = pd.read_csv(\"resnik_similarity_settings_a_b_c.tsv\", sep = \"\\t\", index_col=0)\n",
    "df_res"
   ]
  },
  {
   "cell_type": "code",
   "execution_count": 81,
   "id": "ecc90926-441a-458e-940d-6feb7e3ed8fa",
   "metadata": {},
   "outputs": [
    {
     "data": {
      "text/html": [
       "<div>\n",
       "<style scoped>\n",
       "    .dataframe tbody tr th:only-of-type {\n",
       "        vertical-align: middle;\n",
       "    }\n",
       "\n",
       "    .dataframe tbody tr th {\n",
       "        vertical-align: top;\n",
       "    }\n",
       "\n",
       "    .dataframe thead th {\n",
       "        text-align: right;\n",
       "    }\n",
       "</style>\n",
       "<table border=\"1\" class=\"dataframe\">\n",
       "  <thead>\n",
       "    <tr style=\"text-align: right;\">\n",
       "      <th></th>\n",
       "      <th>set-a-f</th>\n",
       "      <th>set-a-p</th>\n",
       "      <th>set-a-c</th>\n",
       "    </tr>\n",
       "  </thead>\n",
       "  <tbody>\n",
       "    <tr>\n",
       "      <th>y2h</th>\n",
       "      <td>1.246484</td>\n",
       "      <td>1.224707</td>\n",
       "      <td>1.028151</td>\n",
       "    </tr>\n",
       "    <tr>\n",
       "      <th>coip</th>\n",
       "      <td>1.357877</td>\n",
       "      <td>1.648550</td>\n",
       "      <td>1.200217</td>\n",
       "    </tr>\n",
       "    <tr>\n",
       "      <th>y2h-shared</th>\n",
       "      <td>1.379189</td>\n",
       "      <td>1.455182</td>\n",
       "      <td>1.081810</td>\n",
       "    </tr>\n",
       "    <tr>\n",
       "      <th>coip-shared</th>\n",
       "      <td>1.446516</td>\n",
       "      <td>1.760888</td>\n",
       "      <td>1.169190</td>\n",
       "    </tr>\n",
       "  </tbody>\n",
       "</table>\n",
       "</div>"
      ],
      "text/plain": [
       "              set-a-f   set-a-p   set-a-c\n",
       "y2h          1.246484  1.224707  1.028151\n",
       "coip         1.357877  1.648550  1.200217\n",
       "y2h-shared   1.379189  1.455182  1.081810\n",
       "coip-shared  1.446516  1.760888  1.169190"
      ]
     },
     "execution_count": 81,
     "metadata": {},
     "output_type": "execute_result"
    }
   ],
   "source": [
    "# Settings A\n",
    "dfa = df_res.iloc[6:].T\n",
    "dfa"
   ]
  },
  {
   "cell_type": "code",
   "execution_count": 96,
   "id": "b32c66ae-4364-4581-92e1-c3ff5dc6dfb8",
   "metadata": {},
   "outputs": [
    {
     "data": {
      "image/png": "[encoded data removed]",
      "text/plain": [
       "<Figure size 1080x720 with 9 Axes>"
      ]
     },
     "metadata": {},
     "output_type": "display_data"
    }
   ],
   "source": [
    "import numpy as np\n",
    "f, ax = plt.subplots(3, 3, figsize = (15, 10))\n",
    "sns.barplot(y = dfa.index, x=\"set-a-f\", data = dfa, color=\"pink\", orient= \"h\", ax=ax[0, 0])\n",
    "sns.barplot(y = dfa.index, x=\"set-a-p\", data = dfa, color=\"skyblue\", orient= \"h\", ax = ax[0, 1])\n",
    "sns.barplot(y = dfa.index, x=\"set-a-c\", data = dfa, color=\"green\", orient= \"h\", ax = ax[0, 2])\n",
    "\n",
    "for i in [1, 2]:\n",
    "    ax[0, i].set_yticklabels(\"\")\n",
    "\n",
    "# ax[0, 0].set_xticks(np.arange(0, 1.75, 0.25))\n",
    "# ax[0, 1].set_xticks(np.arange(0, 1.75, 0.25))\n",
    "# ax[0, 2].set_xticks(np.arange(0, 1.5, 0.25))\n",
    "\n",
    "dfb = df_res.iloc[0:3].T\n",
    "dfb\n",
    "\n",
    "\n",
    "sns.barplot(y = dfb.index, x=\"sf\", data = dfb, color=\"pink\", orient= \"h\", ax=ax[1, 0])\n",
    "sns.barplot(y = dfb.index, x=\"sp\", data = dfb, color=\"skyblue\", orient= \"h\", ax = ax[1, 1])\n",
    "sns.barplot(y = dfb.index, x=\"sc\", data = dfb, color=\"green\", orient= \"h\", ax = ax[1, 2])\n",
    "\n",
    "for i in [1, 2]:\n",
    "    ax[1, i].set_yticklabels(\"\")\n",
    "\n",
    "dfe = df_res.iloc[3:6].T\n",
    "dfe\n",
    "\n",
    "# ax[0].set_xticks(np.arange(0, 1.75, 0.25))\n",
    "# ax[1].set_xticks(np.arange(0, 1.75, 0.25))\n",
    "# ax[2].set_xticks(np.arange(0, 1.5, 0.25))\n",
    "sns.barplot(y = dfe.index, x=\"E1-F\", data = dfe, color=\"pink\", orient= \"h\", ax=ax[2, 0])\n",
    "sns.barplot(y = dfe.index, x=\"E1-P\", data = dfe, color=\"skyblue\", orient= \"h\", ax = ax[2, 1])\n",
    "sns.barplot(y = dfe.index, x=\"E1-C\", data = dfe, color=\"green\", orient= \"h\", ax = ax[2, 2])\n",
    "\n",
    "for i in [1, 2]:\n",
    "    ax[2, i].set_yticklabels(\"\")\n",
    "\n",
    "# ax[0].set_xticks(np.arange(0, 1.75, 0.25))\n",
    "# ax[1].set_xticks(np.arange(-0.25, 1.75, 0.25))\n",
    "# ax[2].set_xticks(np.arange(-0.25, 1.5, 0.25))\n",
    "f.tight_layout(pad=5)\n",
    "\n",
    "ticks_col = [None] * 3\n",
    "ticks_col[0] = [0, 1.75]\n",
    "ticks_col[1] = [-0.25, 1.75]\n",
    "ticks_col[2] = [-0.5, 1.25]\n",
    "\n",
    "for i in [0,1,2]:\n",
    "    for j in [0, 1, 2]:\n",
    "        ax[j, i].set_xticks(np.arange(*ticks_col[i], 0.25))\n",
    "\n",
    "f.savefig(\"settings-resnik.svg\")"
   ]
  },
  {
   "cell_type": "code",
   "execution_count": 62,
   "id": "50f12015-d6d9-4a32-913f-d91f2e07f911",
   "metadata": {},
   "outputs": [
    {
     "data": {
      "text/html": [
       "<div>\n",
       "<style scoped>\n",
       "    .dataframe tbody tr th:only-of-type {\n",
       "        vertical-align: middle;\n",
       "    }\n",
       "\n",
       "    .dataframe tbody tr th {\n",
       "        vertical-align: top;\n",
       "    }\n",
       "\n",
       "    .dataframe thead th {\n",
       "        text-align: right;\n",
       "    }\n",
       "</style>\n",
       "<table border=\"1\" class=\"dataframe\">\n",
       "  <thead>\n",
       "    <tr style=\"text-align: right;\">\n",
       "      <th></th>\n",
       "      <th>sf</th>\n",
       "      <th>sp</th>\n",
       "      <th>sc</th>\n",
       "    </tr>\n",
       "  </thead>\n",
       "  <tbody>\n",
       "    <tr>\n",
       "      <th>y2h</th>\n",
       "      <td>0.154379</td>\n",
       "      <td>0.346360</td>\n",
       "      <td>0.504111</td>\n",
       "    </tr>\n",
       "    <tr>\n",
       "      <th>coip</th>\n",
       "      <td>0.457370</td>\n",
       "      <td>1.133216</td>\n",
       "      <td>0.857556</td>\n",
       "    </tr>\n",
       "    <tr>\n",
       "      <th>y2h-shared</th>\n",
       "      <td>0.266405</td>\n",
       "      <td>0.633675</td>\n",
       "      <td>0.662625</td>\n",
       "    </tr>\n",
       "    <tr>\n",
       "      <th>coip-shared</th>\n",
       "      <td>0.501590</td>\n",
       "      <td>1.134269</td>\n",
       "      <td>0.878391</td>\n",
       "    </tr>\n",
       "  </tbody>\n",
       "</table>\n",
       "</div>"
      ],
      "text/plain": [
       "                   sf        sp        sc\n",
       "y2h          0.154379  0.346360  0.504111\n",
       "coip         0.457370  1.133216  0.857556\n",
       "y2h-shared   0.266405  0.633675  0.662625\n",
       "coip-shared  0.501590  1.134269  0.878391"
      ]
     },
     "execution_count": 62,
     "metadata": {},
     "output_type": "execute_result"
    }
   ],
   "source": [
    "dfb = df_res.iloc[0:3].T\n",
    "dfb"
   ]
  },
  {
   "cell_type": "code",
   "execution_count": 63,
   "id": "0058eba8-153a-4a97-967f-a30ebd2b7e5d",
   "metadata": {},
   "outputs": [
    {
     "data": {
      "image/png": "[encoded data removed]",
      "text/plain": [
       "<Figure size 1080x144 with 3 Axes>"
      ]
     },
     "metadata": {},
     "output_type": "display_data"
    }
   ],
   "source": [
    "f, ax = plt.subplots(1, 3, figsize = (15, 2))\n",
    "sns.barplot(y = dfb.index, x=\"sf\", data = dfb, color=\"pink\", orient= \"h\", ax=ax[0])\n",
    "sns.barplot(y = dfb.index, x=\"sp\", data = dfb, color=\"skyblue\", orient= \"h\", ax = ax[1])\n",
    "sns.barplot(y = dfb.index, x=\"sc\", data = dfb, color=\"green\", orient= \"h\", ax = ax[2])\n",
    "\n",
    "for i in [1, 2]:\n",
    "    ax[i].set_yticklabels(\"\")\n",
    "\n",
    "ax[0].set_xticks(np.arange(0, 1.75, 0.25))\n",
    "ax[1].set_xticks(np.arange(0, 1.75, 0.25))\n",
    "ax[2].set_xticks(np.arange(0, 1.5, 0.25))\n",
    "\n",
    "f.savefig(\"setting-b-resnik.svg\")"
   ]
  },
  {
   "cell_type": "code",
   "execution_count": 64,
   "id": "ae3d88ff-d186-4404-8fef-48c193cbccd3",
   "metadata": {},
   "outputs": [
    {
     "data": {
      "text/html": [
       "<div>\n",
       "<style scoped>\n",
       "    .dataframe tbody tr th:only-of-type {\n",
       "        vertical-align: middle;\n",
       "    }\n",
       "\n",
       "    .dataframe tbody tr th {\n",
       "        vertical-align: top;\n",
       "    }\n",
       "\n",
       "    .dataframe thead th {\n",
       "        text-align: right;\n",
       "    }\n",
       "</style>\n",
       "<table border=\"1\" class=\"dataframe\">\n",
       "  <thead>\n",
       "    <tr style=\"text-align: right;\">\n",
       "      <th></th>\n",
       "      <th>E1-F</th>\n",
       "      <th>E1-P</th>\n",
       "      <th>E1-C</th>\n",
       "    </tr>\n",
       "  </thead>\n",
       "  <tbody>\n",
       "    <tr>\n",
       "      <th>y2h</th>\n",
       "      <td>0.702047</td>\n",
       "      <td>0.433681</td>\n",
       "      <td>-0.004481</td>\n",
       "    </tr>\n",
       "    <tr>\n",
       "      <th>coip</th>\n",
       "      <td>0.528088</td>\n",
       "      <td>-0.041029</td>\n",
       "      <td>-0.280152</td>\n",
       "    </tr>\n",
       "    <tr>\n",
       "      <th>y2h-shared</th>\n",
       "      <td>0.587031</td>\n",
       "      <td>0.235466</td>\n",
       "      <td>-0.246684</td>\n",
       "    </tr>\n",
       "    <tr>\n",
       "      <th>coip-shared</th>\n",
       "      <td>0.505320</td>\n",
       "      <td>0.080142</td>\n",
       "      <td>-0.342910</td>\n",
       "    </tr>\n",
       "  </tbody>\n",
       "</table>\n",
       "</div>"
      ],
      "text/plain": [
       "                 E1-F      E1-P      E1-C\n",
       "y2h          0.702047  0.433681 -0.004481\n",
       "coip         0.528088 -0.041029 -0.280152\n",
       "y2h-shared   0.587031  0.235466 -0.246684\n",
       "coip-shared  0.505320  0.080142 -0.342910"
      ]
     },
     "execution_count": 64,
     "metadata": {},
     "output_type": "execute_result"
    }
   ],
   "source": [
    "dfe = df_res.iloc[3:6].T\n",
    "dfe"
   ]
  },
  {
   "cell_type": "code",
   "execution_count": 66,
   "id": "ccd50c45-8c1e-4aa7-8d88-8ad108435428",
   "metadata": {},
   "outputs": [
    {
     "data": {
      "image/png": "[encoded data removed]",
      "text/plain": [
       "<Figure size 1080x144 with 3 Axes>"
      ]
     },
     "metadata": {},
     "output_type": "display_data"
    }
   ],
   "source": [
    "f, ax = plt.subplots(1, 3, figsize = (15, 2))\n",
    "sns.barplot(y = dfe.index, x=\"E1-F\", data = dfe, color=\"pink\", orient= \"h\", ax=ax[0])\n",
    "sns.barplot(y = dfe.index, x=\"E1-P\", data = dfe, color=\"skyblue\", orient= \"h\", ax = ax[1])\n",
    "sns.barplot(y = dfe.index, x=\"E1-C\", data = dfe, color=\"green\", orient= \"h\", ax = ax[2])\n",
    "\n",
    "for i in [1, 2]:\n",
    "    ax[i].set_yticklabels(\"\")\n",
    "\n",
    "ax[0].set_xticks(np.arange(0, 1.75, 0.25))\n",
    "ax[1].set_xticks(np.arange(-0.25, 1.75, 0.25))\n",
    "ax[2].set_xticks(np.arange(-0.25, 1.5, 0.25))\n",
    "\n",
    "f.savefig(\"EI-resnik.svg\")"
   ]
  },
  {
   "cell_type": "code",
   "execution_count": 97,
   "id": "0a16a7be-0dbe-4ad6-9009-9337132cfe9d",
   "metadata": {},
   "outputs": [
    {
     "data": {
      "text/html": [
       "<div>\n",
       "<style scoped>\n",
       "    .dataframe tbody tr th:only-of-type {\n",
       "        vertical-align: middle;\n",
       "    }\n",
       "\n",
       "    .dataframe tbody tr th {\n",
       "        vertical-align: top;\n",
       "    }\n",
       "\n",
       "    .dataframe thead th {\n",
       "        text-align: right;\n",
       "    }\n",
       "</style>\n",
       "<table border=\"1\" class=\"dataframe\">\n",
       "  <thead>\n",
       "    <tr style=\"text-align: right;\">\n",
       "      <th></th>\n",
       "      <th>N_valid_pathways</th>\n",
       "      <th>avg_strict_score</th>\n",
       "      <th>avg_lenient_score</th>\n",
       "    </tr>\n",
       "  </thead>\n",
       "  <tbody>\n",
       "    <tr>\n",
       "      <th>0</th>\n",
       "      <td>71</td>\n",
       "      <td>0.183</td>\n",
       "      <td>0.229</td>\n",
       "    </tr>\n",
       "    <tr>\n",
       "      <th>1</th>\n",
       "      <td>320</td>\n",
       "      <td>0.118</td>\n",
       "      <td>0.284</td>\n",
       "    </tr>\n",
       "    <tr>\n",
       "      <th>2</th>\n",
       "      <td>51</td>\n",
       "      <td>0.254</td>\n",
       "      <td>0.318</td>\n",
       "    </tr>\n",
       "    <tr>\n",
       "      <th>3</th>\n",
       "      <td>55</td>\n",
       "      <td>0.400</td>\n",
       "      <td>0.555</td>\n",
       "    </tr>\n",
       "  </tbody>\n",
       "</table>\n",
       "</div>"
      ],
      "text/plain": [
       "   N_valid_pathways  avg_strict_score  avg_lenient_score\n",
       "0                71             0.183              0.229\n",
       "1               320             0.118              0.284\n",
       "2                51             0.254              0.318\n",
       "3                55             0.400              0.555"
      ]
     },
     "execution_count": 97,
     "metadata": {},
     "output_type": "execute_result"
    }
   ],
   "source": [
    "## Computation of valid pathways\n",
    "\n",
    "pathway_res = [(71, 0.183, 0.229), (320, 0.118, 0.284), (51, 0.254, 0.318), (55, 0.4, 0.555), ]\n",
    "pathdf = pd.DataFrame(pathway_res, columns=[\"N_valid_pathways\", \"avg_strict_score\", \"avg_lenient_score\"])\n",
    "pathdf"
   ]
  },
  {
   "cell_type": "code",
   "execution_count": 98,
   "id": "c36f113c-1ead-4be3-9853-96d0c78e7a9d",
   "metadata": {},
   "outputs": [
    {
     "data": {
      "text/html": [
       "<div>\n",
       "<style scoped>\n",
       "    .dataframe tbody tr th:only-of-type {\n",
       "        vertical-align: middle;\n",
       "    }\n",
       "\n",
       "    .dataframe tbody tr th {\n",
       "        vertical-align: top;\n",
       "    }\n",
       "\n",
       "    .dataframe thead th {\n",
       "        text-align: right;\n",
       "    }\n",
       "</style>\n",
       "<table border=\"1\" class=\"dataframe\">\n",
       "  <thead>\n",
       "    <tr style=\"text-align: right;\">\n",
       "      <th></th>\n",
       "      <th>N_valid_pathways</th>\n",
       "      <th>avg_strict_score</th>\n",
       "      <th>avg_lenient_score</th>\n",
       "    </tr>\n",
       "    <tr>\n",
       "      <th>Network</th>\n",
       "      <th></th>\n",
       "      <th></th>\n",
       "      <th></th>\n",
       "    </tr>\n",
       "  </thead>\n",
       "  <tbody>\n",
       "    <tr>\n",
       "      <th>Y2H</th>\n",
       "      <td>71</td>\n",
       "      <td>0.183</td>\n",
       "      <td>0.229</td>\n",
       "    </tr>\n",
       "    <tr>\n",
       "      <th>Co-IP</th>\n",
       "      <td>320</td>\n",
       "      <td>0.118</td>\n",
       "      <td>0.284</td>\n",
       "    </tr>\n",
       "    <tr>\n",
       "      <th>Y2H-shared</th>\n",
       "      <td>51</td>\n",
       "      <td>0.254</td>\n",
       "      <td>0.318</td>\n",
       "    </tr>\n",
       "    <tr>\n",
       "      <th>Co-IP-shared</th>\n",
       "      <td>55</td>\n",
       "      <td>0.400</td>\n",
       "      <td>0.555</td>\n",
       "    </tr>\n",
       "  </tbody>\n",
       "</table>\n",
       "</div>"
      ],
      "text/plain": [
       "              N_valid_pathways  avg_strict_score  avg_lenient_score\n",
       "Network                                                            \n",
       "Y2H                         71             0.183              0.229\n",
       "Co-IP                      320             0.118              0.284\n",
       "Y2H-shared                  51             0.254              0.318\n",
       "Co-IP-shared                55             0.400              0.555"
      ]
     },
     "execution_count": 98,
     "metadata": {},
     "output_type": "execute_result"
    }
   ],
   "source": [
    "pathdf[\"Network\"] = [\"Y2H\", \"Co-IP\", \"Y2H-shared\", \"Co-IP-shared\"]\n",
    "pathdf = pathdf.set_index(\"Network\")\n",
    "pathdf"
   ]
  },
  {
   "cell_type": "code",
   "execution_count": 101,
   "id": "c88cf300-0089-49b6-b23d-96806b734d8f",
   "metadata": {},
   "outputs": [
    {
     "data": {
      "image/png": "[encoded data removed]",
      "text/plain": [
       "<Figure size 1080x432 with 3 Axes>"
      ]
     },
     "metadata": {},
     "output_type": "display_data"
    }
   ],
   "source": [
    "f, ax = plt.subplots(1, 3, figsize = (15, 6))\n",
    "sns.barplot(x = pathdf.index, y=\"N_valid_pathways\", data = pathdf, color=\"brown\", orient= \"v\", ax=ax[0])\n",
    "sns.barplot(x = pathdf.index, y=\"avg_strict_score\", data = pathdf, color=\"gray\", orient= \"v\", ax = ax[1])\n",
    "sns.barplot(x = pathdf.index, y=\"avg_lenient_score\", data = pathdf, color=\"purple\", orient= \"v\", ax = ax[2])\n",
    "f.tight_layout()\n",
    "f.savefig(\"pathway_analysis.svg\")"
   ]
  },
  {
   "cell_type": "code",
   "execution_count": null,
   "id": "c67d88fd-4b19-4cdd-9fa6-f41cd13cf791",
   "metadata": {},
   "outputs": [],
   "source": []
  }
 ],
 "metadata": {
  "kernelspec": {
   "display_name": "main",
   "language": "python",
   "name": "main"
  },
  "language_info": {
   "codemirror_mode": {
    "name": "ipython",
    "version": 3
   },
   "file_extension": ".py",
   "mimetype": "text/x-python",
   "name": "python",
   "nbconvert_exporter": "python",
   "pygments_lexer": "ipython3",
   "version": "3.9.15"
  }
 },
 "nbformat": 4,
 "nbformat_minor": 5
}
