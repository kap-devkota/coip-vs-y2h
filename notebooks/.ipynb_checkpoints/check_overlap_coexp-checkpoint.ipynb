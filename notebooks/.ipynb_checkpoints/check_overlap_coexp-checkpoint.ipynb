{
 "cells": [
  {
   "cell_type": "markdown",
   "id": "5089921e-d39b-43c9-9fe5-08d884b03d70",
   "metadata": {},
   "source": [
    "## Generate the Correlation Matrix"
   ]
  },
  {
   "cell_type": "code",
   "execution_count": 22,
   "id": "4ac98bc4-d24c-4a8d-abd1-08ffb3a68b41",
   "metadata": {},
   "outputs": [],
   "source": [
    "import pandas as pd\n",
    "coexp_df = pd.read_csv(\"../data/rsingh/hs_encode_rnaseq_NORMALIZED.csv\")"
   ]
  },
  {
   "cell_type": "code",
   "execution_count": 23,
   "id": "a3580955-51c9-48f1-9b8f-e0309b4186bd",
   "metadata": {},
   "outputs": [],
   "source": [
    "coexp_mat = coexp_df.to_numpy()\n",
    "coexp_map = {k: i for i, k in enumerate(coexp_df.columns)}\n",
    "coexp_mat = coexp_mat.T"
   ]
  },
  {
   "cell_type": "code",
   "execution_count": 24,
   "id": "92c0f2e8-ddf0-4681-ad88-c45febb4eaa9",
   "metadata": {},
   "outputs": [
    {
     "data": {
      "text/plain": [
       "['ENSG00000000003',\n",
       " 'ENSG00000000005',\n",
       " 'ENSG00000000419',\n",
       " 'ENSG00000000971',\n",
       " 'ENSG00000001036',\n",
       " 'ENSG00000001167',\n",
       " 'ENSG00000001460',\n",
       " 'ENSG00000001497',\n",
       " 'ENSG00000001561',\n",
       " 'ENSG00000001617']"
      ]
     },
     "execution_count": 24,
     "metadata": {},
     "output_type": "execute_result"
    }
   ],
   "source": [
    "list(coexp_map.keys())[:10]"
   ]
  },
  {
   "cell_type": "code",
   "execution_count": 26,
   "id": "5e2e8ca4-0845-4cd3-86c8-2830863f0872",
   "metadata": {},
   "outputs": [
    {
     "data": {
      "text/html": [
       "<div>\n",
       "<style scoped>\n",
       "    .dataframe tbody tr th:only-of-type {\n",
       "        vertical-align: middle;\n",
       "    }\n",
       "\n",
       "    .dataframe tbody tr th {\n",
       "        vertical-align: top;\n",
       "    }\n",
       "\n",
       "    .dataframe thead th {\n",
       "        text-align: right;\n",
       "    }\n",
       "</style>\n",
       "<table border=\"1\" class=\"dataframe\">\n",
       "  <thead>\n",
       "    <tr style=\"text-align: right;\">\n",
       "      <th></th>\n",
       "      <th>0</th>\n",
       "      <th>1</th>\n",
       "      <th>2</th>\n",
       "      <th>3</th>\n",
       "      <th>4</th>\n",
       "    </tr>\n",
       "  </thead>\n",
       "  <tbody>\n",
       "    <tr>\n",
       "      <th>Gene stable ID</th>\n",
       "      <td>ENSG00000198888</td>\n",
       "      <td>ENSG00000198888</td>\n",
       "      <td>ENSG00000198888</td>\n",
       "      <td>ENSG00000198763</td>\n",
       "      <td>ENSG00000198763</td>\n",
       "    </tr>\n",
       "    <tr>\n",
       "      <th>Gene stable ID version</th>\n",
       "      <td>ENSG00000198888.2</td>\n",
       "      <td>ENSG00000198888.2</td>\n",
       "      <td>ENSG00000198888.2</td>\n",
       "      <td>ENSG00000198763.3</td>\n",
       "      <td>ENSG00000198763.3</td>\n",
       "    </tr>\n",
       "    <tr>\n",
       "      <th>UniProtKB/TrEMBL ID</th>\n",
       "      <td>U5Z754</td>\n",
       "      <td>U5Z754</td>\n",
       "      <td>U5Z754</td>\n",
       "      <td>A0A1X7RBG6</td>\n",
       "      <td>A0A1X7RBG6</td>\n",
       "    </tr>\n",
       "    <tr>\n",
       "      <th>UniProtKB/Swiss-Prot ID</th>\n",
       "      <td>P03886</td>\n",
       "      <td>P03886</td>\n",
       "      <td>P03886</td>\n",
       "      <td>P03891</td>\n",
       "      <td>P03891</td>\n",
       "    </tr>\n",
       "    <tr>\n",
       "      <th>Gene Synonym</th>\n",
       "      <td>MTND1</td>\n",
       "      <td>NAD1</td>\n",
       "      <td>ND1</td>\n",
       "      <td>MTND2</td>\n",
       "      <td>NAD2</td>\n",
       "    </tr>\n",
       "    <tr>\n",
       "      <th>NCBI gene (formerly Entrezgene) ID</th>\n",
       "      <td>4535.0</td>\n",
       "      <td>4535.0</td>\n",
       "      <td>4535.0</td>\n",
       "      <td>4536.0</td>\n",
       "      <td>4536.0</td>\n",
       "    </tr>\n",
       "    <tr>\n",
       "      <th>Gene name</th>\n",
       "      <td>MT-ND1</td>\n",
       "      <td>MT-ND1</td>\n",
       "      <td>MT-ND1</td>\n",
       "      <td>MT-ND2</td>\n",
       "      <td>MT-ND2</td>\n",
       "    </tr>\n",
       "  </tbody>\n",
       "</table>\n",
       "</div>"
      ],
      "text/plain": [
       "                                                    0                  1  \\\n",
       "Gene stable ID                        ENSG00000198888    ENSG00000198888   \n",
       "Gene stable ID version              ENSG00000198888.2  ENSG00000198888.2   \n",
       "UniProtKB/TrEMBL ID                            U5Z754             U5Z754   \n",
       "UniProtKB/Swiss-Prot ID                        P03886             P03886   \n",
       "Gene Synonym                                    MTND1               NAD1   \n",
       "NCBI gene (formerly Entrezgene) ID             4535.0             4535.0   \n",
       "Gene name                                      MT-ND1             MT-ND1   \n",
       "\n",
       "                                                    2                  3  \\\n",
       "Gene stable ID                        ENSG00000198888    ENSG00000198763   \n",
       "Gene stable ID version              ENSG00000198888.2  ENSG00000198763.3   \n",
       "UniProtKB/TrEMBL ID                            U5Z754         A0A1X7RBG6   \n",
       "UniProtKB/Swiss-Prot ID                        P03886             P03891   \n",
       "Gene Synonym                                      ND1              MTND2   \n",
       "NCBI gene (formerly Entrezgene) ID             4535.0             4536.0   \n",
       "Gene name                                      MT-ND1             MT-ND2   \n",
       "\n",
       "                                                    4  \n",
       "Gene stable ID                        ENSG00000198763  \n",
       "Gene stable ID version              ENSG00000198763.3  \n",
       "UniProtKB/TrEMBL ID                        A0A1X7RBG6  \n",
       "UniProtKB/Swiss-Prot ID                        P03891  \n",
       "Gene Synonym                                     NAD2  \n",
       "NCBI gene (formerly Entrezgene) ID             4536.0  \n",
       "Gene name                                      MT-ND2  "
      ]
     },
     "execution_count": 26,
     "metadata": {},
     "output_type": "execute_result"
    }
   ],
   "source": [
    "r_coexp_map = {i: k for k, i in coexp_map.items()}\n",
    "name_df     = pd.read_csv(\"../data/rsingh/Biomart_Entrez-to-Uniprot_mapping.tsv\", sep = \"\\t\")\n",
    "gid_uprot   = {k: f\"uniprotkb:{v}\" for k, v in name_df.iloc[:, [0, 3]].values} \n",
    "name_df.head().T"
   ]
  },
  {
   "cell_type": "code",
   "execution_count": 27,
   "id": "46b061b3-6378-4d66-bed5-e2d841d32f08",
   "metadata": {},
   "outputs": [
    {
     "name": "stderr",
     "output_type": "stream",
     "text": [
      "/afs/csail.mit.edu/u/k/kdevko01/miniconda3/envs/mgattention/lib/python3.7/site-packages/scipy/stats/stats.py:4023: PearsonRConstantInputWarning: An input array is constant; the correlation coefficient is not defined.\n",
      "  warnings.warn(PearsonRConstantInputWarning())\n"
     ]
    },
    {
     "data": {
      "text/plain": [
       "array([[ 0.        ,  0.19728986,  0.0382598 , ...,         nan,\n",
       "                nan,         nan],\n",
       "       [ 0.19728986,  0.        , -0.11627219, ...,         nan,\n",
       "                nan,         nan],\n",
       "       [ 0.0382598 , -0.11627219,  0.        , ...,         nan,\n",
       "                nan,         nan],\n",
       "       ...,\n",
       "       [        nan,         nan,         nan, ...,  0.        ,\n",
       "                nan,         nan],\n",
       "       [        nan,         nan,         nan, ...,         nan,\n",
       "         0.        ,         nan],\n",
       "       [        nan,         nan,         nan, ...,         nan,\n",
       "                nan,  0.        ]])"
      ]
     },
     "execution_count": 27,
     "metadata": {},
     "output_type": "execute_result"
    }
   ],
   "source": [
    "from scipy.stats.stats import pearsonr\n",
    "import numpy as np\n",
    "\n",
    "n = len(coexp_map)\n",
    "\n",
    "# The final correlation matrix\n",
    "corrmat = np.zeros((n, n))\n",
    "\n",
    "try:\n",
    "    for i in range(n):\n",
    "        for j in range(i):\n",
    "            corr, pval = pearsonr(coexp_mat[i], coexp_mat[j])\n",
    "            corrmat[i, j] = corr\n",
    "            corrmat[j, i] = corr\n",
    "except:\n",
    "    print(f\"{i} {j}\")\n",
    "corrmat"
   ]
  },
  {
   "cell_type": "code",
   "execution_count": 28,
   "id": "67e88974-b0b4-41c4-bdb5-6a96e69afecc",
   "metadata": {},
   "outputs": [],
   "source": [
    "corrmat = np.where(corrmat == np.nan, 0, corrmat)\n",
    "corrmat = np.absolute(corrmat)\n",
    "np.save(\"data+results/correlation-mat.npy\", corrmat)"
   ]
  },
  {
   "cell_type": "code",
   "execution_count": 29,
   "id": "52c06f17-7a61-41e7-9c47-1deaefe5582a",
   "metadata": {},
   "outputs": [],
   "source": [
    "row, col = np.nonzero(np.triu(corrmat))"
   ]
  },
  {
   "cell_type": "code",
   "execution_count": 30,
   "id": "6e4bb5bd-721a-4bb0-8f65-71e716b73e73",
   "metadata": {},
   "outputs": [],
   "source": [
    "val = [corrmat[r, c] for r, c in zip(row, col)]"
   ]
  },
  {
   "cell_type": "markdown",
   "id": "8c55ab6f-4edb-4b75-8e82-b250c4a5bbc3",
   "metadata": {},
   "source": [
    "### Applying the thresholding of 0.6. \n",
    "Citation: https://academic.oup.com/bioinformatics/article/23/16/2096/198635"
   ]
  },
  {
   "cell_type": "code",
   "execution_count": 31,
   "id": "f2a32a35-83f8-4346-903f-37d6bcf75703",
   "metadata": {},
   "outputs": [],
   "source": [
    "import networkx as nx\n",
    "\n",
    "G_all = nx.Graph()\n",
    "edges_t       = [(r_coexp_map[i], r_coexp_map[j], w) for i, j, w in zip(row, col, val) if w >= 0.6]\n",
    "uprot_edges_t = [(gid_uprot[k], gid_uprot[v], w) for k, v, w in edges_t if \n",
    "                (k in gid_uprot and v in gid_uprot)] \n",
    "G_all.add_weighted_edges_from(uprot_edges_t)"
   ]
  },
  {
   "cell_type": "markdown",
   "id": "437d7292-b89f-439c-a4fb-4ffd522c93d6",
   "metadata": {},
   "source": [
    "#### Saving"
   ]
  },
  {
   "cell_type": "code",
   "execution_count": 32,
   "id": "74eb07ba-296e-40a4-b031-76755cb9d74e",
   "metadata": {},
   "outputs": [],
   "source": [
    "nx.write_weighted_edgelist(G_all, \"../results/coexp_0.6.txt\")"
   ]
  },
  {
   "cell_type": "code",
   "execution_count": 33,
   "id": "d46b2ee6-83e8-4c38-ae67-64fd1a2cb091",
   "metadata": {},
   "outputs": [
    {
     "data": {
      "text/plain": [
       "(4998, 5027)"
      ]
     },
     "execution_count": 33,
     "metadata": {},
     "output_type": "execute_result"
    }
   ],
   "source": [
    "cc = max(nx.connected_components(G_all), key = len)\n",
    "len(cc), G_all.number_of_nodes()"
   ]
  },
  {
   "cell_type": "code",
   "execution_count": 35,
   "id": "9b87934c-9db2-4a60-ac2a-ca7df25f03b7",
   "metadata": {},
   "outputs": [],
   "source": [
    "import json\n",
    "np.save(\"data+results/correlation-mat.npy\", corr)\n",
    "with open(\"correlation.json\", \"w\") as oj:\n",
    "    json.dump(coexp_map, oj)"
   ]
  },
  {
   "cell_type": "markdown",
   "id": "a1f05d69-643f-4635-b2db-51bbe50123fb",
   "metadata": {},
   "source": [
    "## Loading the networks"
   ]
  },
  {
   "cell_type": "code",
   "execution_count": 41,
   "id": "e4e3789d-e02f-4106-a63c-aae5aa13c032",
   "metadata": {},
   "outputs": [
    {
     "data": {
      "text/html": [
       "<div>\n",
       "<style scoped>\n",
       "    .dataframe tbody tr th:only-of-type {\n",
       "        vertical-align: middle;\n",
       "    }\n",
       "\n",
       "    .dataframe tbody tr th {\n",
       "        vertical-align: top;\n",
       "    }\n",
       "\n",
       "    .dataframe thead th {\n",
       "        text-align: right;\n",
       "    }\n",
       "</style>\n",
       "<table border=\"1\" class=\"dataframe\">\n",
       "  <thead>\n",
       "    <tr style=\"text-align: right;\">\n",
       "      <th></th>\n",
       "      <th>0</th>\n",
       "      <th>1</th>\n",
       "      <th>2</th>\n",
       "      <th>3</th>\n",
       "    </tr>\n",
       "  </thead>\n",
       "  <tbody>\n",
       "    <tr>\n",
       "      <th>0</th>\n",
       "      <td>4764</td>\n",
       "      <td>uniprotkb:P20618</td>\n",
       "      <td>uniprotkb:P53701</td>\n",
       "      <td>0.622359</td>\n",
       "    </tr>\n",
       "    <tr>\n",
       "      <th>1</th>\n",
       "      <td>4765</td>\n",
       "      <td>uniprotkb:P20618</td>\n",
       "      <td>uniprotkb:Q9NS18</td>\n",
       "      <td>0.688044</td>\n",
       "    </tr>\n",
       "    <tr>\n",
       "      <th>2</th>\n",
       "      <td>4766</td>\n",
       "      <td>uniprotkb:P20618</td>\n",
       "      <td>uniprotkb:P82664</td>\n",
       "      <td>0.656090</td>\n",
       "    </tr>\n",
       "    <tr>\n",
       "      <th>3</th>\n",
       "      <td>4767</td>\n",
       "      <td>uniprotkb:P20618</td>\n",
       "      <td>uniprotkb:Q9UKD2</td>\n",
       "      <td>0.645368</td>\n",
       "    </tr>\n",
       "    <tr>\n",
       "      <th>4</th>\n",
       "      <td>4768</td>\n",
       "      <td>uniprotkb:P20618</td>\n",
       "      <td>uniprotkb:Q9ULW0</td>\n",
       "      <td>0.621352</td>\n",
       "    </tr>\n",
       "    <tr>\n",
       "      <th>...</th>\n",
       "      <td>...</td>\n",
       "      <td>...</td>\n",
       "      <td>...</td>\n",
       "      <td>...</td>\n",
       "    </tr>\n",
       "    <tr>\n",
       "      <th>169396</th>\n",
       "      <td>174160</td>\n",
       "      <td>uniprotkb:P10147</td>\n",
       "      <td>uniprotkb:Q8NHW4</td>\n",
       "      <td>0.647214</td>\n",
       "    </tr>\n",
       "    <tr>\n",
       "      <th>169397</th>\n",
       "      <td>174161</td>\n",
       "      <td>uniprotkb:P10147</td>\n",
       "      <td>uniprotkb:P16619</td>\n",
       "      <td>0.712838</td>\n",
       "    </tr>\n",
       "    <tr>\n",
       "      <th>169398</th>\n",
       "      <td>174162</td>\n",
       "      <td>uniprotkb:Q8NHW4</td>\n",
       "      <td>uniprotkb:P16619</td>\n",
       "      <td>0.609473</td>\n",
       "    </tr>\n",
       "    <tr>\n",
       "      <th>169399</th>\n",
       "      <td>174163</td>\n",
       "      <td>uniprotkb:Q9UI38</td>\n",
       "      <td>uniprotkb:A6NEH6</td>\n",
       "      <td>0.830250</td>\n",
       "    </tr>\n",
       "    <tr>\n",
       "      <th>169400</th>\n",
       "      <td>174164</td>\n",
       "      <td>uniprotkb:A6NEH6</td>\n",
       "      <td>uniprotkb:A0A1B0GWH4</td>\n",
       "      <td>0.634570</td>\n",
       "    </tr>\n",
       "  </tbody>\n",
       "</table>\n",
       "<p>169401 rows × 4 columns</p>\n",
       "</div>"
      ],
      "text/plain": [
       "             0                 1                     2         3\n",
       "0         4764  uniprotkb:P20618      uniprotkb:P53701  0.622359\n",
       "1         4765  uniprotkb:P20618      uniprotkb:Q9NS18  0.688044\n",
       "2         4766  uniprotkb:P20618      uniprotkb:P82664  0.656090\n",
       "3         4767  uniprotkb:P20618      uniprotkb:Q9UKD2  0.645368\n",
       "4         4768  uniprotkb:P20618      uniprotkb:Q9ULW0  0.621352\n",
       "...        ...               ...                   ...       ...\n",
       "169396  174160  uniprotkb:P10147      uniprotkb:Q8NHW4  0.647214\n",
       "169397  174161  uniprotkb:P10147      uniprotkb:P16619  0.712838\n",
       "169398  174162  uniprotkb:Q8NHW4      uniprotkb:P16619  0.609473\n",
       "169399  174163  uniprotkb:Q9UI38      uniprotkb:A6NEH6  0.830250\n",
       "169400  174164  uniprotkb:A6NEH6  uniprotkb:A0A1B0GWH4  0.634570\n",
       "\n",
       "[169401 rows x 4 columns]"
      ]
     },
     "execution_count": 41,
     "metadata": {},
     "output_type": "execute_result"
    }
   ],
   "source": [
    "import pandas as pd\n",
    "\n",
    "coexpdf = pd.read_csv(\"../results/coexp_0.6.txt\", sep = \"\\t\", header = None)\n",
    "coexpdf"
   ]
  },
  {
   "cell_type": "markdown",
   "id": "8de70e93-9718-4dad-a30a-35a4415b0418",
   "metadata": {},
   "source": [
    "### Loading Y2H and coIP networks"
   ]
  },
  {
   "cell_type": "code",
   "execution_count": 42,
   "id": "2a129949-d23f-452d-8bef-6f37a370ae2a",
   "metadata": {},
   "outputs": [
    {
     "data": {
      "text/html": [
       "<div>\n",
       "<style scoped>\n",
       "    .dataframe tbody tr th:only-of-type {\n",
       "        vertical-align: middle;\n",
       "    }\n",
       "\n",
       "    .dataframe tbody tr th {\n",
       "        vertical-align: top;\n",
       "    }\n",
       "\n",
       "    .dataframe thead th {\n",
       "        text-align: right;\n",
       "    }\n",
       "</style>\n",
       "<table border=\"1\" class=\"dataframe\">\n",
       "  <thead>\n",
       "    <tr style=\"text-align: right;\">\n",
       "      <th></th>\n",
       "      <th>0</th>\n",
       "      <th>1</th>\n",
       "      <th>2</th>\n",
       "    </tr>\n",
       "  </thead>\n",
       "  <tbody>\n",
       "    <tr>\n",
       "      <th>0</th>\n",
       "      <td>uniprotkb:A0A0B4J1S8</td>\n",
       "      <td>uniprotkb:Q9H3P7</td>\n",
       "      <td>0.57</td>\n",
       "    </tr>\n",
       "    <tr>\n",
       "      <th>1</th>\n",
       "      <td>uniprotkb:Q9H3P7</td>\n",
       "      <td>uniprotkb:O43493</td>\n",
       "      <td>0.55</td>\n",
       "    </tr>\n",
       "    <tr>\n",
       "      <th>2</th>\n",
       "      <td>uniprotkb:Q9H3P7</td>\n",
       "      <td>uniprotkb:Q8WUA7</td>\n",
       "      <td>0.64</td>\n",
       "    </tr>\n",
       "    <tr>\n",
       "      <th>3</th>\n",
       "      <td>uniprotkb:Q9H3P7</td>\n",
       "      <td>uniprotkb:Q08378</td>\n",
       "      <td>0.40</td>\n",
       "    </tr>\n",
       "    <tr>\n",
       "      <th>4</th>\n",
       "      <td>uniprotkb:Q9H3P7</td>\n",
       "      <td>uniprotkb:Q9UBF8</td>\n",
       "      <td>0.54</td>\n",
       "    </tr>\n",
       "    <tr>\n",
       "      <th>...</th>\n",
       "      <td>...</td>\n",
       "      <td>...</td>\n",
       "      <td>...</td>\n",
       "    </tr>\n",
       "    <tr>\n",
       "      <th>29228</th>\n",
       "      <td>uniprotkb:Q9Y3C0</td>\n",
       "      <td>uniprotkb:Q9Y2V7</td>\n",
       "      <td>0.67</td>\n",
       "    </tr>\n",
       "    <tr>\n",
       "      <th>29229</th>\n",
       "      <td>uniprotkb:Q9Y3D3</td>\n",
       "      <td>uniprotkb:Q9Y4X4</td>\n",
       "      <td>0.42</td>\n",
       "    </tr>\n",
       "    <tr>\n",
       "      <th>29230</th>\n",
       "      <td>uniprotkb:Q9Y4X4</td>\n",
       "      <td>uniprotkb:Q8NCR0</td>\n",
       "      <td>0.42</td>\n",
       "    </tr>\n",
       "    <tr>\n",
       "      <th>29231</th>\n",
       "      <td>uniprotkb:Q9Y6I4</td>\n",
       "      <td>uniprotkb:Q8N5D0</td>\n",
       "      <td>0.40</td>\n",
       "    </tr>\n",
       "    <tr>\n",
       "      <th>29232</th>\n",
       "      <td>uniprotkb:Q9Y6X8</td>\n",
       "      <td>uniprotkb:Q9Y6X8</td>\n",
       "      <td>0.51</td>\n",
       "    </tr>\n",
       "  </tbody>\n",
       "</table>\n",
       "<p>29233 rows × 3 columns</p>\n",
       "</div>"
      ],
      "text/plain": [
       "                          0                 1     2\n",
       "0      uniprotkb:A0A0B4J1S8  uniprotkb:Q9H3P7  0.57\n",
       "1          uniprotkb:Q9H3P7  uniprotkb:O43493  0.55\n",
       "2          uniprotkb:Q9H3P7  uniprotkb:Q8WUA7  0.64\n",
       "3          uniprotkb:Q9H3P7  uniprotkb:Q08378  0.40\n",
       "4          uniprotkb:Q9H3P7  uniprotkb:Q9UBF8  0.54\n",
       "...                     ...               ...   ...\n",
       "29228      uniprotkb:Q9Y3C0  uniprotkb:Q9Y2V7  0.67\n",
       "29229      uniprotkb:Q9Y3D3  uniprotkb:Q9Y4X4  0.42\n",
       "29230      uniprotkb:Q9Y4X4  uniprotkb:Q8NCR0  0.42\n",
       "29231      uniprotkb:Q9Y6I4  uniprotkb:Q8N5D0  0.40\n",
       "29232      uniprotkb:Q9Y6X8  uniprotkb:Q9Y6X8  0.51\n",
       "\n",
       "[29233 rows x 3 columns]"
      ]
     },
     "execution_count": 42,
     "metadata": {},
     "output_type": "execute_result"
    }
   ],
   "source": [
    "coip = pd.read_csv(\"../data/networks/coip_hc_full.tsv\", sep = \"\\t\", header = None)\n",
    "y2h =  pd.read_csv(\"../data/networks/y2h_hc_full.tsv\", sep = \"\\t\", header = None)\n",
    "coip_sh =  pd.read_csv(\"../data/networks/coip_hc_shared.tsv\", sep = \"\\t\", header = None)\n",
    "y2h_sh =  pd.read_csv(\"../data/networks/y2h_hc_shared.tsv\", sep = \"\\t\", header = None)\n",
    "coip"
   ]
  },
  {
   "cell_type": "code",
   "execution_count": 43,
   "id": "73e00406-4bae-4ddc-98b6-3f3613bca37a",
   "metadata": {},
   "outputs": [],
   "source": [
    "def getnodes(netdf):\n",
    "    return set(netdf[0]).union(set(netdf[1]))\n",
    "cn = getnodes(coip)\n",
    "yn = getnodes(y2h)\n",
    "csn = getnodes(coip_sh)\n",
    "ysn = getnodes(y2h_sh)\n",
    "coexpn = getnodes(coexpdf)"
   ]
  },
  {
   "cell_type": "code",
   "execution_count": 45,
   "id": "0a1397ee-0568-415d-9aca-e5ca35b8a1ad",
   "metadata": {},
   "outputs": [
    {
     "data": {
      "text/plain": [
       "(1151, 1321, 545, 534, 173070, 8433, 7364)"
      ]
     },
     "execution_count": 45,
     "metadata": {},
     "output_type": "execute_result"
    }
   ],
   "source": [
    "len(cn.intersection(coexpn)), len(yn.intersection(coexpn)), len(csn.intersection(coexpn)), len(ysn.intersection(coexpn)), len(coexpn), len(cn), len(yn)"
   ]
  },
  {
   "cell_type": "code",
   "execution_count": 46,
   "id": "537c17d8-9051-456f-8889-b7c04d0ab81c",
   "metadata": {},
   "outputs": [
    {
     "ename": "ZeroDivisionError",
     "evalue": "float division by zero",
     "output_type": "error",
     "traceback": [
      "\u001b[0;31m---------------------------------------------------------------------------\u001b[0m",
      "\u001b[0;31mZeroDivisionError\u001b[0m                         Traceback (most recent call last)",
      "\u001b[0;32m/tmp/ipykernel_2029932/3555078076.py\u001b[0m in \u001b[0;36m<module>\u001b[0;34m\u001b[0m\n\u001b[1;32m     11\u001b[0m     \u001b[0;32mreturn\u001b[0m \u001b[0mfloat\u001b[0m\u001b[0;34m(\u001b[0m\u001b[0mGsubint\u001b[0m\u001b[0;34m.\u001b[0m\u001b[0mnumber_of_edges\u001b[0m\u001b[0;34m(\u001b[0m\u001b[0;34m)\u001b[0m\u001b[0;34m)\u001b[0m \u001b[0;34m/\u001b[0m \u001b[0mGsubco\u001b[0m\u001b[0;34m.\u001b[0m\u001b[0mnumber_of_edges\u001b[0m\u001b[0;34m(\u001b[0m\u001b[0;34m)\u001b[0m\u001b[0;34m\u001b[0m\u001b[0;34m\u001b[0m\u001b[0m\n\u001b[1;32m     12\u001b[0m \u001b[0;34m\u001b[0m\u001b[0m\n\u001b[0;32m---> 13\u001b[0;31m \u001b[0mget_intersection_ratio\u001b[0m\u001b[0;34m(\u001b[0m\u001b[0mcoip\u001b[0m\u001b[0;34m,\u001b[0m \u001b[0mcoexpdf\u001b[0m\u001b[0;34m)\u001b[0m\u001b[0;34m\u001b[0m\u001b[0;34m\u001b[0m\u001b[0m\n\u001b[0m",
      "\u001b[0;32m/tmp/ipykernel_2029932/3555078076.py\u001b[0m in \u001b[0;36mget_intersection_ratio\u001b[0;34m(dfnet, dfco)\u001b[0m\n\u001b[1;32m      9\u001b[0m \u001b[0;34m\u001b[0m\u001b[0m\n\u001b[1;32m     10\u001b[0m     \u001b[0mGsubint\u001b[0m \u001b[0;34m=\u001b[0m \u001b[0mnx\u001b[0m\u001b[0;34m.\u001b[0m\u001b[0mintersection\u001b[0m\u001b[0;34m(\u001b[0m\u001b[0mGsubnet\u001b[0m\u001b[0;34m,\u001b[0m \u001b[0mGsubco\u001b[0m\u001b[0;34m)\u001b[0m\u001b[0;34m\u001b[0m\u001b[0;34m\u001b[0m\u001b[0m\n\u001b[0;32m---> 11\u001b[0;31m     \u001b[0;32mreturn\u001b[0m \u001b[0mfloat\u001b[0m\u001b[0;34m(\u001b[0m\u001b[0mGsubint\u001b[0m\u001b[0;34m.\u001b[0m\u001b[0mnumber_of_edges\u001b[0m\u001b[0;34m(\u001b[0m\u001b[0;34m)\u001b[0m\u001b[0;34m)\u001b[0m \u001b[0;34m/\u001b[0m \u001b[0mGsubco\u001b[0m\u001b[0;34m.\u001b[0m\u001b[0mnumber_of_edges\u001b[0m\u001b[0;34m(\u001b[0m\u001b[0;34m)\u001b[0m\u001b[0;34m\u001b[0m\u001b[0;34m\u001b[0m\u001b[0m\n\u001b[0m\u001b[1;32m     12\u001b[0m \u001b[0;34m\u001b[0m\u001b[0m\n\u001b[1;32m     13\u001b[0m \u001b[0mget_intersection_ratio\u001b[0m\u001b[0;34m(\u001b[0m\u001b[0mcoip\u001b[0m\u001b[0;34m,\u001b[0m \u001b[0mcoexpdf\u001b[0m\u001b[0;34m)\u001b[0m\u001b[0;34m\u001b[0m\u001b[0;34m\u001b[0m\u001b[0m\n",
      "\u001b[0;31mZeroDivisionError\u001b[0m: float division by zero"
     ]
    }
   ],
   "source": [
    "import networkx as nx\n",
    "\n",
    "def get_intersection_ratio(dfnet, dfco):\n",
    "    Gnet = nx.from_pandas_edgelist(dfnet, 0, 1, 2)\n",
    "    Gco = nx.from_pandas_edgelist(dfco, 0, 1, 2)\n",
    "    node_inter = set(Gnet.nodes()).intersection(set(Gco.nodes()))\n",
    "    print(len(node_inter))\n",
    "    Gsubnet = Gnet.subgraph(list(node_inter))\n",
    "    Gsubco  = Gco.subgraph(list(node_inter))\n",
    "    \n",
    "    Gsubint = nx.intersection(Gsubnet, Gsubco)\n",
    "    return float(Gsubint.number_of_edges()) / Gsubco.number_of_edges()\n",
    "\n",
    "get_intersection_ratio(coip, coexpdf)"
   ]
  },
  {
   "cell_type": "code",
   "execution_count": null,
   "id": "dc507a7d-a602-48fe-bcac-8c94e41a110d",
   "metadata": {},
   "outputs": [],
   "source": []
  }
 ],
 "metadata": {
  "kernelspec": {
   "display_name": "mgattention",
   "language": "python",
   "name": "mgattention"
  },
  "language_info": {
   "codemirror_mode": {
    "name": "ipython",
    "version": 3
   },
   "file_extension": ".py",
   "mimetype": "text/x-python",
   "name": "python",
   "nbconvert_exporter": "python",
   "pygments_lexer": "ipython3",
   "version": "3.7.12"
  }
 },
 "nbformat": 4,
 "nbformat_minor": 5
}
