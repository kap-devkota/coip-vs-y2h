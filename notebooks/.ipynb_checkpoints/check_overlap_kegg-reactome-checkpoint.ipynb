{
 "cells": [
  {
   "cell_type": "code",
   "execution_count": 1,
   "id": "2ed8eb22-51c8-4693-822c-8e4af276d516",
   "metadata": {},
   "outputs": [],
   "source": [
    "import networkx as nx\n",
    "import numpy as np\n",
    "import pandas as pd"
   ]
  },
  {
   "cell_type": "markdown",
   "id": "faf4ffd7-6364-4e39-89a6-df6f1c35ed36",
   "metadata": {},
   "source": [
    "## Load REACTOME pathways"
   ]
  },
  {
   "cell_type": "code",
   "execution_count": 2,
   "id": "3aa73faa-4e5d-424e-8ff7-2a4cd2c4640a",
   "metadata": {},
   "outputs": [],
   "source": [
    "import re\n",
    "\n",
    "reactome_loc = \"../data/rsingh/ReactomePathways.gmt\"\n",
    "pathways     = {}\n",
    "desc         = {}\n",
    "pathprots_h  = set()\n",
    "with open(reactome_loc, \"r\") as rl:\n",
    "    for line in rl:\n",
    "        entries = re.split(r\"\\t\", line.strip())\n",
    "        pathways[entries[1]] = entries[2:]\n",
    "        pathprots_h.update(entries[2:])\n",
    "        desc[entries[1]]     = entries[0]"
   ]
  },
  {
   "cell_type": "code",
   "execution_count": 3,
   "id": "3b0d4842-76f3-4949-9291-dde2904af40f",
   "metadata": {
    "tags": []
   },
   "outputs": [
    {
     "data": {
      "text/plain": [
       "2546"
      ]
     },
     "execution_count": 3,
     "metadata": {},
     "output_type": "execute_result"
    }
   ],
   "source": [
    "len(pathways)"
   ]
  },
  {
   "cell_type": "markdown",
   "id": "3aa1b25e-512b-4d34-848a-36e0d8d5c85b",
   "metadata": {},
   "source": [
    "## Load the Namespace"
   ]
  },
  {
   "cell_type": "code",
   "execution_count": 4,
   "id": "dec7e182-e177-4c06-bd91-5aa3de3394ee",
   "metadata": {},
   "outputs": [
    {
     "data": {
      "text/html": [
       "<div>\n",
       "<style scoped>\n",
       "    .dataframe tbody tr th:only-of-type {\n",
       "        vertical-align: middle;\n",
       "    }\n",
       "\n",
       "    .dataframe tbody tr th {\n",
       "        vertical-align: top;\n",
       "    }\n",
       "\n",
       "    .dataframe thead th {\n",
       "        text-align: right;\n",
       "    }\n",
       "</style>\n",
       "<table border=\"1\" class=\"dataframe\">\n",
       "  <thead>\n",
       "    <tr style=\"text-align: right;\">\n",
       "      <th></th>\n",
       "      <th>0</th>\n",
       "      <th>1</th>\n",
       "      <th>2</th>\n",
       "      <th>3</th>\n",
       "      <th>4</th>\n",
       "    </tr>\n",
       "  </thead>\n",
       "  <tbody>\n",
       "    <tr>\n",
       "      <th>Gene stable ID</th>\n",
       "      <td>ENSG00000198888</td>\n",
       "      <td>ENSG00000198888</td>\n",
       "      <td>ENSG00000198888</td>\n",
       "      <td>ENSG00000198763</td>\n",
       "      <td>ENSG00000198763</td>\n",
       "    </tr>\n",
       "    <tr>\n",
       "      <th>Gene stable ID version</th>\n",
       "      <td>ENSG00000198888.2</td>\n",
       "      <td>ENSG00000198888.2</td>\n",
       "      <td>ENSG00000198888.2</td>\n",
       "      <td>ENSG00000198763.3</td>\n",
       "      <td>ENSG00000198763.3</td>\n",
       "    </tr>\n",
       "    <tr>\n",
       "      <th>UniProtKB/TrEMBL ID</th>\n",
       "      <td>U5Z754</td>\n",
       "      <td>U5Z754</td>\n",
       "      <td>U5Z754</td>\n",
       "      <td>A0A1X7RBG6</td>\n",
       "      <td>A0A1X7RBG6</td>\n",
       "    </tr>\n",
       "    <tr>\n",
       "      <th>UniProtKB/Swiss-Prot ID</th>\n",
       "      <td>P03886</td>\n",
       "      <td>P03886</td>\n",
       "      <td>P03886</td>\n",
       "      <td>P03891</td>\n",
       "      <td>P03891</td>\n",
       "    </tr>\n",
       "    <tr>\n",
       "      <th>Gene Synonym</th>\n",
       "      <td>MTND1</td>\n",
       "      <td>NAD1</td>\n",
       "      <td>ND1</td>\n",
       "      <td>MTND2</td>\n",
       "      <td>NAD2</td>\n",
       "    </tr>\n",
       "    <tr>\n",
       "      <th>NCBI gene (formerly Entrezgene) ID</th>\n",
       "      <td>4535.0</td>\n",
       "      <td>4535.0</td>\n",
       "      <td>4535.0</td>\n",
       "      <td>4536.0</td>\n",
       "      <td>4536.0</td>\n",
       "    </tr>\n",
       "    <tr>\n",
       "      <th>Gene name</th>\n",
       "      <td>MT-ND1</td>\n",
       "      <td>MT-ND1</td>\n",
       "      <td>MT-ND1</td>\n",
       "      <td>MT-ND2</td>\n",
       "      <td>MT-ND2</td>\n",
       "    </tr>\n",
       "  </tbody>\n",
       "</table>\n",
       "</div>"
      ],
      "text/plain": [
       "                                                    0                  1  \\\n",
       "Gene stable ID                        ENSG00000198888    ENSG00000198888   \n",
       "Gene stable ID version              ENSG00000198888.2  ENSG00000198888.2   \n",
       "UniProtKB/TrEMBL ID                            U5Z754             U5Z754   \n",
       "UniProtKB/Swiss-Prot ID                        P03886             P03886   \n",
       "Gene Synonym                                    MTND1               NAD1   \n",
       "NCBI gene (formerly Entrezgene) ID             4535.0             4535.0   \n",
       "Gene name                                      MT-ND1             MT-ND1   \n",
       "\n",
       "                                                    2                  3  \\\n",
       "Gene stable ID                        ENSG00000198888    ENSG00000198763   \n",
       "Gene stable ID version              ENSG00000198888.2  ENSG00000198763.3   \n",
       "UniProtKB/TrEMBL ID                            U5Z754         A0A1X7RBG6   \n",
       "UniProtKB/Swiss-Prot ID                        P03886             P03891   \n",
       "Gene Synonym                                      ND1              MTND2   \n",
       "NCBI gene (formerly Entrezgene) ID             4535.0             4536.0   \n",
       "Gene name                                      MT-ND1             MT-ND2   \n",
       "\n",
       "                                                    4  \n",
       "Gene stable ID                        ENSG00000198763  \n",
       "Gene stable ID version              ENSG00000198763.3  \n",
       "UniProtKB/TrEMBL ID                        A0A1X7RBG6  \n",
       "UniProtKB/Swiss-Prot ID                        P03891  \n",
       "Gene Synonym                                     NAD2  \n",
       "NCBI gene (formerly Entrezgene) ID             4536.0  \n",
       "Gene name                                      MT-ND2  "
      ]
     },
     "execution_count": 4,
     "metadata": {},
     "output_type": "execute_result"
    }
   ],
   "source": [
    "namespace = pd.read_csv(\"../data/rsingh/Biomart_Entrez-to-Uniprot_mapping.tsv\", sep = \"\\t\")\n",
    "namespace = namespace.dropna(subset = [namespace.columns[3], namespace.columns[6]])\n",
    "namespace.head().T"
   ]
  },
  {
   "cell_type": "code",
   "execution_count": 5,
   "id": "731ee82e-9261-413f-aa1a-4aa35e37066e",
   "metadata": {
    "tags": []
   },
   "outputs": [
    {
     "data": {
      "text/plain": [
       "19221"
      ]
     },
     "execution_count": 5,
     "metadata": {},
     "output_type": "execute_result"
    }
   ],
   "source": [
    "humap = {k: v for v, k in namespace.iloc[:, [3, 6]].values if all([k != None, v != None])}\n",
    "uhmap = {v: k for k, v in humap.items()}\n",
    "len(uhmap)"
   ]
  },
  {
   "cell_type": "markdown",
   "id": "0d9bc8ef-f42a-474f-bca2-89c4723c7693",
   "metadata": {},
   "source": [
    "## Process the Pathways based on this map"
   ]
  },
  {
   "cell_type": "code",
   "execution_count": 6,
   "id": "f58aae10-ff2b-46d6-ab2d-6403bbb884f4",
   "metadata": {
    "tags": []
   },
   "outputs": [
    {
     "data": {
      "text/plain": [
       "(1571, 2546)"
      ]
     },
     "execution_count": 6,
     "metadata": {},
     "output_type": "execute_result"
    }
   ],
   "source": [
    "fpathways = {}\n",
    "for key, value in pathways.items():\n",
    "    accept = all([pid in humap for pid in value]) and len(value) >= 2\n",
    "    if accept:\n",
    "        fpathways[key] = [f\"uniprotkb:{humap[k]}\" for k in value]\n",
    "len(fpathways), len(pathways)"
   ]
  },
  {
   "cell_type": "code",
   "execution_count": 39,
   "id": "babd7153-4026-467d-bb5e-9f555a3520ab",
   "metadata": {},
   "outputs": [],
   "source": [
    "def check_path_strict(G, path):\n",
    "    assert len(path) >= 2\n",
    "    curr = path[0]\n",
    "    for nxt in path[1:]:\n",
    "        if not G.has_edge(curr, nxt):\n",
    "            return 0\n",
    "        curr = nxt\n",
    "    return 1\n",
    "\n",
    "def check_path_lenient(G, path):\n",
    "    assert len(path) >= 2\n",
    "    curr = path[0]\n",
    "    for nxt in path[1:]:\n",
    "        if G.has_edge(curr, nxt):\n",
    "            return 1\n",
    "        curr = nxt\n",
    "    return 0\n",
    "\n",
    "def check_path_ratio(G, path):\n",
    "    assert len(path) >= 2\n",
    "    curr  = path[0]\n",
    "    ntrue = 0\n",
    "    for nxt in path[1: ]:\n",
    "        if G.has_edge(curr, nxt):\n",
    "            ntrue += 1\n",
    "    return float(ntrue) / (len(path) - 1)\n",
    "\n",
    "def check_paths(G, pathways, check_types = []):\n",
    "    assert len(check_types) > 0\n",
    "    res = np.zeros((len(check_types), ))\n",
    "    for _, path in pathways.items():\n",
    "        for i, check in enumerate(check_types):\n",
    "            res[i] += check(G, path)\n",
    "    res /= len(pathways)\n",
    "    return res\n",
    "    \n",
    "checks = [check_path_strict, check_path_ratio]"
   ]
  },
  {
   "cell_type": "code",
   "execution_count": 40,
   "id": "99d7666a-4eea-4e5f-991a-3cbeb9d80cd2",
   "metadata": {},
   "outputs": [],
   "source": [
    "def filter_pathway(pathways, nodes, remove = True):\n",
    "    \"\"\"\n",
    "    If remove is true, remove the pathway in `pathways` containing an entry which is not the member of the nodes\n",
    "    \"\"\"\n",
    "    new_pathways = {}\n",
    "    for (key, pathway) in pathways.items():\n",
    "        new_pathway = []\n",
    "        reject_path = False\n",
    "        for node in pathway:\n",
    "            if node not in nodes:\n",
    "                if remove:\n",
    "                    reject_path = True\n",
    "                    break\n",
    "                else:\n",
    "                    continue\n",
    "            new_pathway.append(node)\n",
    "        if len(new_pathway) > 1 and (not reject_path):\n",
    "            new_pathways[key] = new_pathway\n",
    "    return new_pathways"
   ]
  },
  {
   "cell_type": "markdown",
   "id": "d3831e0c-ee26-48e0-b2d3-fd2ded57efb5",
   "metadata": {},
   "source": [
    "## Load Complete COIP network"
   ]
  },
  {
   "cell_type": "code",
   "execution_count": 41,
   "id": "0eaf1cc5-5cd4-4c06-a2f1-a6ef6e1587ac",
   "metadata": {},
   "outputs": [],
   "source": [
    "import networkx as nx\n",
    "cf  = pd.read_csv(\"../data/networks/coip_hc_full.tsv\", delim_whitespace = True, header = None)\n",
    "Gcf = nx.from_pandas_edgelist(cf, 0, 1, 2)"
   ]
  },
  {
   "cell_type": "markdown",
   "id": "eaf94d29-f30a-4543-859b-cf00762740c8",
   "metadata": {},
   "source": [
    "### Filter Paths"
   ]
  },
  {
   "cell_type": "code",
   "execution_count": 42,
   "id": "99b01b2e-9881-4b8a-864a-de72b6407494",
   "metadata": {},
   "outputs": [
    {
     "data": {
      "text/plain": [
       "320"
      ]
     },
     "execution_count": 42,
     "metadata": {},
     "output_type": "execute_result"
    }
   ],
   "source": [
    "cpathsr = filter_pathway(fpathways, set(Gcf.nodes()))\n",
    "len(cpathsr)"
   ]
  },
  {
   "cell_type": "code",
   "execution_count": 43,
   "id": "c85b9f6a-54a0-4588-b099-0f48d80bd49d",
   "metadata": {},
   "outputs": [
    {
     "data": {
      "text/plain": [
       "array([0.11875   , 0.20358331])"
      ]
     },
     "execution_count": 43,
     "metadata": {},
     "output_type": "execute_result"
    }
   ],
   "source": [
    "check_paths(Gcf, cpathsr, checks)"
   ]
  },
  {
   "cell_type": "markdown",
   "id": "5c94ff9d-1811-4861-9991-c5eb2c173883",
   "metadata": {},
   "source": [
    "## Load Complete Y2H network"
   ]
  },
  {
   "cell_type": "code",
   "execution_count": 51,
   "id": "1d1c43b7-75c4-42c8-b711-07ef28b071d2",
   "metadata": {},
   "outputs": [
    {
     "name": "stdout",
     "output_type": "stream",
     "text": [
      "71\n"
     ]
    },
    {
     "data": {
      "text/plain": [
       "array([0.18309859, 0.13411581])"
      ]
     },
     "execution_count": 51,
     "metadata": {},
     "output_type": "execute_result"
    }
   ],
   "source": [
    "hs  = pd.read_csv(\"../data/networks/y2h_hc_full.tsv\", delim_whitespace = True, header = None)\n",
    "Ghf = nx.from_pandas_edgelist(hs, 0, 1, 2)\n",
    "ypathsr = filter_pathway(fpathways, set(Ghf.nodes()))\n",
    "print(len(ypathsr))\n",
    "check_paths(Ghf, ypathsr, checks)"
   ]
  },
  {
   "cell_type": "markdown",
   "id": "713f1c3c-24d4-4532-bcbb-ce04be029d8b",
   "metadata": {},
   "source": [
    "## Load Shared COIP network + Filter"
   ]
  },
  {
   "cell_type": "code",
   "execution_count": 50,
   "id": "b9f7ccad-c159-4757-89e0-582b24b8eacd",
   "metadata": {},
   "outputs": [
    {
     "name": "stdout",
     "output_type": "stream",
     "text": [
      "Length of pathways: 55\n"
     ]
    },
    {
     "data": {
      "text/plain": [
       "array([0.4       , 0.33747475])"
      ]
     },
     "execution_count": 50,
     "metadata": {},
     "output_type": "execute_result"
    }
   ],
   "source": [
    "csf = pd.read_csv(\"../data/networks/coip_hc_shared.tsv\", delim_whitespace = True, header = None)\n",
    "Gcs = nx.from_pandas_edgelist(csf, 0, 1, 2)\n",
    "\n",
    "cspathsr = filter_pathway(fpathways, set(Gcs.nodes()))\n",
    "print(f\"Length of pathways: {len(cspathsr)}\")\n",
    "check_paths(Gcs, cspathsr, checks)"
   ]
  },
  {
   "cell_type": "markdown",
   "id": "862ed00b-1250-4342-b098-feec4d3f19d2",
   "metadata": {},
   "source": [
    "## Load Shared Y2H network + Filter"
   ]
  },
  {
   "cell_type": "code",
   "execution_count": 48,
   "id": "ec12de67-da8f-4ca8-ac2e-8b9ffaa4f62e",
   "metadata": {},
   "outputs": [
    {
     "name": "stdout",
     "output_type": "stream",
     "text": [
      "Length of pathways: 51\n"
     ]
    },
    {
     "data": {
      "text/plain": [
       "array([0.18671024])"
      ]
     },
     "execution_count": 52,
     "metadata": {},
     "output_type": "execute_result"
    }
   ],
   "source": [
    "ysf = pd.read_csv(\"../data/networks/y2h_hc_shared.tsv\", delim_whitespace = True, header = None)\n",
    "Gys = nx.from_pandas_edgelist(ysf, 0, 1, 2)\n",
    "\n",
    "yspathsr = filter_pathway(fpathways, set(Gys.nodes()))\n",
    "print(f\"Length of pathways: {len(yspathsr)}\")\n",
    "check_paths(Gys, yspathsr, checks)"
   ]
  },
  {
   "cell_type": "code",
   "execution_count": 49,
   "id": "0cc53414-150d-4b7f-a437-7e333b975aef",
   "metadata": {},
   "outputs": [
    {
     "data": {
      "text/plain": [
       "[<function __main__.check_path_strict(G, path)>,\n",
       " <function __main__.check_path_ratio(G, path)>]"
      ]
     },
     "execution_count": 49,
     "metadata": {},
     "output_type": "execute_result"
    }
   ],
   "source": [
    "checks"
   ]
  },
  {
   "cell_type": "code",
   "execution_count": null,
   "id": "06e292a7-d50f-4f98-8304-6e98133d9aa8",
   "metadata": {},
   "outputs": [],
   "source": []
  }
 ],
 "metadata": {
  "kernelspec": {
   "display_name": "mgattention",
   "language": "python",
   "name": "mgattention"
  },
  "language_info": {
   "codemirror_mode": {
    "name": "ipython",
    "version": 3
   },
   "file_extension": ".py",
   "mimetype": "text/x-python",
   "name": "python",
   "nbconvert_exporter": "python",
   "pygments_lexer": "ipython3",
   "version": "3.7.12"
  }
 },
 "nbformat": 4,
 "nbformat_minor": 5
}
