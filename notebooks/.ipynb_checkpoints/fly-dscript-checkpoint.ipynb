{
 "cells": [
  {
   "cell_type": "code",
   "execution_count": 21,
   "id": "543e2f90-6149-4425-98a6-ca6a6cf26309",
   "metadata": {},
   "outputs": [
    {
     "data": {
      "image/png": "[encoded data removed]",
      "text/plain": [
       "<Figure size 1080x360 with 1 Axes>"
      ]
     },
     "metadata": {
      "needs_background": "light"
     },
     "output_type": "display_data"
    }
   ],
   "source": [
    "tmod = [\"D-SCRIPT\", \"TT\"]\n",
    "tnet = [\"Co-IP\", \"Y2H\"]\n",
    "data = [0.5211, 0.6174, 0.6417, 0.6408]\n",
    "tdf = []\n",
    "for i, n in enumerate(tnet):\n",
    "    for j, m in enumerate(tmod):\n",
    "        tdf.append((n, m, data[i * 2 + j]))\n",
    "tdf = pd.DataFrame(tdf, columns = [\"Network\", \"Model\", \"Valid. AUPR\"])\n",
    "\n",
    "f, ax = plt.subplots(figsize = (15, 5))\n",
    "ax = sns.barplot(y = \"Network\", \n",
    "            x = \"Valid. AUPR\",\n",
    "            hue = \"Model\", \n",
    "            orient = \"h\",\n",
    "            palette=\"Set2\",\n",
    "           data = tdf)\n",
    "f.savefig(\"training_dscript_tt.svg\")"
   ]
  },
  {
   "cell_type": "code",
   "execution_count": 4,
   "id": "25e7f1a3-2127-452f-997c-8fad61869017",
   "metadata": {},
   "outputs": [
    {
     "name": "stdout",
     "output_type": "stream",
     "text": [
      "../data/networks/dscript-tt/models/coip-dscript\n",
      "--------------------\n",
      "[2022-09-17-15:19:57] Finished Epoch 1/10: Loss=0.418366, Accuracy=88.865%, MSE=0.090531, Precision=0.372208, Recall=0.355875, F1=0.363858, AUPR=0.372372\n",
      "[2022-09-17-18:24:40] Finished Epoch 2/10: Loss=0.239359, Accuracy=91.687%, MSE=0.0657484, Precision=0.38056, Recall=0.409259, F1=0.394388, AUPR=0.481008\n",
      "[2022-09-17-21:27:24] Finished Epoch 3/10: Loss=0.221773, Accuracy=92.310%, MSE=0.0602921, Precision=0.402247, Recall=0.417609, F1=0.409784, AUPR=0.512091\n",
      "[2022-09-18-00:30:02] Finished Epoch 4/10: Loss=0.261439, Accuracy=91.455%, MSE=0.0718422, Precision=0.341128, Recall=0.299617, F1=0.319028, AUPR=0.383529\n",
      "[2022-09-18-03:34:30] Finished Epoch 5/10: Loss=0.239312, Accuracy=92.305%, MSE=0.0635275, Precision=0.438688, Recall=0.322995, F1=0.372055, AUPR=0.483903\n",
      "[2022-09-18-06:36:58] Finished Epoch 6/10: Loss=0.327515, Accuracy=88.769%, MSE=0.0927826, Precision=0.270979, Recall=0.260529, F1=0.265651, AUPR=0.265514\n",
      "[2022-09-18-09:37:28] Finished Epoch 7/10: Loss=0.255992, Accuracy=92.266%, MSE=0.0655886, Precision=0.474342, Recall=0.236102, F1=0.315276, AUPR=0.521161\n",
      "[2022-09-18-12:37:18] Finished Epoch 8/10: Loss=0.288545, Accuracy=90.885%, MSE=0.0757219, Precision=0.368943, Recall=0.226418, F1=0.280621, AUPR=0.352208\n",
      "[2022-09-18-15:37:24] Finished Epoch 9/10: Loss=0.340389, Accuracy=90.820%, MSE=0.0835985, Precision=0.280102, Recall=0.103323, F1=0.15096, AUPR=0.277145\n",
      "[2022-09-18-18:37:25] Finished Epoch 10/10: Loss=0.340521, Accuracy=91.351%, MSE=0.0798983, Precision=0.365535, Recall=0.0874868, F1=0.141183, AUPR=0.424982\n",
      "../data/networks/dscript-tt/models/coip-dscript1\n",
      "--------------------\n",
      "cat: ../data/networks/dscript-tt/models/coip-dscript1/results.log: No such file or directory\n",
      "../data/networks/dscript-tt/models/coip-tt\n",
      "--------------------\n",
      "[2022-09-17-15:31:37] Finished Epoch 1/10: Loss=0.340403, Accuracy=90.853%, MSE=0.0780094, Precision=0.402033, Recall=0.213246, F1=0.278676, AUPR=0.323335\n",
      "[2022-09-17-18:40:39] Finished Epoch 2/10: Loss=0.258442, Accuracy=91.148%, MSE=0.0716901, Precision=0.327024, Recall=0.310072, F1=0.318323, AUPR=0.372086\n",
      "[2022-09-17-21:50:00] Finished Epoch 3/10: Loss=0.222244, Accuracy=92.949%, MSE=0.0588326, Precision=0.410773, Recall=0.317825, F1=0.35837, AUPR=0.543942\n",
      "[2022-09-18-00:59:17] Finished Epoch 4/10: Loss=0.218789, Accuracy=93.040%, MSE=0.0576086, Precision=0.445896, Recall=0.322353, F1=0.374191, AUPR=0.5745\n",
      "[2022-09-18-04:09:46] Finished Epoch 5/10: Loss=0.215435, Accuracy=93.121%, MSE=0.0569411, Precision=0.462372, Recall=0.356584, F1=0.402645, AUPR=0.561951\n",
      "[2022-09-18-07:15:11] Finished Epoch 6/10: Loss=0.20868, Accuracy=93.451%, MSE=0.0542313, Precision=0.504649, Recall=0.362591, F1=0.421985, AUPR=0.607278\n",
      "[2022-09-18-10:13:19] Finished Epoch 7/10: Loss=0.517061, Accuracy=80.151%, MSE=0.165339, Precision=0.124884, Recall=0.273946, F1=0.171559, AUPR=0.132016\n",
      "[2022-09-18-13:11:31] Finished Epoch 8/10: Loss=0.317871, Accuracy=88.678%, MSE=0.0950208, Precision=0.281541, Recall=0.399032, F1=0.330145, AUPR=0.322802\n",
      "[2022-09-18-16:09:49] Finished Epoch 9/10: Loss=0.253416, Accuracy=92.641%, MSE=0.0646311, Precision=0.482917, Recall=0.252745, F1=0.331823, AUPR=0.531798\n",
      "[2022-09-18-19:07:53] Finished Epoch 10/10: Loss=0.219061, Accuracy=93.493%, MSE=0.0554543, Precision=0.567528, Recall=0.341482, F1=0.426399, AUPR=0.61474\n",
      "../data/networks/dscript-tt/models/y2h-dscript\n",
      "--------------------\n",
      "[2022-09-17-16:42:21] Finished Epoch 1/10: Loss=0.242349, Accuracy=91.936%, MSE=0.0643854, Precision=0.430568, Recall=0.310476, F1=0.360791, AUPR=0.473586\n",
      "[2022-09-17-21:08:49] Finished Epoch 2/10: Loss=0.22728, Accuracy=92.927%, MSE=0.0602368, Precision=0.453254, Recall=0.323711, F1=0.377683, AUPR=0.544964\n",
      "[2022-09-18-01:37:03] Finished Epoch 3/10: Loss=0.242504, Accuracy=92.542%, MSE=0.0630384, Precision=0.481235, Recall=0.262708, F1=0.339877, AUPR=0.561592\n",
      "[2022-09-18-06:04:54] Finished Epoch 4/10: Loss=0.22918, Accuracy=92.702%, MSE=0.0608443, Precision=0.49246, Recall=0.340805, F1=0.402831, AUPR=0.547776\n",
      "[2022-09-18-10:40:05] Finished Epoch 5/10: Loss=0.244948, Accuracy=92.757%, MSE=0.0625734, Precision=0.534006, Recall=0.273998, F1=0.362168, AUPR=0.579533\n",
      "[2022-09-18-15:15:32] Finished Epoch 6/10: Loss=0.261411, Accuracy=92.385%, MSE=0.0662911, Precision=0.504222, Recall=0.269686, F1=0.351416, AUPR=0.520845\n",
      "[2022-09-18-19:47:01] Finished Epoch 7/10: Loss=0.252123, Accuracy=92.740%, MSE=0.0621364, Precision=0.614964, Recall=0.261461, F1=0.366921, AUPR=0.641723\n",
      "[2022-09-19-00:09:41] Finished Epoch 8/10: Loss=0.233784, Accuracy=93.297%, MSE=0.0583047, Precision=0.593297, Recall=0.335136, F1=0.428324, AUPR=0.609848\n",
      "[2022-09-19-04:28:14] Finished Epoch 9/10: Loss=0.27036, Accuracy=92.822%, MSE=0.0635153, Precision=0.6422, Recall=0.261568, F1=0.371731, AUPR=0.615479\n",
      "[2022-09-19-08:46:33] Finished Epoch 10/10: Loss=0.266534, Accuracy=92.902%, MSE=0.063428, Precision=0.587663, Recall=0.295528, F1=0.393281, AUPR=0.572549\n",
      "../data/networks/dscript-tt/models/y2h-tt\n",
      "--------------------\n",
      "[2022-09-17-16:45:22] Finished Epoch 1/10: Loss=0.256406, Accuracy=91.375%, MSE=0.0716955, Precision=0.331166, Recall=0.278847, F1=0.302763, AUPR=0.373474\n",
      "[2022-09-17-21:09:58] Finished Epoch 2/10: Loss=0.212263, Accuracy=92.554%, MSE=0.0586014, Precision=0.391405, Recall=0.354755, F1=0.37218, AUPR=0.522606\n",
      "[2022-09-18-01:37:45] Finished Epoch 3/10: Loss=0.20707, Accuracy=93.051%, MSE=0.0573609, Precision=0.430109, Recall=0.368652, F1=0.397016, AUPR=0.563806\n",
      "[2022-09-18-06:02:09] Finished Epoch 4/10: Loss=0.245512, Accuracy=92.332%, MSE=0.0673039, Precision=0.379062, Recall=0.267519, F1=0.31367, AUPR=0.465057\n",
      "[2022-09-18-10:21:50] Finished Epoch 5/10: Loss=0.215656, Accuracy=93.069%, MSE=0.0570892, Precision=0.52843, Recall=0.302551, F1=0.384791, AUPR=0.639235\n",
      "[2022-09-18-14:41:31] Finished Epoch 6/10: Loss=0.226232, Accuracy=93.000%, MSE=0.0597196, Precision=0.491351, Recall=0.308771, F1=0.379229, AUPR=0.571835\n",
      "[2022-09-18-19:00:51] Finished Epoch 7/10: Loss=0.236517, Accuracy=92.844%, MSE=0.0604929, Precision=0.559976, Recall=0.26635, F1=0.360994, AUPR=0.620549\n",
      "[2022-09-18-23:22:28] Finished Epoch 8/10: Loss=0.230603, Accuracy=93.057%, MSE=0.0593336, Precision=0.556159, Recall=0.294305, F1=0.38492, AUPR=0.618392\n",
      "[2022-09-19-03:40:06] Finished Epoch 9/10: Loss=0.249492, Accuracy=92.709%, MSE=0.0623141, Precision=0.575368, Recall=0.254135, F1=0.352551, AUPR=0.630789\n",
      "[2022-09-19-07:56:54] Finished Epoch 10/10: Loss=0.232097, Accuracy=92.890%, MSE=0.0592191, Precision=0.592209, Recall=0.284347, F1=0.384215, AUPR=0.640823\n"
     ]
    }
   ],
   "source": [
    "!for f in ../data/networks/dscript-tt/models/*; do echo $f; echo \"--------------------\"; cat $f/results.log | grep \"Finished\"; done\n",
    "best_model = {\"coip-dscript\": \"07\",\n",
    "              \"coip-tt\": \"10\",\n",
    "              \"y2h-dscript\": \"07\",\n",
    "              \"y2h-tt\": \"10\"\n",
    "             }\n",
    "\n",
    "#0.5211, 0.6174, 0.6154, 0.6408"
   ]
  },
  {
   "cell_type": "markdown",
   "id": "c696b5a4-2f2f-4271-9daf-bb54bb170126",
   "metadata": {},
   "source": [
    "# D-SCRIPT model trained on Y2H network"
   ]
  },
  {
   "cell_type": "code",
   "execution_count": 2,
   "id": "548a5c1d-6ce1-4fbf-b6ed-042c8c65cf3d",
   "metadata": {},
   "outputs": [
    {
     "name": "stdout",
     "output_type": "stream",
     "text": [
      "\u001b[1m\u001b[37mimp                    \u001b[m  Sun Sep 25 18:48:28 2022  \u001b[1m\u001b[30m470.141.03\u001b[m\n",
      "\u001b[36m[0]\u001b[m \u001b[34mTesla V100-PCIE-32GB\u001b[m |\u001b[31m 32'C\u001b[m, \u001b[32m  0 %\u001b[m | \u001b[36m\u001b[1m\u001b[33m    0\u001b[m / \u001b[33m32510\u001b[m MB |\n",
      "\u001b[36m[1]\u001b[m \u001b[34mTesla V100-PCIE-32GB\u001b[m |\u001b[31m 30'C\u001b[m, \u001b[32m  0 %\u001b[m | \u001b[36m\u001b[1m\u001b[33m    0\u001b[m / \u001b[33m32510\u001b[m MB |\n",
      "\u001b[36m[2]\u001b[m \u001b[34mTesla V100-PCIE-32GB\u001b[m |\u001b[31m 32'C\u001b[m, \u001b[32m  0 %\u001b[m | \u001b[36m\u001b[1m\u001b[33m    0\u001b[m / \u001b[33m32510\u001b[m MB |\n",
      "\u001b[36m[3]\u001b[m \u001b[34mTesla V100-PCIE-32GB\u001b[m |\u001b[31m 32'C\u001b[m, \u001b[32m  0 %\u001b[m | \u001b[36m\u001b[1m\u001b[33m    0\u001b[m / \u001b[33m32510\u001b[m MB |\n",
      "\u001b[36m[4]\u001b[m \u001b[34mTesla V100-PCIE-32GB\u001b[m |\u001b[31m 31'C\u001b[m, \u001b[32m  0 %\u001b[m | \u001b[36m\u001b[1m\u001b[33m    0\u001b[m / \u001b[33m32510\u001b[m MB |\n",
      "\u001b[36m[5]\u001b[m \u001b[34mTesla V100-PCIE-32GB\u001b[m |\u001b[31m 32'C\u001b[m, \u001b[32m  0 %\u001b[m | \u001b[36m\u001b[1m\u001b[33m    0\u001b[m / \u001b[33m32510\u001b[m MB |\n",
      "\u001b[36m[6]\u001b[m \u001b[34mTesla V100-PCIE-32GB\u001b[m |\u001b[31m 31'C\u001b[m, \u001b[32m  0 %\u001b[m | \u001b[36m\u001b[1m\u001b[33m    0\u001b[m / \u001b[33m32510\u001b[m MB |\n",
      "\u001b[36m[7]\u001b[m \u001b[34mTesla V100-PCIE-32GB\u001b[m |\u001b[31m 31'C\u001b[m, \u001b[32m  2 %\u001b[m | \u001b[36m\u001b[1m\u001b[33m    0\u001b[m / \u001b[33m32510\u001b[m MB |\n"
     ]
    }
   ],
   "source": [
    "!gpustat"
   ]
  },
  {
   "cell_type": "code",
   "execution_count": 10,
   "id": "f4e5cd46-8558-4d72-b970-621f1b1d4204",
   "metadata": {},
   "outputs": [
    {
     "name": "stdout",
     "output_type": "stream",
     "text": [
      "{'coip-dscript': '../data/networks/dscript-tt/models/coip-dscript/ep__epoch07.sav', 'coip-tt': '../data/networks/dscript-tt/models/coip-tt/ep__epoch10.sav', 'y2h-dscript': '../data/networks/dscript-tt/models/y2h-dscript/ep__epoch07.sav', 'y2h-tt': '../data/networks/dscript-tt/models/y2h-tt/ep__epoch10.sav'}\n"
     ]
    }
   ],
   "source": [
    "MODELF=\"../data/networks/dscript-tt/models\"\n",
    "MODELS={k:f\"{MODELF}/{k}/ep__epoch{v}.sav\" for k, v in best_model.items()}\n",
    "print(MODELS)\n",
    "NETF=\"../data/networks/fly/\"\n",
    "FLYNET = {\"coip\": f\"{NETF}fly_coip_evaluation.tsv\",\n",
    "         \"y2h\": f\"{NETF}fly_y2hi_evaluation.tsv\"}\n",
    "\n",
    "for mod in MODELS.keys():\n",
    "    for net in FLYNET.keys():\n",
    "        !mkdir -p {NETF}/{mod}/{net}"
   ]
  },
  {
   "cell_type": "code",
   "execution_count": 21,
   "id": "ec7f083a-02b1-43ff-8c21-3413b99ee955",
   "metadata": {},
   "outputs": [],
   "source": [
    "from IPython.lib import backgroundjobs as bg\n",
    "\n",
    "args   = []\n",
    "for mod, modloc in MODELS.items():\n",
    "    for net, netloc in FLYNET.items():\n",
    "#        !dscript evaluate --model {modloc} --test {netloc} --device {device} -o {NETF}/{mod}/{net}/results \n",
    "        args.append((modloc, netloc, f\"{NETF}/uprotfly-final.h5\", 0, f\"{NETF}/{mod}/{net}/results\"))"
   ]
  },
  {
   "cell_type": "code",
   "execution_count": 22,
   "id": "1f58c9c2-6227-4998-9807-3bcfe01bef4e",
   "metadata": {},
   "outputs": [
    {
     "data": {
      "text/plain": [
       "[('../data/networks/dscript-tt/models/coip-dscript/ep__epoch07.sav',\n",
       "  '../data/networks/fly/fly_coip_evaluation.tsv',\n",
       "  '../data/networks/fly//uprotfly-final.h5',\n",
       "  0,\n",
       "  '../data/networks/fly//coip-dscript/coip/results'),\n",
       " ('../data/networks/dscript-tt/models/coip-dscript/ep__epoch07.sav',\n",
       "  '../data/networks/fly/fly_y2hi_evaluation.tsv',\n",
       "  '../data/networks/fly//uprotfly-final.h5',\n",
       "  0,\n",
       "  '../data/networks/fly//coip-dscript/y2h/results'),\n",
       " ('../data/networks/dscript-tt/models/coip-tt/ep__epoch10.sav',\n",
       "  '../data/networks/fly/fly_coip_evaluation.tsv',\n",
       "  '../data/networks/fly//uprotfly-final.h5',\n",
       "  0,\n",
       "  '../data/networks/fly//coip-tt/coip/results'),\n",
       " ('../data/networks/dscript-tt/models/coip-tt/ep__epoch10.sav',\n",
       "  '../data/networks/fly/fly_y2hi_evaluation.tsv',\n",
       "  '../data/networks/fly//uprotfly-final.h5',\n",
       "  0,\n",
       "  '../data/networks/fly//coip-tt/y2h/results'),\n",
       " ('../data/networks/dscript-tt/models/y2h-dscript/ep__epoch07.sav',\n",
       "  '../data/networks/fly/fly_coip_evaluation.tsv',\n",
       "  '../data/networks/fly//uprotfly-final.h5',\n",
       "  0,\n",
       "  '../data/networks/fly//y2h-dscript/coip/results'),\n",
       " ('../data/networks/dscript-tt/models/y2h-dscript/ep__epoch07.sav',\n",
       "  '../data/networks/fly/fly_y2hi_evaluation.tsv',\n",
       "  '../data/networks/fly//uprotfly-final.h5',\n",
       "  0,\n",
       "  '../data/networks/fly//y2h-dscript/y2h/results'),\n",
       " ('../data/networks/dscript-tt/models/y2h-tt/ep__epoch10.sav',\n",
       "  '../data/networks/fly/fly_coip_evaluation.tsv',\n",
       "  '../data/networks/fly//uprotfly-final.h5',\n",
       "  0,\n",
       "  '../data/networks/fly//y2h-tt/coip/results'),\n",
       " ('../data/networks/dscript-tt/models/y2h-tt/ep__epoch10.sav',\n",
       "  '../data/networks/fly/fly_y2hi_evaluation.tsv',\n",
       "  '../data/networks/fly//uprotfly-final.h5',\n",
       "  0,\n",
       "  '../data/networks/fly//y2h-tt/y2h/results')]"
      ]
     },
     "execution_count": 22,
     "metadata": {},
     "output_type": "execute_result"
    }
   ],
   "source": [
    "args"
   ]
  },
  {
   "cell_type": "markdown",
   "id": "e5fa4c93-e37a-4b59-8d92-aecb58492e34",
   "metadata": {},
   "source": [
    "## Model: COIP-DSCRIPT, Test: COIP FLY"
   ]
  },
  {
   "cell_type": "code",
   "execution_count": 23,
   "id": "560b5f89-aa32-4ee1-80de-3ddb20d5d8b3",
   "metadata": {},
   "outputs": [
    {
     "name": "stdout",
     "output_type": "stream",
     "text": [
      "[2022-09-25-19:19:01] Using CUDA device 1 - Tesla V100-PCIE-32GB\n",
      "100%|███████████████████████████████████████| 2212/2212 [00:27<00:00, 79.09it/s]\n",
      "Predicting pairs: 100%|███████████████████| 48092/48092 [10:27<00:00, 76.68it/s]\n",
      "[2022-09-25-19:30:01] AUPR: 0.12635056332063507\n",
      "[2022-09-25-19:30:01] AUROC: 0.5386418259672925\n"
     ]
    }
   ],
   "source": [
    "T1 = args[0]\n",
    "!dscript evaluate --model {T1[0]} --test {T1[1]} --embedding {T1[2]} --device 1 -o {T1[4]}"
   ]
  },
  {
   "cell_type": "markdown",
   "id": "b4bed197-03d5-4b0a-9b9c-21e7a7c2c4d3",
   "metadata": {},
   "source": [
    "## Model: COIP-DSCRIPT, Test: Y2H FLY"
   ]
  },
  {
   "cell_type": "code",
   "execution_count": 24,
   "id": "72ff82c7-e9ce-4a9c-b894-b70ee370fe33",
   "metadata": {},
   "outputs": [
    {
     "name": "stdout",
     "output_type": "stream",
     "text": [
      "[2022-09-25-19:30:18] Using CUDA device 1 - Tesla V100-PCIE-32GB\n",
      "100%|██████████████████████████████████████| 2005/2005 [00:18<00:00, 109.52it/s]\n",
      "Predicting pairs: 100%|██████████████████| 48081/48081 [06:45<00:00, 118.63it/s]\n",
      "[2022-09-25-19:37:27] AUPR: 0.14636877406495502\n",
      "[2022-09-25-19:37:27] AUROC: 0.6080303403586407\n"
     ]
    }
   ],
   "source": [
    "T1 = args[1]\n",
    "!dscript evaluate --model {T1[0]} --test {T1[1]} --embedding {T1[2]} --device 1 -o {T1[4]}"
   ]
  },
  {
   "cell_type": "markdown",
   "id": "ca5e6a9e-594f-483e-a233-0c4dbef44fc8",
   "metadata": {},
   "source": [
    "## Model: COIP-TT, Test: COIP FLY"
   ]
  },
  {
   "cell_type": "code",
   "execution_count": 25,
   "id": "567eccea-ddd6-46ca-b86d-ea40eb2705a8",
   "metadata": {},
   "outputs": [
    {
     "name": "stdout",
     "output_type": "stream",
     "text": [
      "[2022-09-25-19:37:43] Using CUDA device 1 - Tesla V100-PCIE-32GB\n",
      "100%|██████████████████████████████████████| 2212/2212 [00:20<00:00, 108.87it/s]\n",
      "Predicting pairs: 100%|███████████████████| 48092/48092 [10:24<00:00, 76.96it/s]\n",
      "[2022-09-25-19:48:33] AUPR: 0.1539604669821413\n",
      "[2022-09-25-19:48:34] AUROC: 0.5779567915973647\n"
     ]
    }
   ],
   "source": [
    "T1 = args[2]\n",
    "!dscript evaluate --model {T1[0]} --test {T1[1]} --embedding {T1[2]} --device 1 -o {T1[4]}"
   ]
  },
  {
   "cell_type": "markdown",
   "id": "f20b3854-4ae8-4500-8ad9-3f20245fc3ad",
   "metadata": {},
   "source": [
    "## Model: COIP-TT, Test: Y2H FLY"
   ]
  },
  {
   "cell_type": "code",
   "execution_count": 26,
   "id": "ba9e2909-43c7-4879-8c58-d19d9a836efd",
   "metadata": {},
   "outputs": [
    {
     "name": "stdout",
     "output_type": "stream",
     "text": [
      "[2022-09-25-19:48:50] Using CUDA device 1 - Tesla V100-PCIE-32GB\n",
      "100%|██████████████████████████████████████| 2005/2005 [00:17<00:00, 112.87it/s]\n",
      "Predicting pairs: 100%|██████████████████| 48081/48081 [06:44<00:00, 118.84it/s]\n",
      "[2022-09-25-19:55:58] AUPR: 0.18696707878771116\n",
      "[2022-09-25-19:55:58] AUROC: 0.6160223805105518\n"
     ]
    }
   ],
   "source": [
    "T1 = args[3]\n",
    "!dscript evaluate --model {T1[0]} --test {T1[1]} --embedding {T1[2]} --device 1 -o {T1[4]}"
   ]
  },
  {
   "cell_type": "markdown",
   "id": "ab848dd4-435c-4277-9406-333ee28be8b3",
   "metadata": {},
   "source": [
    "## Model: Y2H-DSCRIPT, Test: COIP FLY"
   ]
  },
  {
   "cell_type": "code",
   "execution_count": 28,
   "id": "4c11cb25-caba-43db-809a-7669a6962bae",
   "metadata": {},
   "outputs": [
    {
     "name": "stdout",
     "output_type": "stream",
     "text": [
      "[2022-09-25-21:15:40] Using CUDA device 1 - Tesla V100-PCIE-32GB\n",
      "100%|██████████████████████████████████████| 2212/2212 [00:20<00:00, 106.67it/s]\n",
      "Predicting pairs: 100%|███████████████████| 48092/48092 [10:23<00:00, 77.09it/s]\n",
      "[2022-09-25-21:26:30] AUPR: 0.1275855399201909\n",
      "[2022-09-25-21:26:30] AUROC: 0.53331343819398\n"
     ]
    }
   ],
   "source": [
    "T1 = args[4]\n",
    "!dscript evaluate --model {T1[0]} --test {T1[1]} --embedding {T1[2]} --device 1 -o {T1[4]}"
   ]
  },
  {
   "cell_type": "markdown",
   "id": "610eafdc-d7ea-4494-b8f0-c9b867267256",
   "metadata": {},
   "source": [
    "## Model: Y2H-DSCRIPT, Test: Y2H FLY"
   ]
  },
  {
   "cell_type": "code",
   "execution_count": 29,
   "id": "20333120-516a-4d72-b5c6-4bcd7a6a3ef3",
   "metadata": {},
   "outputs": [
    {
     "name": "stdout",
     "output_type": "stream",
     "text": [
      "[2022-09-25-21:26:48] Using CUDA device 1 - Tesla V100-PCIE-32GB\n",
      "100%|██████████████████████████████████████| 2005/2005 [00:17<00:00, 113.97it/s]\n",
      "Predicting pairs: 100%|██████████████████| 48081/48081 [06:45<00:00, 118.70it/s]\n",
      "[2022-09-25-21:33:56] AUPR: 0.24778334707758126\n",
      "[2022-09-25-21:33:57] AUROC: 0.668129258264614\n"
     ]
    }
   ],
   "source": [
    "T1 = args[5]\n",
    "!dscript evaluate --model {T1[0]} --test {T1[1]} --embedding {T1[2]} --device 1 -o {T1[4]}"
   ]
  },
  {
   "cell_type": "markdown",
   "id": "fa5d046a-66fe-471e-b044-c695df1000da",
   "metadata": {},
   "source": [
    "## Model: Y2H-TT, Test: COIP FLY"
   ]
  },
  {
   "cell_type": "code",
   "execution_count": 30,
   "id": "72259a07-e9ea-47e5-8f83-32878b91832c",
   "metadata": {},
   "outputs": [
    {
     "name": "stdout",
     "output_type": "stream",
     "text": [
      "[2022-09-25-21:34:12] Using CUDA device 1 - Tesla V100-PCIE-32GB\n",
      "100%|██████████████████████████████████████| 2212/2212 [00:19<00:00, 110.72it/s]\n",
      "Predicting pairs: 100%|███████████████████| 48092/48092 [10:26<00:00, 76.78it/s]\n",
      "[2022-09-25-21:45:04] AUPR: 0.11862793093574077\n",
      "[2022-09-25-21:45:04] AUROC: 0.5121332657123556\n"
     ]
    }
   ],
   "source": [
    "T1 = args[6]\n",
    "!dscript evaluate --model {T1[0]} --test {T1[1]} --embedding {T1[2]} --device 1 -o {T1[4]}"
   ]
  },
  {
   "cell_type": "markdown",
   "id": "5e0f0020-1457-48bb-a17e-2cf1b870f5c3",
   "metadata": {},
   "source": [
    "## Model: Y2H-TT, Test: Y2H FLY"
   ]
  },
  {
   "cell_type": "code",
   "execution_count": 31,
   "id": "2a579e7d-7eeb-4f19-aeb6-3f0db469f02c",
   "metadata": {},
   "outputs": [
    {
     "name": "stdout",
     "output_type": "stream",
     "text": [
      "[2022-09-25-21:45:21] Using CUDA device 1 - Tesla V100-PCIE-32GB\n",
      "100%|██████████████████████████████████████| 2005/2005 [00:17<00:00, 117.47it/s]\n",
      "Predicting pairs: 100%|██████████████████| 48081/48081 [06:46<00:00, 118.24it/s]\n",
      "[2022-09-25-21:52:30] AUPR: 0.23923016135955955\n",
      "[2022-09-25-21:52:31] AUROC: 0.6929701364115446\n"
     ]
    }
   ],
   "source": [
    "T1 = args[7]\n",
    "!dscript evaluate --model {T1[0]} --test {T1[1]} --embedding {T1[2]} --device 1 -o {T1[4]}"
   ]
  },
  {
   "cell_type": "markdown",
   "id": "0b53dc46-8405-4b87-adda-ca862aa2f2ca",
   "metadata": {},
   "source": [
    "## TT\n",
    "\n",
    "|     | coip | y2h (fly)|\n",
    "|-----|------|----------|\n",
    "|coip | 0.15 | 0.19     | \n",
    "|y2h  | 0.12 | 0.24     |\n",
    "\n",
    "## D-SCRIPT\n",
    "\n",
    "|     | coip | y2h (fly) |\n",
    "|-----|------|-----------|\n",
    "|coip | 0.13 | 0.15      |\n",
    "|y2h  | 0.13 | 0.25      |"
   ]
  },
  {
   "cell_type": "code",
   "execution_count": 22,
   "id": "b4ab4ade-4023-44d8-8c14-db4479f1780d",
   "metadata": {},
   "outputs": [],
   "source": [
    "AUPR = [0.12635056332063507, 0.14636877406495502, 0.1539604669821413, 0.18696707878771116, 0.1275855399201909, 0.24778334707758126, 0.11862793093574077, 0.23923016135955955]\n",
    "AUROC =  [0.5386418259672925, 0.6080303403586407, 0.5779567915973647, 0.6160223805105518, 0.53331343819398, 0.668129258264614, 0.5121332657123556, 0.6929701364115446]\n",
    "\n",
    "          \n",
    "models = [\"Co-IP, D-SCRIPT\", \"Co-IP, TT\", \"Y2H, D-SCRIPT\", \"Y2H, TT\"]\n",
    "nets = [\"Fly Co-IP\", \"Fly Y2H\"]\n",
    "scores = []\n",
    "\n",
    "for i, model in enumerate(models):\n",
    "    for j, net in enumerate(nets):\n",
    "        scores.append((model, net, \"AUPR\", AUPR[i * 2 + j]))\n",
    "        scores.append((model, net, \"AUROC\", AUROC[i * 2 + j]))"
   ]
  },
  {
   "cell_type": "code",
   "execution_count": 57,
   "id": "b7f14d0f-1a4a-4c49-86e5-642a0af6243b",
   "metadata": {},
   "outputs": [
    {
     "data": {
      "text/html": [
       "<div>\n",
       "<style scoped>\n",
       "    .dataframe tbody tr th:only-of-type {\n",
       "        vertical-align: middle;\n",
       "    }\n",
       "\n",
       "    .dataframe tbody tr th {\n",
       "        vertical-align: top;\n",
       "    }\n",
       "\n",
       "    .dataframe thead th {\n",
       "        text-align: right;\n",
       "    }\n",
       "</style>\n",
       "<table border=\"1\" class=\"dataframe\">\n",
       "  <thead>\n",
       "    <tr style=\"text-align: right;\">\n",
       "      <th></th>\n",
       "      <th>0</th>\n",
       "      <th>1</th>\n",
       "      <th>2</th>\n",
       "      <th>3</th>\n",
       "    </tr>\n",
       "  </thead>\n",
       "  <tbody>\n",
       "    <tr>\n",
       "      <th>0</th>\n",
       "      <td>Co-IP, D-SCRIPT</td>\n",
       "      <td>Fly Co-IP</td>\n",
       "      <td>AUPR</td>\n",
       "      <td>0.126351</td>\n",
       "    </tr>\n",
       "    <tr>\n",
       "      <th>1</th>\n",
       "      <td>Co-IP, D-SCRIPT</td>\n",
       "      <td>Fly Co-IP</td>\n",
       "      <td>AUROC</td>\n",
       "      <td>0.538642</td>\n",
       "    </tr>\n",
       "    <tr>\n",
       "      <th>2</th>\n",
       "      <td>Co-IP, D-SCRIPT</td>\n",
       "      <td>Fly Y2H</td>\n",
       "      <td>AUPR</td>\n",
       "      <td>0.146369</td>\n",
       "    </tr>\n",
       "    <tr>\n",
       "      <th>3</th>\n",
       "      <td>Co-IP, D-SCRIPT</td>\n",
       "      <td>Fly Y2H</td>\n",
       "      <td>AUROC</td>\n",
       "      <td>0.608030</td>\n",
       "    </tr>\n",
       "    <tr>\n",
       "      <th>4</th>\n",
       "      <td>Co-IP, TT</td>\n",
       "      <td>Fly Co-IP</td>\n",
       "      <td>AUPR</td>\n",
       "      <td>0.153960</td>\n",
       "    </tr>\n",
       "    <tr>\n",
       "      <th>5</th>\n",
       "      <td>Co-IP, TT</td>\n",
       "      <td>Fly Co-IP</td>\n",
       "      <td>AUROC</td>\n",
       "      <td>0.577957</td>\n",
       "    </tr>\n",
       "    <tr>\n",
       "      <th>6</th>\n",
       "      <td>Co-IP, TT</td>\n",
       "      <td>Fly Y2H</td>\n",
       "      <td>AUPR</td>\n",
       "      <td>0.186967</td>\n",
       "    </tr>\n",
       "    <tr>\n",
       "      <th>7</th>\n",
       "      <td>Co-IP, TT</td>\n",
       "      <td>Fly Y2H</td>\n",
       "      <td>AUROC</td>\n",
       "      <td>0.616022</td>\n",
       "    </tr>\n",
       "    <tr>\n",
       "      <th>8</th>\n",
       "      <td>Y2H, D-SCRIPT</td>\n",
       "      <td>Fly Co-IP</td>\n",
       "      <td>AUPR</td>\n",
       "      <td>0.127586</td>\n",
       "    </tr>\n",
       "    <tr>\n",
       "      <th>9</th>\n",
       "      <td>Y2H, D-SCRIPT</td>\n",
       "      <td>Fly Co-IP</td>\n",
       "      <td>AUROC</td>\n",
       "      <td>0.533313</td>\n",
       "    </tr>\n",
       "    <tr>\n",
       "      <th>10</th>\n",
       "      <td>Y2H, D-SCRIPT</td>\n",
       "      <td>Fly Y2H</td>\n",
       "      <td>AUPR</td>\n",
       "      <td>0.247783</td>\n",
       "    </tr>\n",
       "    <tr>\n",
       "      <th>11</th>\n",
       "      <td>Y2H, D-SCRIPT</td>\n",
       "      <td>Fly Y2H</td>\n",
       "      <td>AUROC</td>\n",
       "      <td>0.668129</td>\n",
       "    </tr>\n",
       "    <tr>\n",
       "      <th>12</th>\n",
       "      <td>Y2H, TT</td>\n",
       "      <td>Fly Co-IP</td>\n",
       "      <td>AUPR</td>\n",
       "      <td>0.118628</td>\n",
       "    </tr>\n",
       "    <tr>\n",
       "      <th>13</th>\n",
       "      <td>Y2H, TT</td>\n",
       "      <td>Fly Co-IP</td>\n",
       "      <td>AUROC</td>\n",
       "      <td>0.512133</td>\n",
       "    </tr>\n",
       "    <tr>\n",
       "      <th>14</th>\n",
       "      <td>Y2H, TT</td>\n",
       "      <td>Fly Y2H</td>\n",
       "      <td>AUPR</td>\n",
       "      <td>0.239230</td>\n",
       "    </tr>\n",
       "    <tr>\n",
       "      <th>15</th>\n",
       "      <td>Y2H, TT</td>\n",
       "      <td>Fly Y2H</td>\n",
       "      <td>AUROC</td>\n",
       "      <td>0.692970</td>\n",
       "    </tr>\n",
       "  </tbody>\n",
       "</table>\n",
       "</div>"
      ],
      "text/plain": [
       "                  0          1      2         3\n",
       "0   Co-IP, D-SCRIPT  Fly Co-IP   AUPR  0.126351\n",
       "1   Co-IP, D-SCRIPT  Fly Co-IP  AUROC  0.538642\n",
       "2   Co-IP, D-SCRIPT    Fly Y2H   AUPR  0.146369\n",
       "3   Co-IP, D-SCRIPT    Fly Y2H  AUROC  0.608030\n",
       "4         Co-IP, TT  Fly Co-IP   AUPR  0.153960\n",
       "5         Co-IP, TT  Fly Co-IP  AUROC  0.577957\n",
       "6         Co-IP, TT    Fly Y2H   AUPR  0.186967\n",
       "7         Co-IP, TT    Fly Y2H  AUROC  0.616022\n",
       "8     Y2H, D-SCRIPT  Fly Co-IP   AUPR  0.127586\n",
       "9     Y2H, D-SCRIPT  Fly Co-IP  AUROC  0.533313\n",
       "10    Y2H, D-SCRIPT    Fly Y2H   AUPR  0.247783\n",
       "11    Y2H, D-SCRIPT    Fly Y2H  AUROC  0.668129\n",
       "12          Y2H, TT  Fly Co-IP   AUPR  0.118628\n",
       "13          Y2H, TT  Fly Co-IP  AUROC  0.512133\n",
       "14          Y2H, TT    Fly Y2H   AUPR  0.239230\n",
       "15          Y2H, TT    Fly Y2H  AUROC  0.692970"
      ]
     },
     "execution_count": 57,
     "metadata": {},
     "output_type": "execute_result"
    }
   ],
   "source": [
    "import pandas as pd\n",
    "\n",
    "prdf = pd.DataFrame(scores)\n",
    "prdf"
   ]
  },
  {
   "cell_type": "code",
   "execution_count": 86,
   "id": "613b22f9-0cdf-45e9-8a1c-967acda063ab",
   "metadata": {},
   "outputs": [
    {
     "name": "stdout",
     "output_type": "stream",
     "text": [
      "       0          1         3\n",
      "0  Co-IP  Fly Co-IP  0.126351\n",
      "1  Co-IP    Fly Y2H  0.146369\n",
      "2    Y2H  Fly Co-IP  0.127586\n",
      "3    Y2H    Fly Y2H  0.247783\n",
      "       0          1         3\n",
      "0  Co-IP  Fly Co-IP  0.126351\n",
      "1  Co-IP    Fly Y2H  0.146369\n",
      "2    Y2H  Fly Co-IP  0.127586\n",
      "3    Y2H    Fly Y2H  0.247783\n"
     ]
    },
    {
     "data": {
      "text/plain": [
       "Text(0.5, 15.000000000000028, '')"
      ]
     },
     "execution_count": 86,
     "metadata": {},
     "output_type": "execute_result"
    },
    {
     "data": {
      "image/png": "[encoded data removed]",
      "text/plain": [
       "<Figure size 432x288 with 8 Axes>"
      ]
     },
     "metadata": {
      "needs_background": "light"
     },
     "output_type": "display_data"
    }
   ],
   "source": [
    "import seaborn as sns\n",
    "import matplotlib.pyplot as plt\n",
    "\n",
    "f, ax = plt.subplots(2, 2)\n",
    "df1 = prdf[prdf[0].str.endswith(\"D-SCRIPT\") & (prdf[2] == \"AUPR\")].reset_index(drop = True)\n",
    "df1.update(df1[0].apply(lambda x: x.split(\",\")[0]))\n",
    "df1 = df1.drop(2, axis = 1)\n",
    "print(df1)\n",
    "\n",
    "sns.heatmap(df1.pivot(0, 1, 3), vmin= 0, vmax = 0.5, center = 0.25, cmap=\"OrRd\", annot = True, annot_kws={\"fontsize\":\"xx-large\"}, ax = ax[0, 0])\n",
    "ax[0, 0].set_ylabel(\"DSCRIPT trained on\")\n",
    "\n",
    "df2 = prdf[prdf[0].str.endswith(\"D-SCRIPT\") & (prdf[2] == \"AUROC\")].reset_index(drop = True)\n",
    "df2.update(df2[0].apply(lambda x: x.split(\",\")[0]))\n",
    "df2 = df2.drop(2, axis = 1)\n",
    "\n",
    "sns.heatmap(df2.pivot(0, 1, 3), vmin= 0.3, vmax = 1, center = 0.75, cmap=\"PuRd\", annot = True, annot_kws={\"fontsize\":\"xx-large\"}, ax = ax[0, 1])\n",
    "ax[0, 1].set_ylabel(\"\")\n",
    "\n",
    "df3 = prdf[prdf[0].str.endswith(\"D-SCRIPT\") & (prdf[2] == \"AUPR\")].reset_index(drop = True)\n",
    "df3.update(df3[0].apply(lambda x: x.split(\",\")[0]))\n",
    "df3 = df3.drop(2, axis = 1)\n",
    "print(df3)\n",
    "\n",
    "sns.heatmap(df3.pivot(0, 1, 3), vmin= 0, vmax = 0.5, center = 0.25, cmap=\"OrRd\", annot = True, annot_kws={\"fontsize\":\"xx-large\"}, ax = ax[1, 0])\n",
    "ax[1, 0].set_ylabel(\"TT trained on\")\n",
    "\n",
    "df4 = prdf[prdf[0].str.endswith(\"D-SCRIPT\") & (prdf[2] == \"AUROC\")].reset_index(drop = True)\n",
    "df4.update(df4[0].apply(lambda x: x.split(\",\")[0]))\n",
    "df4 = df4.drop(2, axis = 1)\n",
    "\n",
    "sns.heatmap(df4.pivot(0, 1, 3), vmin= 0.3, vmax = 1, center = 0.75, cmap=\"PuRd\", annot = True, annot_kws={\"fontsize\":\"xx-large\"}, ax = ax[1, 1])\n",
    "ax[1, 1].set_ylabel(\"\")"
   ]
  },
  {
   "cell_type": "code",
   "execution_count": 8,
   "id": "b152b32d-dd25-4ede-8bc5-8bf4506ebb59",
   "metadata": {},
   "outputs": [
    {
     "data": {
      "image/png": "[encoded data removed]",
      "text/plain": [
       "<Figure size 443.375x360 with 1 Axes>"
      ]
     },
     "metadata": {
      "needs_background": "light"
     },
     "output_type": "display_data"
    }
   ],
   "source": [
    "import seaborn as sns\n",
    "import matplotlib.pyplot as plt\n",
    "\n",
    "prdf.columns = [\"Model Type\", \"Network Type\", \"Metric\", \"Score\"]\n",
    "\n",
    "sns.relplot(data = prdf,\n",
    "            x = \"Model Type\",\n",
    "            y = \"Score\",\n",
    "            hue = \"Network Type\",\n",
    "            size = \"Metric\",\n",
    "            size_order = [\"AUPR\", \"AUROC\"],\n",
    "            kind = \"line\")\n",
    "plt.savefig(\"dscript_fly.svg\")"
   ]
  },
  {
   "cell_type": "code",
   "execution_count": null,
   "id": "2cfac4aa-be64-4561-9068-784d91a4c12e",
   "metadata": {},
   "outputs": [],
   "source": []
  }
 ],
 "metadata": {
  "kernelspec": {
   "display_name": "dscript",
   "language": "python",
   "name": "dscript"
  },
  "language_info": {
   "codemirror_mode": {
    "name": "ipython",
    "version": 3
   },
   "file_extension": ".py",
   "mimetype": "text/x-python",
   "name": "python",
   "nbconvert_exporter": "python",
   "pygments_lexer": "ipython3",
   "version": "3.7.12"
  }
 },
 "nbformat": 4,
 "nbformat_minor": 5
}
