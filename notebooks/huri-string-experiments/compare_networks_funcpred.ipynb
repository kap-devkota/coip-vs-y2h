{
 "cells": [
  {
   "cell_type": "code",
   "execution_count": 3,
   "id": "a828498e",
   "metadata": {},
   "outputs": [],
   "source": [
    "import numpy as np\n",
    "import pandas as pd\n",
    "import sys\n",
    "\n",
    "from os.path import dirname\n",
    "sys.path.append(dirname(\"../src/\"))\n",
    "\n",
    "from parse_protein_symbols import entrez_dict\n",
    "from process_labels.get_labels import get_go_labels\n",
    "\n",
    "def get_labels(proteins,\n",
    "               obofile,\n",
    "               g2gofile,\n",
    "               GOT = \"F\",\n",
    "               min_level = 5,\n",
    "               min_protein_annotation = 50,\n",
    "               symbol_to_id = lambda x:x):\n",
    "    \"\"\"\n",
    "    Get the protein GO labels corresponding to a given protein.\n",
    "    \"\"\"\n",
    "    \n",
    "    go_type = \"molecular_function\"\n",
    "    go_type = \"biological_process\" if GOT==\"P\" else go_type\n",
    "    go_type = \"cellular_component\" if GOT==\"C\" else go_type\n",
    "    \n",
    "    filter_protein = {\"namespace\": go_type, \"lower_bound\": min_protein_annotation}\n",
    "    filter_labels  = {\"namespace\": go_type, \"min_level\": min_level}\n",
    "    f_labels, labels_dict = get_go_labels(filter_protein,\n",
    "                                          filter_labels,\n",
    "                                          proteins,\n",
    "                                          lambda x: x,\n",
    "                                          g2gofile,\n",
    "                                          obofile,\n",
    "                                          verbose = True)\n",
    "    \n",
    "    return f_labels, labels_dict"
   ]
  },
  {
   "cell_type": "markdown",
   "id": "6a18cb82",
   "metadata": {},
   "source": [
    "## <span style=\"color:red\">Get the HuRI human network and the proteins</span>\n",
    "\n",
    "The annotated HuRi network is annotated with entrez Id."
   ]
  },
  {
   "cell_type": "code",
   "execution_count": 3,
   "id": "67925814",
   "metadata": {},
   "outputs": [],
   "source": [
    "huri_network = pd.read_csv(\"../data/HuRi.connected.entrez.tsv\", delim_whitespace = True, header = None)\n",
    "huri_prots   = set(huri_network[0]).union(set(huri_network[1]))"
   ]
  },
  {
   "cell_type": "markdown",
   "id": "4a389cef",
   "metadata": {},
   "source": [
    "## <span style=\"color:red\">Get the STRING human network and the proteins</span>\n",
    "\n",
    "The annotated STRING network is also annotated with entrez Id."
   ]
  },
  {
   "cell_type": "code",
   "execution_count": 5,
   "id": "3bb30ee0",
   "metadata": {},
   "outputs": [],
   "source": [
    "string_network = pd.read_csv(\"../data/human.STRING.entrez.tsv\", delim_whitespace = True, header = None)\n",
    "# TODO: Use both the TRAINING and TEST positive data here\n",
    "string_prots   = set(string_network[0]).union(set(string_network[1]))"
   ]
  },
  {
   "cell_type": "markdown",
   "id": "015403ff",
   "metadata": {},
   "source": [
    "## <span style=\"color:red\">Get the SUB-network constructed from the intersection of HuRI and STRING proteins</span>\n",
    "\n",
    "| Desc.          | Freq.|\n",
    "|--------------- |------|\n",
    "|STRING proteins | 7365 |\n",
    "|HuRI proteins   | 8224 |\n",
    "|Intersection    | 3855 |"
   ]
  },
  {
   "cell_type": "code",
   "execution_count": 7,
   "id": "f8a848f0",
   "metadata": {},
   "outputs": [
    {
     "data": {
      "text/plain": [
       "(11439, 13204)"
      ]
     },
     "execution_count": 7,
     "metadata": {},
     "output_type": "execute_result"
    }
   ],
   "source": [
    "cprot = string_prots.intersection(huri_prots)\n",
    "hsub  = ~(huri_network[0].isin(cprot) & huri_network[1].isin(cprot))\n",
    "ssub  = ~(string_network[0].isin(cprot) & string_network[1].isin(cprot))\n",
    "\n",
    "huri_net   = huri_network.drop(huri_network.index[hsub])\n",
    "string_net = string_network.drop(string_network.index[ssub])\n",
    "\n",
    "len(huri_net), len(string_net)"
   ]
  },
  {
   "cell_type": "markdown",
   "id": "bfcf26f0",
   "metadata": {},
   "source": [
    "## <span style=\"color:red\"> Get GO labels for the Intersection Proteins </span>\n",
    "\n",
    "The GO terms for MF, BP and CC hierarchies are >= 5"
   ]
  },
  {
   "cell_type": "code",
   "execution_count": 1,
   "id": "d5383cff",
   "metadata": {},
   "outputs": [
    {
     "ename": "NameError",
     "evalue": "name 'get_labels' is not defined",
     "output_type": "error",
     "traceback": [
      "\u001b[0;31m---------------------------------------------------------------------------\u001b[0m",
      "\u001b[0;31mNameError\u001b[0m                                 Traceback (most recent call last)",
      "\u001b[0;32m/tmp/ipykernel_1867540/2963335972.py\u001b[0m in \u001b[0;36m<module>\u001b[0;34m\u001b[0m\n\u001b[0;32m----> 1\u001b[0;31m F_list, labels_F = get_labels(cprot,\n\u001b[0m\u001b[1;32m      2\u001b[0m                    \u001b[0;34m\"../data/go/go-basic.obo\"\u001b[0m\u001b[0;34m,\u001b[0m\u001b[0;34m\u001b[0m\u001b[0;34m\u001b[0m\u001b[0m\n\u001b[1;32m      3\u001b[0m                    \u001b[0;34m\"../data/go/gene2go\"\u001b[0m\u001b[0;34m,\u001b[0m\u001b[0;34m\u001b[0m\u001b[0;34m\u001b[0m\u001b[0m\n\u001b[1;32m      4\u001b[0m                    \u001b[0mGOT\u001b[0m \u001b[0;34m=\u001b[0m \u001b[0;34m\"F\"\u001b[0m\u001b[0;34m,\u001b[0m\u001b[0;34m\u001b[0m\u001b[0;34m\u001b[0m\u001b[0m\n\u001b[1;32m      5\u001b[0m                    \u001b[0mmin_level\u001b[0m \u001b[0;34m=\u001b[0m \u001b[0;36m5\u001b[0m\u001b[0;34m,\u001b[0m\u001b[0;34m\u001b[0m\u001b[0;34m\u001b[0m\u001b[0m\n",
      "\u001b[0;31mNameError\u001b[0m: name 'get_labels' is not defined"
     ]
    }
   ],
   "source": [
    "F_list, labels_F = get_labels(cprot,\n",
    "                   \"../data/go/go-basic.obo\",\n",
    "                   \"../data/go/gene2go\",\n",
    "                   GOT = \"F\",\n",
    "                   min_level = 5,\n",
    "                   min_protein_annotation = 20,\n",
    "                   symbol_to_id = lambda x:x)"
   ]
  },
  {
   "cell_type": "code",
   "execution_count": 9,
   "id": "52083051",
   "metadata": {},
   "outputs": [
    {
     "name": "stdout",
     "output_type": "stream",
     "text": [
      "HMS:0:00:03.277595 335,858 annotations, 20,671 genes, 18,441 GOs, 1 taxids READ: /afs/csail.mit.edu/u/k/kdevko01/Research/mg-attention/datasets/go/extracted/gene2go \n",
      "18388 IDs in loaded association branch, biological_process\n",
      "  EXISTS: /afs/csail.mit.edu/u/k/kdevko01/Research/mg-attention/datasets/go/extracted/go-basic.obo\n",
      "/afs/csail.mit.edu/u/k/kdevko01/Research/mg-attention/datasets/go/extracted/go-basic.obo: fmt(1.2) rel(2021-02-01) 47,291 Terms; optional_attrs(relationship)\n",
      "Labels Obtained! The number of labels obtained is 44\n"
     ]
    }
   ],
   "source": [
    "P_list, labels_P = get_labels(cprot,\n",
    "                   \"/afs/csail.mit.edu/u/k/kdevko01/Research/mg-attention/datasets/go/extracted/go-basic.obo\",\n",
    "                   \"/afs/csail.mit.edu/u/k/kdevko01/Research/mg-attention/datasets/go/extracted/gene2go\",\n",
    "                   GOT = \"P\",\n",
    "                   min_level = 5,\n",
    "                   min_protein_annotation = 50,\n",
    "                   symbol_to_id = lambda x:x)"
   ]
  },
  {
   "cell_type": "code",
   "execution_count": 10,
   "id": "52c04260",
   "metadata": {},
   "outputs": [
    {
     "name": "stdout",
     "output_type": "stream",
     "text": [
      "HMS:0:00:03.338808 335,858 annotations, 20,671 genes, 18,441 GOs, 1 taxids READ: /afs/csail.mit.edu/u/k/kdevko01/Research/mg-attention/datasets/go/extracted/gene2go \n",
      "18388 IDs in loaded association branch, cellular_component\n",
      "  EXISTS: /afs/csail.mit.edu/u/k/kdevko01/Research/mg-attention/datasets/go/extracted/go-basic.obo\n",
      "/afs/csail.mit.edu/u/k/kdevko01/Research/mg-attention/datasets/go/extracted/go-basic.obo: fmt(1.2) rel(2021-02-01) 47,291 Terms; optional_attrs(relationship)\n",
      "Labels Obtained! The number of labels obtained is 39\n"
     ]
    }
   ],
   "source": [
    "C_list, labels_C = get_labels(cprot,\n",
    "                   \"/afs/csail.mit.edu/u/k/kdevko01/Research/mg-attention/datasets/go/extracted/go-basic.obo\",\n",
    "                   \"/afs/csail.mit.edu/u/k/kdevko01/Research/mg-attention/datasets/go/extracted/gene2go\",\n",
    "                    GOT = \"C\",\n",
    "                    min_level = 5,\n",
    "                    min_protein_annotation = 30,\n",
    "                    symbol_to_id = lambda x:x)"
   ]
  },
  {
   "cell_type": "markdown",
   "id": "17ba910e",
   "metadata": {},
   "source": [
    "## <span style=\"color:red\"> Get GO labels for the STRING Proteins </span>\n",
    "\n",
    "The GO terms for MF, BP and CC hierarchies are >= 5"
   ]
  },
  {
   "cell_type": "code",
   "execution_count": 18,
   "id": "d7b1286b",
   "metadata": {},
   "outputs": [
    {
     "name": "stdout",
     "output_type": "stream",
     "text": [
      "----------------------------------------------------------------------------------------------------P----------------------------------------------------------------------------------------------------\n",
      "HMS:0:00:04.104210 335,858 annotations, 20,671 genes, 18,441 GOs, 1 taxids READ: /afs/csail.mit.edu/u/k/kdevko01/Research/mg-attention/datasets/go/extracted/gene2go \n",
      "18388 IDs in loaded association branch, biological_process\n",
      "  EXISTS: /afs/csail.mit.edu/u/k/kdevko01/Research/mg-attention/datasets/go/extracted/go-basic.obo\n",
      "/afs/csail.mit.edu/u/k/kdevko01/Research/mg-attention/datasets/go/extracted/go-basic.obo: fmt(1.2) rel(2021-02-01) 47,291 Terms; optional_attrs(relationship)\n",
      "Labels Obtained! The number of labels obtained is 111\n",
      "----------------------------------------------------------------------------------------------------F----------------------------------------------------------------------------------------------------\n",
      "HMS:0:00:03.487370 335,858 annotations, 20,671 genes, 18,441 GOs, 1 taxids READ: /afs/csail.mit.edu/u/k/kdevko01/Research/mg-attention/datasets/go/extracted/gene2go \n",
      "18388 IDs in loaded association branch, molecular_function\n",
      "  EXISTS: /afs/csail.mit.edu/u/k/kdevko01/Research/mg-attention/datasets/go/extracted/go-basic.obo\n",
      "/afs/csail.mit.edu/u/k/kdevko01/Research/mg-attention/datasets/go/extracted/go-basic.obo: fmt(1.2) rel(2021-02-01) 47,291 Terms; optional_attrs(relationship)\n",
      "Labels Obtained! The number of labels obtained is 28\n",
      "----------------------------------------------------------------------------------------------------C----------------------------------------------------------------------------------------------------\n",
      "HMS:0:00:04.514376 335,858 annotations, 20,671 genes, 18,441 GOs, 1 taxids READ: /afs/csail.mit.edu/u/k/kdevko01/Research/mg-attention/datasets/go/extracted/gene2go \n",
      "18388 IDs in loaded association branch, cellular_component\n",
      "  EXISTS: /afs/csail.mit.edu/u/k/kdevko01/Research/mg-attention/datasets/go/extracted/go-basic.obo\n",
      "/afs/csail.mit.edu/u/k/kdevko01/Research/mg-attention/datasets/go/extracted/go-basic.obo: fmt(1.2) rel(2021-02-01) 47,291 Terms; optional_attrs(relationship)\n",
      "Labels Obtained! The number of labels obtained is 43\n"
     ]
    }
   ],
   "source": [
    "S_list = {}\n",
    "S_labels = {}\n",
    "for GO in [\"P\", \"F\", \"C\"]:\n",
    "    print(\"--\"*50 + GO + \"--\" * 50)\n",
    "    S_list[GO], S_labels[GO] = get_labels(string_prots,\n",
    "                       \"/afs/csail.mit.edu/u/k/kdevko01/Research/mg-attention/datasets/go/extracted/go-basic.obo\",\n",
    "                       \"/afs/csail.mit.edu/u/k/kdevko01/Research/mg-attention/datasets/go/extracted/gene2go\",\n",
    "                       GOT = GO,\n",
    "                       min_level = 5,\n",
    "                       min_protein_annotation = 50,\n",
    "                       symbol_to_id = lambda x:x)"
   ]
  },
  {
   "cell_type": "code",
   "execution_count": 19,
   "id": "75a9d341",
   "metadata": {},
   "outputs": [
    {
     "name": "stdout",
     "output_type": "stream",
     "text": [
      "----------------------------------------------------------------------------------------------------P----------------------------------------------------------------------------------------------------\n",
      "HMS:0:00:04.171020 335,858 annotations, 20,671 genes, 18,441 GOs, 1 taxids READ: /afs/csail.mit.edu/u/k/kdevko01/Research/mg-attention/datasets/go/extracted/gene2go \n",
      "18388 IDs in loaded association branch, biological_process\n",
      "  EXISTS: /afs/csail.mit.edu/u/k/kdevko01/Research/mg-attention/datasets/go/extracted/go-basic.obo\n",
      "/afs/csail.mit.edu/u/k/kdevko01/Research/mg-attention/datasets/go/extracted/go-basic.obo: fmt(1.2) rel(2021-02-01) 47,291 Terms; optional_attrs(relationship)\n",
      "Labels Obtained! The number of labels obtained is 75\n",
      "----------------------------------------------------------------------------------------------------F----------------------------------------------------------------------------------------------------\n",
      "HMS:0:00:03.565969 335,858 annotations, 20,671 genes, 18,441 GOs, 1 taxids READ: /afs/csail.mit.edu/u/k/kdevko01/Research/mg-attention/datasets/go/extracted/gene2go \n",
      "18388 IDs in loaded association branch, molecular_function\n",
      "  EXISTS: /afs/csail.mit.edu/u/k/kdevko01/Research/mg-attention/datasets/go/extracted/go-basic.obo\n",
      "/afs/csail.mit.edu/u/k/kdevko01/Research/mg-attention/datasets/go/extracted/go-basic.obo: fmt(1.2) rel(2021-02-01) 47,291 Terms; optional_attrs(relationship)\n",
      "Labels Obtained! The number of labels obtained is 24\n",
      "----------------------------------------------------------------------------------------------------C----------------------------------------------------------------------------------------------------\n",
      "HMS:0:00:03.971557 335,858 annotations, 20,671 genes, 18,441 GOs, 1 taxids READ: /afs/csail.mit.edu/u/k/kdevko01/Research/mg-attention/datasets/go/extracted/gene2go \n",
      "18388 IDs in loaded association branch, cellular_component\n",
      "  EXISTS: /afs/csail.mit.edu/u/k/kdevko01/Research/mg-attention/datasets/go/extracted/go-basic.obo\n",
      "/afs/csail.mit.edu/u/k/kdevko01/Research/mg-attention/datasets/go/extracted/go-basic.obo: fmt(1.2) rel(2021-02-01) 47,291 Terms; optional_attrs(relationship)\n",
      "Labels Obtained! The number of labels obtained is 39\n"
     ]
    }
   ],
   "source": [
    "H_list = {}\n",
    "H_labels = {}\n",
    "for GO in [\"P\", \"F\", \"C\"]:\n",
    "    print(\"--\"*50 + GO + \"--\" * 50)\n",
    "    H_list[GO], H_labels[GO] = get_labels(huri_prots,\n",
    "                       \"/afs/csail.mit.edu/u/k/kdevko01/Research/mg-attention/datasets/go/extracted/go-basic.obo\",\n",
    "                       \"/afs/csail.mit.edu/u/k/kdevko01/Research/mg-attention/datasets/go/extracted/gene2go\",\n",
    "                       GOT = GO,\n",
    "                       min_level = 5,\n",
    "                       min_protein_annotation = 50,\n",
    "                       symbol_to_id = lambda x:x)"
   ]
  },
  {
   "cell_type": "markdown",
   "id": "4c87afd9",
   "metadata": {},
   "source": [
    "## <span style=\"color:red\">Computation of Average RESNIK similarities for Both HURI and STRING </span>"
   ]
  },
  {
   "cell_type": "code",
   "execution_count": 12,
   "id": "e982b368",
   "metadata": {},
   "outputs": [
    {
     "name": "stdout",
     "output_type": "stream",
     "text": [
      "/afs/csail.mit.edu/u/k/kdevko01/Research/mg-attention/datasets/go/extracted/go-basic.obo: fmt(1.2) rel(2021-02-01) 47,291 Terms\n",
      "HMS:0:00:23.535098 608,616 annotations READ: /afs/csail.mit.edu/u/k/kdevko01/Research/mg-attention/datasets/go/extracted/go-human.gaf \n",
      "18053 IDs in loaded association branch, MF\n",
      "HMS:0:00:09.811882 608,616 annotations READ: /afs/csail.mit.edu/u/k/kdevko01/Research/mg-attention/datasets/go/extracted/go-human.gaf \n",
      "17586 IDs in loaded association branch, BP\n",
      "HMS:0:00:11.243124 608,616 annotations READ: /afs/csail.mit.edu/u/k/kdevko01/Research/mg-attention/datasets/go/extracted/go-human.gaf \n",
      "18859 IDs in loaded association branch, CC\n"
     ]
    }
   ],
   "source": [
    "from goatools.obo_parser import GODag\n",
    "from goatools.associations import read_gaf\n",
    "from goatools.semantic import TermCounts, get_info_content\n",
    "from goatools.semantic import resnik_sim\n",
    "\n",
    "\n",
    "godag = GODag(\"/afs/csail.mit.edu/u/k/kdevko01/Research/mg-attention/datasets/go/extracted/go-basic.obo\")\n",
    "assoc_f = read_gaf(\"/afs/csail.mit.edu/u/k/kdevko01/Research/mg-attention/datasets/go/extracted/go-human.gaf\", namespace = \"MF\")\n",
    "assoc_p = read_gaf(\"/afs/csail.mit.edu/u/k/kdevko01/Research/mg-attention/datasets/go/extracted/go-human.gaf\", namespace = \"BP\")\n",
    "assoc_c = read_gaf(\"/afs/csail.mit.edu/u/k/kdevko01/Research/mg-attention/datasets/go/extracted/go-human.gaf\", namespace = \"CC\")\n",
    "\n",
    "tcount_f = TermCounts(godag, assoc_f)\n",
    "tcount_p = TermCounts(godag, assoc_p)\n",
    "tcount_c = TermCounts(godag, assoc_c)"
   ]
  },
  {
   "cell_type": "code",
   "execution_count": 13,
   "id": "30a77910",
   "metadata": {},
   "outputs": [],
   "source": [
    "def sem_similarity_(go_id, go_ids, go_dag, term_counts, avg = False):\n",
    "    \"\"\"\n",
    "    If avg == True, compute the average Resnik Similarity Instead.\n",
    "    \"\"\"\n",
    "    sims = [resnik_sim(go_id, go_i, go_dag, term_counts) for go_i in go_ids]\n",
    "    if avg:\n",
    "        return np.average(sims)\n",
    "    return np.max(sims)\n",
    "    \n",
    "def sem_similarity(gois_1, gois_2, go_dag, term_counts, avg = False):\n",
    "    \"\"\"\n",
    "    If avg == True, use the average Resnik Similarity, provided in Pandey et. al.\n",
    "    https://academic.oup.com/bioinformatics/article/24/16/i28/201569\n",
    "    \"\"\"\n",
    "    if avg:\n",
    "        sims = [sem_similarity_(g1, gois_2, go_dag, term_counts) for g1 in gois_1]\n",
    "        return np.average(sims)"
   ]
  },
  {
   "cell_type": "code",
   "execution_count": 20,
   "id": "9c2e957a",
   "metadata": {},
   "outputs": [],
   "source": [
    "def get_prot_lab_map(labels):\n",
    "    prot_maps = {}\n",
    "    for l in labels:\n",
    "        for prot in list(labels[l]):\n",
    "            if prot not in prot_maps:\n",
    "                prot_maps[prot]  = [l]\n",
    "            else:\n",
    "                prot_maps[prot] += [l]\n",
    "    return prot_maps\n",
    "\n",
    "prot_F = get_prot_lab_map(labels_F)\n",
    "prot_P = get_prot_lab_map(labels_P)\n",
    "prot_C = get_prot_lab_map(labels_C)"
   ]
  },
  {
   "cell_type": "code",
   "execution_count": 21,
   "id": "2fb881ab",
   "metadata": {},
   "outputs": [],
   "source": [
    "S_prot = {}\n",
    "H_prot = {}\n",
    "\n",
    "for GO in [\"P\", \"F\", \"C\"]:\n",
    "    S_prot[GO] = get_prot_lab_map(S_labels[GO])\n",
    "    H_prot[GO] = get_prot_lab_map(H_labels[GO])"
   ]
  },
  {
   "cell_type": "markdown",
   "id": "4a491102",
   "metadata": {},
   "source": [
    "## SHARED HURI network"
   ]
  },
  {
   "cell_type": "code",
   "execution_count": 23,
   "id": "d5975925",
   "metadata": {},
   "outputs": [],
   "source": [
    "avg_results = {\"MF\": [], \"BP\": [], \"CC\": []}\n",
    "\n",
    "hcf = 0\n",
    "hcp = 0\n",
    "hcc = 0\n",
    "semf = 0.\n",
    "semp = 0.\n",
    "semc = 0.\n",
    "for i, row in huri_net.iterrows():\n",
    "    if row[0] in prot_F and row[1] in prot_F:\n",
    "        sem   = sem_similarity(prot_F[row[0]], prot_F[row[1]], godag, tcount_f, avg = True)\n",
    "        if sem != None:\n",
    "            semf += sem\n",
    "            hcf  += 1\n",
    "    if row[0] in prot_P and row[1] in prot_P:\n",
    "        sem   = sem_similarity(prot_P[row[0]], prot_P[row[1]], godag, tcount_p, avg = True)\n",
    "        if sem != None:\n",
    "            semp += sem\n",
    "            hcp  += 1    \n",
    "    if row[0] in prot_C and row[1] in prot_C:\n",
    "        sem   = sem_similarity(prot_C[row[0]], prot_C[row[1]], godag, tcount_c, avg = True)\n",
    "        if sem != None:\n",
    "            semc += sem\n",
    "            hcc  += 1\n",
    "semf /= hcf\n",
    "semc /= hcc\n",
    "semp /= hcp\n",
    "\n",
    "avg_results[\"MF\"] += [semf]\n",
    "avg_results[\"BP\"] += [semp]\n",
    "avg_results[\"CC\"] += [semc]\n",
    "#ss_F = lambda row: sem_similarity(prot_F[row[0]], prot_F[row[1]], go_dag, term_counts, avg = True) if row[0] in prot_F and row[1] in prot_F else 0\n",
    "#x    = huri_net.apply(ss_F)\n",
    "# Average for HURI"
   ]
  },
  {
   "cell_type": "markdown",
   "id": "50d6a02e",
   "metadata": {},
   "source": [
    "## Shared STRING network"
   ]
  },
  {
   "cell_type": "code",
   "execution_count": 24,
   "id": "19aecc70",
   "metadata": {},
   "outputs": [
    {
     "data": {
      "text/plain": [
       "{'MF': [1.230254433821741, 1.5086940360258054],\n",
       " 'BP': [1.4184889623161654, 2.796802027917095],\n",
       " 'CC': [1.0434917541606399, 1.4681873404535732]}"
      ]
     },
     "execution_count": 24,
     "metadata": {},
     "output_type": "execute_result"
    }
   ],
   "source": [
    "hcf = 0\n",
    "hcp = 0\n",
    "hcc = 0\n",
    "semf = 0.\n",
    "semp = 0.\n",
    "semc = 0.\n",
    "for i, row in string_net.iterrows():\n",
    "    if row[0] in prot_F and row[1] in prot_F:\n",
    "        sem   = sem_similarity(prot_F[row[0]], prot_F[row[1]], godag, tcount_f, avg = True)\n",
    "        if sem != None:\n",
    "            semf += sem\n",
    "            hcf  += 1\n",
    "    if row[0] in prot_P and row[1] in prot_P:\n",
    "        sem   = sem_similarity(prot_P[row[0]], prot_P[row[1]], godag, tcount_p, avg = True)\n",
    "        if sem != None:\n",
    "            semp += sem\n",
    "            hcp  += 1    \n",
    "    if row[0] in prot_C and row[1] in prot_C:\n",
    "        sem   = sem_similarity(prot_C[row[0]], prot_C[row[1]], godag, tcount_c, avg = True)\n",
    "        if sem != None:\n",
    "            semc += sem\n",
    "            hcc  += 1\n",
    "semf /= hcf\n",
    "semc /= hcc\n",
    "semp /= hcp\n",
    "\n",
    "\n",
    "avg_results[\"MF\"] += [semf]\n",
    "avg_results[\"BP\"] += [semp]\n",
    "avg_results[\"CC\"] += [semc]\n",
    "avg_results"
   ]
  },
  {
   "cell_type": "markdown",
   "id": "8acd7f11",
   "metadata": {},
   "source": [
    "## Complete HURI network"
   ]
  },
  {
   "cell_type": "code",
   "execution_count": 25,
   "id": "6791eabf",
   "metadata": {},
   "outputs": [
    {
     "data": {
      "text/plain": [
       "{'MF': [1.230254433821741, 1.5086940360258054, 1.1074388481951278],\n",
       " 'BP': [1.4184889623161654, 2.796802027917095, 1.0222082225735245],\n",
       " 'CC': [1.0434917541606399, 1.4681873404535732, 0.952129070420849]}"
      ]
     },
     "execution_count": 25,
     "metadata": {},
     "output_type": "execute_result"
    }
   ],
   "source": [
    "hcf = 0\n",
    "hcp = 0\n",
    "hcc = 0\n",
    "semf = 0.\n",
    "semp = 0.\n",
    "semc = 0.\n",
    "for i, row in huri_network.iterrows():\n",
    "    if row[0] in H_prot[\"F\"] and row[1] in H_prot[\"F\"]:\n",
    "        sem   = sem_similarity(H_prot[\"F\"][row[0]], H_prot[\"F\"][row[1]], godag, tcount_f, avg = True)\n",
    "        if sem != None:\n",
    "            semf += sem\n",
    "            hcf  += 1\n",
    "    if row[0] in H_prot[\"P\"] and row[1] in H_prot[\"P\"]:\n",
    "        sem   = sem_similarity(H_prot[\"P\"][row[0]], H_prot[\"P\"][row[1]], godag, tcount_p, avg = True)\n",
    "        if sem != None:\n",
    "            semp += sem\n",
    "            hcp  += 1    \n",
    "    if row[0] in H_prot[\"C\"] and row[1] in H_prot[\"C\"]:\n",
    "        sem   = sem_similarity(H_prot[\"C\"][row[0]], H_prot[\"C\"][row[1]], godag, tcount_c, avg = True)\n",
    "        if sem != None:\n",
    "            semc += sem\n",
    "            hcc  += 1\n",
    "semf /= hcf\n",
    "semc /= hcc\n",
    "semp /= hcp\n",
    "\n",
    "avg_results[\"MF\"] += [semf]\n",
    "avg_results[\"BP\"] += [semp]\n",
    "avg_results[\"CC\"] += [semc]\n",
    "avg_results"
   ]
  },
  {
   "cell_type": "markdown",
   "id": "53915269",
   "metadata": {},
   "source": [
    "## Complete STRING network"
   ]
  },
  {
   "cell_type": "code",
   "execution_count": 27,
   "id": "b76267bf",
   "metadata": {},
   "outputs": [
    {
     "data": {
      "text/plain": [
       "{'MF': [1.230254433821741,\n",
       "  1.5086940360258054,\n",
       "  1.1074388481951278,\n",
       "  1.4666489997307075],\n",
       " 'BP': [1.4184889623161654,\n",
       "  2.796802027917095,\n",
       "  1.0222082225735245,\n",
       "  3.244117831016514],\n",
       " 'CC': [1.0434917541606399,\n",
       "  1.4681873404535732,\n",
       "  0.952129070420849,\n",
       "  1.5990651888382186]}"
      ]
     },
     "execution_count": 27,
     "metadata": {},
     "output_type": "execute_result"
    }
   ],
   "source": [
    "hcf = 0\n",
    "hcp = 0\n",
    "hcc = 0\n",
    "semf = 0.\n",
    "semp = 0.\n",
    "semc = 0.\n",
    "for i, row in string_network.iterrows():\n",
    "    if row[0] in S_prot[\"F\"] and row[1] in S_prot[\"F\"]:\n",
    "        sem   = sem_similarity(S_prot[\"F\"][row[0]], S_prot[\"F\"][row[1]], godag, tcount_f, avg = True)\n",
    "        if sem != None:\n",
    "            semf += sem\n",
    "            hcf  += 1\n",
    "    if row[0] in S_prot[\"P\"] and row[1] in S_prot[\"P\"]:\n",
    "        sem   = sem_similarity(S_prot[\"P\"][row[0]], S_prot[\"P\"][row[1]], godag, tcount_p, avg = True)\n",
    "        if sem != None:\n",
    "            semp += sem\n",
    "            hcp  += 1    \n",
    "    if row[0] in S_prot[\"C\"] and row[1] in S_prot[\"C\"]:\n",
    "        sem   = sem_similarity(S_prot[\"C\"][row[0]], S_prot[\"C\"][row[1]], godag, tcount_c, avg = True)\n",
    "        if sem != None:\n",
    "            semc += sem\n",
    "            hcc  += 1\n",
    "semf /= hcf\n",
    "semc /= hcc\n",
    "semp /= hcp\n",
    "\n",
    "avg_results[\"MF\"] += [semf]\n",
    "avg_results[\"BP\"] += [semp]\n",
    "avg_results[\"CC\"] += [semc]\n",
    "avg_results"
   ]
  },
  {
   "cell_type": "code",
   "execution_count": 28,
   "id": "9fa02295",
   "metadata": {},
   "outputs": [],
   "source": [
    "df_results = pd.DataFrame(avg_results)\n",
    "df_results[\"Network\"] = [\"HuRI\", \"STRING-HUMAN\", \"Complete-HuRI\", \"Complete-STRING\"]"
   ]
  },
  {
   "cell_type": "markdown",
   "id": "9617ba92",
   "metadata": {},
   "source": [
    "## <span style=\"color:red\">RESNIK Results for HURI And STRING ON THE SAME NETWORK</span>"
   ]
  },
  {
   "cell_type": "code",
   "execution_count": 29,
   "id": "d41ad26a",
   "metadata": {},
   "outputs": [
    {
     "data": {
      "text/html": [
       "<div>\n",
       "<style scoped>\n",
       "    .dataframe tbody tr th:only-of-type {\n",
       "        vertical-align: middle;\n",
       "    }\n",
       "\n",
       "    .dataframe tbody tr th {\n",
       "        vertical-align: top;\n",
       "    }\n",
       "\n",
       "    .dataframe thead th {\n",
       "        text-align: right;\n",
       "    }\n",
       "</style>\n",
       "<table border=\"1\" class=\"dataframe\">\n",
       "  <thead>\n",
       "    <tr style=\"text-align: right;\">\n",
       "      <th></th>\n",
       "      <th>MF</th>\n",
       "      <th>BP</th>\n",
       "      <th>CC</th>\n",
       "    </tr>\n",
       "    <tr>\n",
       "      <th>Network</th>\n",
       "      <th></th>\n",
       "      <th></th>\n",
       "      <th></th>\n",
       "    </tr>\n",
       "  </thead>\n",
       "  <tbody>\n",
       "    <tr>\n",
       "      <th>HuRI</th>\n",
       "      <td>1.230254</td>\n",
       "      <td>1.418489</td>\n",
       "      <td>1.043492</td>\n",
       "    </tr>\n",
       "    <tr>\n",
       "      <th>STRING-HUMAN</th>\n",
       "      <td>1.508694</td>\n",
       "      <td>2.796802</td>\n",
       "      <td>1.468187</td>\n",
       "    </tr>\n",
       "    <tr>\n",
       "      <th>Complete-HuRI</th>\n",
       "      <td>1.107439</td>\n",
       "      <td>1.022208</td>\n",
       "      <td>0.952129</td>\n",
       "    </tr>\n",
       "    <tr>\n",
       "      <th>Complete-STRING</th>\n",
       "      <td>1.466649</td>\n",
       "      <td>3.244118</td>\n",
       "      <td>1.599065</td>\n",
       "    </tr>\n",
       "  </tbody>\n",
       "</table>\n",
       "</div>"
      ],
      "text/plain": [
       "                       MF        BP        CC\n",
       "Network                                      \n",
       "HuRI             1.230254  1.418489  1.043492\n",
       "STRING-HUMAN     1.508694  2.796802  1.468187\n",
       "Complete-HuRI    1.107439  1.022208  0.952129\n",
       "Complete-STRING  1.466649  3.244118  1.599065"
      ]
     },
     "execution_count": 29,
     "metadata": {},
     "output_type": "execute_result"
    }
   ],
   "source": [
    "df_results = df_results.set_index(\"Network\")\n",
    "df_results.to_csv(\"huri_string_results.tsv\", sep = \"\\t\")\n",
    "df_results"
   ]
  },
  {
   "cell_type": "markdown",
   "id": "257d4490",
   "metadata": {},
   "source": [
    "# <span style=\"color:red\">Function Prediction: 5-fold Cross-validation on the STRING AND HuRI Networks using `Majority Vote` Algorithm</span> "
   ]
  },
  {
   "cell_type": "code",
   "execution_count": 32,
   "id": "3ee196ad",
   "metadata": {},
   "outputs": [],
   "source": [
    "sys.path.append(\"../../src/\")\n",
    "from scoring import kfoldcv, kfoldcv_sim, kfoldcv_with_pr\n",
    "import numpy as np\n",
    "import predict\n",
    "\n",
    "def create_predictor(similarity_matrix, is_wt, confidence = True):\n",
    "    def predictor(training_labels):\n",
    "        tlabels_f = lambda i: (training_labels[i] if i in training_labels else [])\n",
    "        if is_wt:\n",
    "            return predict.wmv(similarity_matrix, tlabels_f, confidence = confidence)\n",
    "        else:\n",
    "            return predict.mv(similarity_matrix, tlabels_f, confidence = confidence)\n",
    "    return predictor\n",
    "\n",
    "def net_to_mat(df_net, prot):\n",
    "    protmap = {k:i for i, k in enumerate(prot)}\n",
    "    A       = np.zeros((len(protmap), len(protmap)))\n",
    "    for i, r in df_net.iterrows():\n",
    "        p = protmap[r[0]]\n",
    "        q = protmap[r[1]]\n",
    "        A[p, q] = 1.0\n",
    "        A[q, p] = 1.0\n",
    "    return protmap, A\n",
    "\n"
   ]
  },
  {
   "cell_type": "code",
   "execution_count": 33,
   "id": "d306ac65",
   "metadata": {},
   "outputs": [],
   "source": [
    "map_S, string_A = net_to_mat(string_net, cprot)\n",
    "map_H, huri_A   = net_to_mat(huri_net, cprot)"
   ]
  },
  {
   "cell_type": "code",
   "execution_count": 34,
   "id": "1941fed0",
   "metadata": {},
   "outputs": [],
   "source": [
    "pid_F = {map_S[key]:val for key, val in prot_F.items()}\n",
    "pid_P = {map_S[key]:val for key, val in prot_P.items()}\n",
    "pid_C = {map_S[key]:val for key, val in prot_C.items()}"
   ]
  },
  {
   "cell_type": "code",
   "execution_count": 35,
   "id": "d0b8dcbb",
   "metadata": {},
   "outputs": [],
   "source": [
    "results = {\"acc_F\": [], \"acc_P\": [], \"acc_C\": [], \"f1_P\": [], \"f1_C\": []}"
   ]
  },
  {
   "cell_type": "code",
   "execution_count": 36,
   "id": "e8eb5c5e",
   "metadata": {},
   "outputs": [],
   "source": [
    "acc_f_huri = kfoldcv(5,\n",
    "                     pid_F,\n",
    "                     create_predictor(huri_A, is_wt = True, confidence = False) \n",
    "                    )\n",
    "acc_f_string = kfoldcv(5,\n",
    "                     pid_F,\n",
    "                     create_predictor(string_A, is_wt = True, confidence = False) \n",
    "                    )\n",
    "\n",
    "results[\"acc_F\"] = [np.average(k) for k in [acc_f_huri, acc_f_string]]\n",
    "\n",
    "acc_p_huri = kfoldcv(5,\n",
    "                     pid_P,\n",
    "                     create_predictor(huri_A, is_wt = True, confidence = False) \n",
    "                    )\n",
    "acc_p_string = kfoldcv(5,\n",
    "                     pid_P,\n",
    "                     create_predictor(string_A, is_wt = True, confidence = False) \n",
    "                    )\n",
    "\n",
    "results[\"acc_P\"] = [np.average(k) for k in [acc_p_huri, acc_p_string]]\n",
    "\n",
    "acc_c_huri = kfoldcv(5,\n",
    "                     pid_C,\n",
    "                     create_predictor(huri_A, is_wt = True, confidence = False) \n",
    "                    )\n",
    "acc_c_string = kfoldcv(5,\n",
    "                     pid_C,\n",
    "                     create_predictor(string_A, is_wt = True, confidence = False) \n",
    "                    )\n",
    "\n",
    "results[\"acc_C\"] = [np.average(k) for k in [acc_c_huri, acc_c_string]]\n",
    "\n"
   ]
  },
  {
   "cell_type": "code",
   "execution_count": 37,
   "id": "636f53a9",
   "metadata": {},
   "outputs": [],
   "source": [
    "f1_f_huri = kfoldcv_with_pr(5,\n",
    "                     pid_F,\n",
    "                     create_predictor(huri_A, is_wt = True) \n",
    "                    )\n",
    "f1_f_string = kfoldcv_with_pr(5,\n",
    "                     pid_F,\n",
    "                     create_predictor(string_A, is_wt = True) \n",
    "                    )\n",
    "\n",
    "results[\"f1_F\"] = [np.average(k) for k in [f1_f_huri, f1_f_string]]\n",
    "\n",
    "f1_p_huri = kfoldcv_with_pr(5,\n",
    "                     pid_P,\n",
    "                     create_predictor(huri_A, is_wt = True) \n",
    "                    )\n",
    "f1_p_string = kfoldcv_with_pr(5,\n",
    "                     pid_P,\n",
    "                     create_predictor(string_A, is_wt = True) \n",
    "                    )\n",
    "\n",
    "results[\"f1_P\"] = [np.average(k) for k in [f1_p_huri, f1_p_string]]\n",
    "\n",
    "f1_c_huri = kfoldcv_with_pr(5,\n",
    "                     pid_C,\n",
    "                     create_predictor(huri_A, is_wt = True) \n",
    "                    )\n",
    "f1_c_string = kfoldcv_with_pr(5,\n",
    "                     pid_C,\n",
    "                     create_predictor(string_A, is_wt = True) \n",
    "                    )\n",
    "\n",
    "results[\"f1_C\"] = [np.average(k) for k in [f1_c_huri, f1_c_string]]\n",
    "\n"
   ]
  },
  {
   "cell_type": "code",
   "execution_count": 38,
   "id": "76f99ecf",
   "metadata": {},
   "outputs": [],
   "source": [
    "df_mv = pd.DataFrame(results)"
   ]
  },
  {
   "cell_type": "code",
   "execution_count": 39,
   "id": "1c3f1ef1",
   "metadata": {},
   "outputs": [],
   "source": [
    "df_mv[\"network\"] = [\"HuRI\", \"STRING\"]"
   ]
  },
  {
   "cell_type": "code",
   "execution_count": 40,
   "id": "3d7a6d2f",
   "metadata": {},
   "outputs": [
    {
     "data": {
      "text/html": [
       "<div>\n",
       "<style scoped>\n",
       "    .dataframe tbody tr th:only-of-type {\n",
       "        vertical-align: middle;\n",
       "    }\n",
       "\n",
       "    .dataframe tbody tr th {\n",
       "        vertical-align: top;\n",
       "    }\n",
       "\n",
       "    .dataframe thead th {\n",
       "        text-align: right;\n",
       "    }\n",
       "</style>\n",
       "<table border=\"1\" class=\"dataframe\">\n",
       "  <thead>\n",
       "    <tr style=\"text-align: right;\">\n",
       "      <th></th>\n",
       "      <th>acc_F</th>\n",
       "      <th>acc_P</th>\n",
       "      <th>acc_C</th>\n",
       "      <th>f1_P</th>\n",
       "      <th>f1_C</th>\n",
       "      <th>f1_F</th>\n",
       "    </tr>\n",
       "    <tr>\n",
       "      <th>network</th>\n",
       "      <th></th>\n",
       "      <th></th>\n",
       "      <th></th>\n",
       "      <th></th>\n",
       "      <th></th>\n",
       "      <th></th>\n",
       "    </tr>\n",
       "  </thead>\n",
       "  <tbody>\n",
       "    <tr>\n",
       "      <th>HuRI</th>\n",
       "      <td>0.147201</td>\n",
       "      <td>0.184006</td>\n",
       "      <td>0.378142</td>\n",
       "      <td>0.235094</td>\n",
       "      <td>0.401957</td>\n",
       "      <td>0.214376</td>\n",
       "    </tr>\n",
       "    <tr>\n",
       "      <th>STRING</th>\n",
       "      <td>0.267760</td>\n",
       "      <td>0.374582</td>\n",
       "      <td>0.517304</td>\n",
       "      <td>0.404698</td>\n",
       "      <td>0.545276</td>\n",
       "      <td>0.340854</td>\n",
       "    </tr>\n",
       "  </tbody>\n",
       "</table>\n",
       "</div>"
      ],
      "text/plain": [
       "            acc_F     acc_P     acc_C      f1_P      f1_C      f1_F\n",
       "network                                                            \n",
       "HuRI     0.147201  0.184006  0.378142  0.235094  0.401957  0.214376\n",
       "STRING   0.267760  0.374582  0.517304  0.404698  0.545276  0.340854"
      ]
     },
     "execution_count": 40,
     "metadata": {},
     "output_type": "execute_result"
    }
   ],
   "source": [
    "df_mv.set_index(\"network\")"
   ]
  },
  {
   "cell_type": "code",
   "execution_count": 41,
   "id": "42a721d8",
   "metadata": {},
   "outputs": [],
   "source": [
    "df_mv.to_csv(\"mv_results.tsv\", sep = \"\\t\")"
   ]
  },
  {
   "cell_type": "markdown",
   "id": "ca1e08f0",
   "metadata": {},
   "source": [
    "## DEGREE based Analysis"
   ]
  },
  {
   "cell_type": "code",
   "execution_count": 48,
   "id": "4cdac00c",
   "metadata": {},
   "outputs": [
    {
     "name": "stdout",
     "output_type": "stream",
     "text": [
      "The autoreload extension is already loaded. To reload it, use:\n",
      "  %reload_ext autoreload\n"
     ]
    }
   ],
   "source": [
    "%load_ext autoreload\n",
    "%autoreload 2\n",
    "\n",
    "from scoring import kfoldcv, kfoldcv_sim, kfoldcv_with_pr"
   ]
  },
  {
   "cell_type": "code",
   "execution_count": 52,
   "id": "16b5b7d9",
   "metadata": {},
   "outputs": [
    {
     "name": "stdout",
     "output_type": "stream",
     "text": [
      "Using Network Shared-HURI...\n",
      "Constructing Degree matrix...\n",
      "\t Using Metric Accuracy...\n",
      "\t Constructing Predictor...\n",
      "\t\t Degree threshold: 5\n",
      "\t\t\tGO label : MF\n",
      "[0.13043478260869565, 0.1210762331838565, 0.1210762331838565, 0.10714285714285714, 0.125]\n",
      "\t\t\tGO label : BP\n",
      "[0.16049382716049382, 0.16205533596837945, 0.16793893129770993, 0.2, 0.15891472868217055]\n",
      "\t\t\tGO label : CC\n",
      "[0.33509234828496043, 0.30808080808080807, 0.3038961038961039, 0.3005181347150259, 0.32225063938618925]\n",
      "\t\t Degree threshold: 10\n",
      "\t\t\tGO label : MF\n",
      "[0.13157894736842105, 0.12355212355212356, 0.11194029850746269, 0.16, 0.1348314606741573]\n",
      "\t\t\tGO label : BP\n",
      "[0.17491749174917492, 0.1895424836601307, 0.1901639344262295, 0.1917808219178082, 0.2079207920792079]\n",
      "\t\t\tGO label : CC\n",
      "[0.36666666666666664, 0.3390191897654584, 0.3579418344519016, 0.35053763440860214, 0.35555555555555557]\n",
      "\t\t Degree threshold: 25\n",
      "\t\t\tGO label : MF\n",
      "[0.13953488372093023, 0.14, 0.1353135313531353, 0.1437908496732026, 0.13758389261744966]\n",
      "\t\t\tGO label : BP\n",
      "[0.21407624633431085, 0.19943019943019943, 0.15988372093023256, 0.22189349112426035, 0.18911174785100288]\n",
      "\t\t\tGO label : CC\n",
      "[0.3531669865642994, 0.367112810707457, 0.3484848484848485, 0.3988439306358382, 0.3931297709923664]\n",
      "\t\t Degree threshold: 50\n",
      "\t\t\tGO label : MF\n",
      "[0.1414790996784566, 0.15654952076677317, 0.12903225806451613, 0.13738019169329074, 0.13782051282051283]\n",
      "\t\t\tGO label : BP\n",
      "[0.14804469273743018, 0.18055555555555555, 0.23333333333333334, 0.19273743016759776, 0.18333333333333332]\n",
      "\t\t\tGO label : CC\n",
      "[0.36446886446886445, 0.4157509157509158, 0.3388888888888889, 0.387037037037037, 0.3678373382624769]\n",
      "\t\t Degree threshold: 100\n",
      "\t\t\tGO label : MF\n",
      "[0.16507936507936508, 0.1111111111111111, 0.14603174603174604, 0.12698412698412698, 0.13291139240506328]\n",
      "\t\t\tGO label : BP\n",
      "[0.19505494505494506, 0.19505494505494506, 0.16986301369863013, 0.15342465753424658, 0.2154696132596685]\n",
      "\t\t\tGO label : CC\n",
      "[0.36678832116788324, 0.3843351548269581, 0.36678832116788324, 0.38095238095238093, 0.3679417122040073]\n",
      "\t Using Metric F1-max...\n",
      "\t Constructing Predictor...\n",
      "\t\t Degree threshold: 5\n",
      "\t\t\tGO label : MF\n",
      "[0.1433809312288605, 0.1575142923521274, 0.1727921436416226, 0.18182665914878587, 0.20862394046980728]\n",
      "\t\t\tGO label : BP\n",
      "[0.21663342445850367, 0.24050284128893137, 0.20452505469582896, 0.2141786124547173, 0.19911495379266742]\n",
      "\t\t\tGO label : CC\n",
      "[0.33981904474496444, 0.37533236932509656, 0.3575514466057976, 0.34013122753366226, 0.3406093144011336]\n",
      "\t\t Degree threshold: 10\n",
      "\t\t\tGO label : MF\n",
      "[0.19273552677202377, 0.16585769168872969, 0.2168082903472197, 0.2132515712145333, 0.19040336395172744]\n",
      "\t\t\tGO label : BP\n",
      "[0.21541104650630932, 0.2370473417472286, 0.2455265197469829, 0.2390529250680041, 0.22019022399788865]\n",
      "\t\t\tGO label : CC\n",
      "[0.3924237058531279, 0.3793414722541143, 0.386104865202939, 0.34710700625610613, 0.39311197356525757]\n",
      "\t\t Degree threshold: 25\n",
      "\t\t\tGO label : MF\n",
      "[0.20367927800549426, 0.19099803482293615, 0.1876974918898384, 0.20828975452388032, 0.21479780058102235]\n",
      "\t\t\tGO label : BP\n",
      "[0.2415134145768762, 0.24992067872823776, 0.24464269254194565, 0.2280443625069735, 0.20802087569201141]\n",
      "\t\t\tGO label : CC\n",
      "[0.4124790291018695, 0.3817183380214553, 0.38244310951366767, 0.41504556530583947, 0.4081547816436845]\n",
      "\t\t Degree threshold: 50\n",
      "\t\t\tGO label : MF\n",
      "[0.19266669569809217, 0.21307754363800172, 0.2314979326041081, 0.22971220399937758, 0.22402092717338754]\n",
      "\t\t\tGO label : BP\n",
      "[0.22347902541408898, 0.2291594875763825, 0.23583450876572973, 0.22776345768211823, 0.2324689483524725]\n",
      "\t\t\tGO label : CC\n",
      "[0.38553818199827766, 0.3851380553728334, 0.4198010688344844, 0.39739684801066477, 0.4096959602515445]\n",
      "\t\t Degree threshold: 100\n",
      "\t\t\tGO label : MF\n",
      "[0.1934362795262785, 0.2268799099672739, 0.2240811318115467, 0.20431796836106783, 0.2320540194290985]\n",
      "\t\t\tGO label : BP\n",
      "[0.22224318257009182, 0.2271259624237455, 0.2520379322717218, 0.24598897442942655, 0.23824452812265393]\n",
      "\t\t\tGO label : CC\n",
      "[0.41186568144290453, 0.37481652276027494, 0.40703001415121376, 0.4237722212376213, 0.38505900186444486]\n",
      "Using Network Shared-STRING...\n",
      "Constructing Degree matrix...\n",
      "\t Using Metric Accuracy...\n",
      "\t Constructing Predictor...\n",
      "\t\t Degree threshold: 5\n",
      "\t\t\tGO label : MF\n",
      "[0.2413793103448276, 0.1796116504854369, 0.18604651162790697, 0.23853211009174313, 0.2048780487804878]\n",
      "\t\t\tGO label : BP\n",
      "[0.1935483870967742, 0.2543859649122807, 0.22362869198312235, 0.245, 0.25821596244131456]\n",
      "\t\t\tGO label : CC\n",
      "[0.4117647058823529, 0.4456824512534819, 0.40384615384615385, 0.44857142857142857, 0.3961218836565097]\n",
      "\t\t Degree threshold: 10\n",
      "\t\t\tGO label : MF\n",
      "[0.27530364372469635, 0.2163265306122449, 0.1984126984126984, 0.20901639344262296, 0.22134387351778656]\n",
      "\t\t\tGO label : BP\n",
      "[0.28286852589641437, 0.26838235294117646, 0.2596899224806202, 0.22627737226277372, 0.26618705035971224]\n",
      "\t\t\tGO label : CC\n",
      "[0.484304932735426, 0.4892086330935252, 0.4543269230769231, 0.434052757793765, 0.4212962962962963]\n",
      "\t\t Degree threshold: 25\n",
      "\t\t\tGO label : MF\n",
      "[0.23905723905723905, 0.27147766323024053, 0.25524475524475526, 0.25675675675675674, 0.26013513513513514]\n",
      "\t\t\tGO label : BP\n",
      "[0.35714285714285715, 0.3132530120481928, 0.32727272727272727, 0.3496932515337423, 0.3]\n",
      "\t\t\tGO label : CC\n",
      "[0.5019685039370079, 0.4781746031746032, 0.4921875, 0.5196078431372549, 0.49796747967479676]\n",
      "\t\t Degree threshold: 50\n",
      "\t\t\tGO label : MF\n",
      "[0.3, 0.2621359223300971, 0.2647058823529412, 0.2523961661341853, 0.288961038961039]\n",
      "\t\t\tGO label : BP\n",
      "[0.33146067415730335, 0.3813559322033898, 0.37640449438202245, 0.3389355742296919, 0.31179775280898875]\n",
      "\t\t\tGO label : CC\n",
      "[0.49814126394052044, 0.48698884758364314, 0.5351851851851852, 0.4907749077490775, 0.5166666666666667]\n",
      "\t\t Degree threshold: 100\n",
      "\t\t\tGO label : MF\n",
      "[0.2634920634920635, 0.2920634920634921, 0.24126984126984127, 0.3111111111111111, 0.2634920634920635]\n",
      "\t\t\tGO label : BP\n",
      "[0.36164383561643837, 0.410958904109589, 0.3287671232876712, 0.3972602739726027, 0.33424657534246577]\n",
      "\t\t\tGO label : CC\n",
      "[0.5154826958105647, 0.5164233576642335, 0.5628415300546448, 0.5227686703096539, 0.5191256830601093]\n",
      "\t Using Metric F1-max...\n",
      "\t Constructing Predictor...\n",
      "\t\t Degree threshold: 5\n",
      "\t\t\tGO label : MF\n",
      "[0.261531911675089, 0.32688622552464286, 0.27750824339513336, 0.3391587225320957, 0.27236628127800183]\n",
      "\t\t\tGO label : BP\n",
      "[0.3140055900396371, 0.27503420164185255, 0.309887682210321, 0.26639737504160865, 0.32270650927454647]\n",
      "\t\t\tGO label : CC\n",
      "[0.4838850957283956, 0.47576869012381534, 0.45408480791605954, 0.459540179038348, 0.4795379575153319]\n",
      "\t\t Degree threshold: 10\n",
      "\t\t\tGO label : MF\n",
      "[0.2923381716660318, 0.32164985538603735, 0.3507654485756957, 0.30903400205376547, 0.30011410949154016]\n",
      "\t\t\tGO label : BP\n",
      "[0.302019170005923, 0.3219747841596803, 0.34829773869502995, 0.3469299155453933, 0.3023293362397144]\n",
      "\t\t\tGO label : CC\n",
      "[0.5151215549687168, 0.4982731828638095, 0.48593864365810785, 0.4981159485892188, 0.4770233897907624]\n",
      "\t\t Degree threshold: 25\n",
      "\t\t\tGO label : MF\n",
      "[0.3407904896618092, 0.3571115332154605, 0.30298463489761845, 0.35751900407623666, 0.33175916359911267]\n",
      "\t\t\tGO label : BP\n",
      "[0.37696272378817214, 0.367486813719294, 0.37650692504778877, 0.36182604199967827, 0.36589338211257033]\n",
      "\t\t\tGO label : CC\n",
      "[0.5213037541380108, 0.5155792684180531, 0.514503078720117, 0.5294448008396455, 0.5529894288651667]\n",
      "\t\t Degree threshold: 50\n",
      "\t\t\tGO label : MF\n",
      "[0.35387181688056446, 0.3237635048782409, 0.32093998740193547, 0.30783332634633553, 0.32888774423376643]\n",
      "\t\t\tGO label : BP\n",
      "[0.4326531881833521, 0.3921119346329532, 0.3630661488148889, 0.3903874703960933, 0.38724870874322387]\n",
      "\t\t\tGO label : CC\n",
      "[0.5504606309328705, 0.5041687628045913, 0.5416860362026445, 0.5609929646219648, 0.5410056474210913]\n",
      "\t\t Degree threshold: 100\n",
      "\t\t\tGO label : MF\n",
      "[0.3303514490545802, 0.3411393465223154, 0.31947971867209235, 0.34830636683612, 0.3381248240554533]\n",
      "\t\t\tGO label : BP\n",
      "[0.40480023686362904, 0.39950906350674587, 0.4151481176518484, 0.38841036255476935, 0.42683596022014725]\n",
      "\t\t\tGO label : CC\n",
      "[0.5556107328038945, 0.5299761315493225, 0.5408139161328761, 0.5283698331175692, 0.546426532847519]\n"
     ]
    }
   ],
   "source": [
    "degree_thresholds = [5, 10, 25, 50, 100]\n",
    "results           = [] # Tuple should be (degree_threshold, network, go, metric, fold, score)\n",
    "\n",
    "for net, netname in [(huri_A, \"Shared-HURI\"), (string_A, \"Shared-STRING\")]:\n",
    "    print(f\"Using Network {netname}...\")\n",
    "    print(\"Constructing Degree matrix...\")\n",
    "    n, _      = net.shape \n",
    "    degrees   = net @ np.ones((n,1)).flatten()\n",
    "    for kfold, kfold_metric, conf in [(kfoldcv, \"Accuracy\", False),\n",
    "                                   (kfoldcv_with_pr, \"F1-max\", True)]:\n",
    "        print(f\"\\t Using Metric {kfold_metric}...\")\n",
    "        print(f\"\\t Constructing Predictor...\")\n",
    "        predictor = create_predictor(net, is_wt = True, confidence = conf)\n",
    "\n",
    "        for deg in degree_thresholds:\n",
    "            print(f\"\\t\\t Degree threshold: {deg}\")\n",
    "            thres_f = lambda x: degrees[x] <= deg\n",
    "            for go, go_name in [(pid_F, \"MF\"),\n",
    "                               (pid_P, \"BP\"),\n",
    "                               (pid_C, \"CC\")]:\n",
    "                print(f\"\\t\\t\\tGO label : {go_name}\")\n",
    "                res     = kfold(5,\n",
    "                                go,\n",
    "                                predictor,\n",
    "                               filter_f = thres_f)\n",
    "                print(res)\n",
    "                for i, r in enumerate(res):\n",
    "                    results.append((deg, netname, go_name, kfold_metric, i, r))"
   ]
  },
  {
   "cell_type": "code",
   "execution_count": 3,
   "id": "eb7dd121",
   "metadata": {},
   "outputs": [
    {
     "ename": "NameError",
     "evalue": "name 'results' is not defined",
     "output_type": "error",
     "traceback": [
      "\u001b[0;31m---------------------------------------------------------------------------\u001b[0m",
      "\u001b[0;31mNameError\u001b[0m                                 Traceback (most recent call last)",
      "\u001b[0;32m/tmp/ipykernel_1867540/2075808481.py\u001b[0m in \u001b[0;36m<module>\u001b[0;34m\u001b[0m\n\u001b[0;32m----> 1\u001b[0;31m \u001b[0mdf\u001b[0m \u001b[0;34m=\u001b[0m \u001b[0mpd\u001b[0m\u001b[0;34m.\u001b[0m\u001b[0mDataFrame\u001b[0m\u001b[0;34m(\u001b[0m\u001b[0mresults\u001b[0m\u001b[0;34m,\u001b[0m \u001b[0mcolumns\u001b[0m \u001b[0;34m=\u001b[0m \u001b[0;34m[\u001b[0m\u001b[0;34m\"Degree Threshold\"\u001b[0m\u001b[0;34m,\u001b[0m \u001b[0;34m\"Network\"\u001b[0m\u001b[0;34m,\u001b[0m \u001b[0;34m\"GO-type\"\u001b[0m\u001b[0;34m,\u001b[0m \u001b[0;34m\"Metric\"\u001b[0m\u001b[0;34m,\u001b[0m \u001b[0;34m\"Folds\"\u001b[0m\u001b[0;34m,\u001b[0m \u001b[0;34m\"Score\"\u001b[0m\u001b[0;34m]\u001b[0m\u001b[0;34m)\u001b[0m\u001b[0;34m\u001b[0m\u001b[0;34m\u001b[0m\u001b[0m\n\u001b[0m\u001b[1;32m      2\u001b[0m \u001b[0mdf\u001b[0m\u001b[0;34m\u001b[0m\u001b[0;34m\u001b[0m\u001b[0m\n",
      "\u001b[0;31mNameError\u001b[0m: name 'results' is not defined"
     ]
    }
   ],
   "source": [
    "df = pd.DataFrame(results, columns = [\"Degree Threshold\", \"Network\", \"GO-type\", \"Metric\", \"Folds\", \"Score\"])\n",
    "df"
   ]
  },
  {
   "cell_type": "code",
   "execution_count": 58,
   "id": "c99437b3",
   "metadata": {},
   "outputs": [
    {
     "data": {
      "text/plain": [
       "<seaborn.axisgrid.FacetGrid at 0x7f42d86cff90>"
      ]
     },
     "execution_count": 58,
     "metadata": {},
     "output_type": "execute_result"
    },
    {
     "data": {
      "image/png": "[encoded data removed]",
      "text/plain": [
       "<Figure size 843.975x1080 with 6 Axes>"
      ]
     },
     "metadata": {},
     "output_type": "display_data"
    }
   ],
   "source": [
    "import seaborn as sns\n",
    "sns.set_theme(style=\"darkgrid\", palette=\"Set2\")\n",
    "\n",
    "sns.relplot(data = df, x=\"Degree Threshold\", y=\"Score\", hue=\"Network\", row=\"GO-type\", col=\"Metric\", kind = \"line\")"
   ]
  },
  {
   "cell_type": "markdown",
   "id": "2d4a3322",
   "metadata": {},
   "source": [
    "## <span style=\"color:red\">Comparing HURI Training Results between Topsy-Turvy and D-SCRIPT </span> "
   ]
  },
  {
   "cell_type": "code",
   "execution_count": 128,
   "id": "5ce7134e",
   "metadata": {},
   "outputs": [
    {
     "data": {
      "text/plain": [
       "<AxesSubplot:xlabel='iteration'>"
      ]
     },
     "execution_count": 128,
     "metadata": {},
     "output_type": "execute_result"
    },
    {
     "data": {
      "image/png": "[encoded data removed]",
      "text/plain": [
       "<Figure size 432x288 with 1 Axes>"
      ]
     },
     "metadata": {},
     "output_type": "display_data"
    }
   ],
   "source": [
    "import numpy as np\n",
    "import seaborn as sns\n",
    "import pandas as pd\n",
    "sns.set_theme(style = \"ticks\")\n",
    "\n",
    "ds_h = [0.263, 0.418, 0.305, 0.442, 0.384, 0.252, 0.441, 0.431]\n",
    "tt_h = [0.298, 0.279, 0.293, 0.219, 0.226, 0.263, 0.211, 0.137]\n",
    "\n",
    "ds_iter = np.arange(8) + 1\n",
    "\n",
    "results = {\"iteration\": ds_iter, \"Topsy-Turvy\": tt_h, \"D-SCRIPT\": ds_h}\n",
    "\n",
    "df_res  = pd.DataFrame(results)\n",
    "\n",
    "df_res = df_res.set_index('iteration')\n",
    "sns.lineplot(data = df_res, markers = True)"
   ]
  },
  {
   "cell_type": "markdown",
   "id": "28713da9",
   "metadata": {},
   "source": [
    "## HURI - TEST Precision Recall Curve - DSCRIPT\n",
    "\n",
    "### D-SCRIPT AUPR\n",
    "![huri pr curve](../../tt-link/bash_files/DSCRIPT-HURI/results.aupr.png)\n",
    "\n",
    "### D-SCRIPT AUROC\n",
    "![huri pr curve](../../tt-link/bash_files/DSCRIPT-HURI/results.auroc.png)"
   ]
  },
  {
   "cell_type": "markdown",
   "id": "b19632a2",
   "metadata": {},
   "source": [
    "## HURI - TEST Precision Recall Curve - TT\n",
    "\n",
    "### D-SCRIPT AUPR\n",
    "![huri pr curve](../../tt-link/bash_files/TT-HURI/results.aupr.png)\n",
    "\n",
    "### D-SCRIPT AUROC\n",
    "![huri pr curve](../../tt-link/bash_files/TT-HURI/results.auroc.png)"
   ]
  },
  {
   "cell_type": "code",
   "execution_count": null,
   "id": "d09e1045",
   "metadata": {},
   "outputs": [],
   "source": [
    "# Remove the hubs in HURI? see "
   ]
  }
 ],
 "metadata": {
  "kernelspec": {
   "display_name": "Python 3 (ipykernel)",
   "language": "python",
   "name": "python3"
  },
  "language_info": {
   "codemirror_mode": {
    "name": "ipython",
    "version": 3
   },
   "file_extension": ".py",
   "mimetype": "text/x-python",
   "name": "python",
   "nbconvert_exporter": "python",
   "pygments_lexer": "ipython3",
   "version": "3.7.12"
  }
 },
 "nbformat": 4,
 "nbformat_minor": 5
}
