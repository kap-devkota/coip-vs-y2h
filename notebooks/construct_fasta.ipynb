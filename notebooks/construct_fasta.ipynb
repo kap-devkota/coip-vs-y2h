{
 "cells": [
  {
   "cell_type": "code",
   "execution_count": 22,
   "id": "d7c1d946-f0e8-4119-9828-c155b69b99f8",
   "metadata": {},
   "outputs": [],
   "source": [
    "import numpy as np\n",
    "import pandas as pd"
   ]
  },
  {
   "cell_type": "markdown",
   "id": "97ac7370-ec30-4c7d-ac30-5f16f3aa4d89",
   "metadata": {},
   "source": [
    "## Get the coip and y2h networks and get all the relevant proteins"
   ]
  },
  {
   "cell_type": "code",
   "execution_count": 23,
   "id": "af7a4f41-e848-45e7-b8da-5381b764e4d9",
   "metadata": {},
   "outputs": [
    {
     "data": {
      "text/html": [
       "<div>\n",
       "<style scoped>\n",
       "    .dataframe tbody tr th:only-of-type {\n",
       "        vertical-align: middle;\n",
       "    }\n",
       "\n",
       "    .dataframe tbody tr th {\n",
       "        vertical-align: top;\n",
       "    }\n",
       "\n",
       "    .dataframe thead th {\n",
       "        text-align: right;\n",
       "    }\n",
       "</style>\n",
       "<table border=\"1\" class=\"dataframe\">\n",
       "  <thead>\n",
       "    <tr style=\"text-align: right;\">\n",
       "      <th></th>\n",
       "      <th>0</th>\n",
       "      <th>1</th>\n",
       "      <th>2</th>\n",
       "    </tr>\n",
       "  </thead>\n",
       "  <tbody>\n",
       "    <tr>\n",
       "      <th>0</th>\n",
       "      <td>uniprotkb:A0A0B4J1S8</td>\n",
       "      <td>uniprotkb:Q9H3P7</td>\n",
       "      <td>0.57</td>\n",
       "    </tr>\n",
       "    <tr>\n",
       "      <th>1</th>\n",
       "      <td>uniprotkb:Q9H3P7</td>\n",
       "      <td>uniprotkb:O43493</td>\n",
       "      <td>0.55</td>\n",
       "    </tr>\n",
       "    <tr>\n",
       "      <th>2</th>\n",
       "      <td>uniprotkb:Q9H3P7</td>\n",
       "      <td>uniprotkb:Q8WUA7</td>\n",
       "      <td>0.64</td>\n",
       "    </tr>\n",
       "    <tr>\n",
       "      <th>3</th>\n",
       "      <td>uniprotkb:Q9H3P7</td>\n",
       "      <td>uniprotkb:Q08378</td>\n",
       "      <td>0.40</td>\n",
       "    </tr>\n",
       "    <tr>\n",
       "      <th>4</th>\n",
       "      <td>uniprotkb:Q9H3P7</td>\n",
       "      <td>uniprotkb:Q9UBF8</td>\n",
       "      <td>0.54</td>\n",
       "    </tr>\n",
       "    <tr>\n",
       "      <th>...</th>\n",
       "      <td>...</td>\n",
       "      <td>...</td>\n",
       "      <td>...</td>\n",
       "    </tr>\n",
       "    <tr>\n",
       "      <th>29228</th>\n",
       "      <td>uniprotkb:Q9Y3C0</td>\n",
       "      <td>uniprotkb:Q9Y2V7</td>\n",
       "      <td>0.67</td>\n",
       "    </tr>\n",
       "    <tr>\n",
       "      <th>29229</th>\n",
       "      <td>uniprotkb:Q9Y3D3</td>\n",
       "      <td>uniprotkb:Q9Y4X4</td>\n",
       "      <td>0.42</td>\n",
       "    </tr>\n",
       "    <tr>\n",
       "      <th>29230</th>\n",
       "      <td>uniprotkb:Q9Y4X4</td>\n",
       "      <td>uniprotkb:Q8NCR0</td>\n",
       "      <td>0.42</td>\n",
       "    </tr>\n",
       "    <tr>\n",
       "      <th>29231</th>\n",
       "      <td>uniprotkb:Q9Y6I4</td>\n",
       "      <td>uniprotkb:Q8N5D0</td>\n",
       "      <td>0.40</td>\n",
       "    </tr>\n",
       "    <tr>\n",
       "      <th>29232</th>\n",
       "      <td>uniprotkb:Q9Y6X8</td>\n",
       "      <td>uniprotkb:Q9Y6X8</td>\n",
       "      <td>0.51</td>\n",
       "    </tr>\n",
       "  </tbody>\n",
       "</table>\n",
       "<p>29233 rows × 3 columns</p>\n",
       "</div>"
      ],
      "text/plain": [
       "                          0                 1     2\n",
       "0      uniprotkb:A0A0B4J1S8  uniprotkb:Q9H3P7  0.57\n",
       "1          uniprotkb:Q9H3P7  uniprotkb:O43493  0.55\n",
       "2          uniprotkb:Q9H3P7  uniprotkb:Q8WUA7  0.64\n",
       "3          uniprotkb:Q9H3P7  uniprotkb:Q08378  0.40\n",
       "4          uniprotkb:Q9H3P7  uniprotkb:Q9UBF8  0.54\n",
       "...                     ...               ...   ...\n",
       "29228      uniprotkb:Q9Y3C0  uniprotkb:Q9Y2V7  0.67\n",
       "29229      uniprotkb:Q9Y3D3  uniprotkb:Q9Y4X4  0.42\n",
       "29230      uniprotkb:Q9Y4X4  uniprotkb:Q8NCR0  0.42\n",
       "29231      uniprotkb:Q9Y6I4  uniprotkb:Q8N5D0  0.40\n",
       "29232      uniprotkb:Q9Y6X8  uniprotkb:Q9Y6X8  0.51\n",
       "\n",
       "[29233 rows x 3 columns]"
      ]
     },
     "execution_count": 23,
     "metadata": {},
     "output_type": "execute_result"
    }
   ],
   "source": [
    "dc = pd.read_csv(\"../data/networks/coip_hc_full.tsv\", sep = \"\\t\", header = None)\n",
    "dy = pd.read_csv(\"../data/networks/y2h_hc_full.tsv\" , sep = \"\\t\", header = None)\n",
    "dc"
   ]
  },
  {
   "cell_type": "code",
   "execution_count": 24,
   "id": "3c59542e-8ca3-4a50-800c-3bd913ef283c",
   "metadata": {},
   "outputs": [
    {
     "data": {
      "text/plain": [
       "11526"
      ]
     },
     "execution_count": 24,
     "metadata": {},
     "output_type": "execute_result"
    }
   ],
   "source": [
    "all_nodes = set(dc[0]).union(set(dc[1]))\n",
    "all_nodes = all_nodes.union(set(dy[0]).union(set(dy[1])))\n",
    "len(all_nodes)"
   ]
  },
  {
   "cell_type": "markdown",
   "id": "747b7a50-d216-4ba2-9c4e-1a2b6ad26896",
   "metadata": {},
   "source": [
    "## Get the FASTA 25k sequences"
   ]
  },
  {
   "cell_type": "code",
   "execution_count": 25,
   "id": "7fa59dbb-1d26-41ed-a530-f9e622d1d904",
   "metadata": {},
   "outputs": [],
   "source": [
    "from Bio import SeqIO"
   ]
  },
  {
   "cell_type": "code",
   "execution_count": 26,
   "id": "946bcc0d-6e59-4d6b-989e-4ffa467c5fef",
   "metadata": {},
   "outputs": [
    {
     "data": {
      "text/html": [
       "<div>\n",
       "<style scoped>\n",
       "    .dataframe tbody tr th:only-of-type {\n",
       "        vertical-align: middle;\n",
       "    }\n",
       "\n",
       "    .dataframe tbody tr th {\n",
       "        vertical-align: top;\n",
       "    }\n",
       "\n",
       "    .dataframe thead th {\n",
       "        text-align: right;\n",
       "    }\n",
       "</style>\n",
       "<table border=\"1\" class=\"dataframe\">\n",
       "  <thead>\n",
       "    <tr style=\"text-align: right;\">\n",
       "      <th></th>\n",
       "      <th>0</th>\n",
       "      <th>1</th>\n",
       "      <th>2</th>\n",
       "      <th>3</th>\n",
       "      <th>4</th>\n",
       "    </tr>\n",
       "  </thead>\n",
       "  <tbody>\n",
       "    <tr>\n",
       "      <th>Gene stable ID</th>\n",
       "      <td>ENSG00000198888</td>\n",
       "      <td>ENSG00000198888</td>\n",
       "      <td>ENSG00000198888</td>\n",
       "      <td>ENSG00000198763</td>\n",
       "      <td>ENSG00000198763</td>\n",
       "    </tr>\n",
       "    <tr>\n",
       "      <th>Gene stable ID version</th>\n",
       "      <td>ENSG00000198888.2</td>\n",
       "      <td>ENSG00000198888.2</td>\n",
       "      <td>ENSG00000198888.2</td>\n",
       "      <td>ENSG00000198763.3</td>\n",
       "      <td>ENSG00000198763.3</td>\n",
       "    </tr>\n",
       "    <tr>\n",
       "      <th>UniProtKB/TrEMBL ID</th>\n",
       "      <td>U5Z754</td>\n",
       "      <td>U5Z754</td>\n",
       "      <td>U5Z754</td>\n",
       "      <td>A0A1X7RBG6</td>\n",
       "      <td>A0A1X7RBG6</td>\n",
       "    </tr>\n",
       "    <tr>\n",
       "      <th>UniProtKB/Swiss-Prot ID</th>\n",
       "      <td>P03886</td>\n",
       "      <td>P03886</td>\n",
       "      <td>P03886</td>\n",
       "      <td>P03891</td>\n",
       "      <td>P03891</td>\n",
       "    </tr>\n",
       "    <tr>\n",
       "      <th>Gene Synonym</th>\n",
       "      <td>MTND1</td>\n",
       "      <td>NAD1</td>\n",
       "      <td>ND1</td>\n",
       "      <td>MTND2</td>\n",
       "      <td>NAD2</td>\n",
       "    </tr>\n",
       "    <tr>\n",
       "      <th>NCBI gene (formerly Entrezgene) ID</th>\n",
       "      <td>4535.0</td>\n",
       "      <td>4535.0</td>\n",
       "      <td>4535.0</td>\n",
       "      <td>4536.0</td>\n",
       "      <td>4536.0</td>\n",
       "    </tr>\n",
       "    <tr>\n",
       "      <th>Gene name</th>\n",
       "      <td>MT-ND1</td>\n",
       "      <td>MT-ND1</td>\n",
       "      <td>MT-ND1</td>\n",
       "      <td>MT-ND2</td>\n",
       "      <td>MT-ND2</td>\n",
       "    </tr>\n",
       "  </tbody>\n",
       "</table>\n",
       "</div>"
      ],
      "text/plain": [
       "                                                    0                  1  \\\n",
       "Gene stable ID                        ENSG00000198888    ENSG00000198888   \n",
       "Gene stable ID version              ENSG00000198888.2  ENSG00000198888.2   \n",
       "UniProtKB/TrEMBL ID                            U5Z754             U5Z754   \n",
       "UniProtKB/Swiss-Prot ID                        P03886             P03886   \n",
       "Gene Synonym                                    MTND1               NAD1   \n",
       "NCBI gene (formerly Entrezgene) ID             4535.0             4535.0   \n",
       "Gene name                                      MT-ND1             MT-ND1   \n",
       "\n",
       "                                                    2                  3  \\\n",
       "Gene stable ID                        ENSG00000198888    ENSG00000198763   \n",
       "Gene stable ID version              ENSG00000198888.2  ENSG00000198763.3   \n",
       "UniProtKB/TrEMBL ID                            U5Z754         A0A1X7RBG6   \n",
       "UniProtKB/Swiss-Prot ID                        P03886             P03891   \n",
       "Gene Synonym                                      ND1              MTND2   \n",
       "NCBI gene (formerly Entrezgene) ID             4535.0             4536.0   \n",
       "Gene name                                      MT-ND1             MT-ND2   \n",
       "\n",
       "                                                    4  \n",
       "Gene stable ID                        ENSG00000198763  \n",
       "Gene stable ID version              ENSG00000198763.3  \n",
       "UniProtKB/TrEMBL ID                        A0A1X7RBG6  \n",
       "UniProtKB/Swiss-Prot ID                        P03891  \n",
       "Gene Synonym                                     NAD2  \n",
       "NCBI gene (formerly Entrezgene) ID             4536.0  \n",
       "Gene name                                      MT-ND2  "
      ]
     },
     "execution_count": 26,
     "metadata": {},
     "output_type": "execute_result"
    }
   ],
   "source": [
    "namespace = pd.read_csv(\"../data/rsingh/Biomart_Entrez-to-Uniprot_mapping.tsv\", sep = \"\\t\")\n",
    "namespace.head().T"
   ]
  },
  {
   "cell_type": "markdown",
   "id": "02a120e9-dff4-41de-af67-81d81dad1fac",
   "metadata": {},
   "source": [
    "## This shows that almost all of the proteins in the two networks are swissprot proteins"
   ]
  },
  {
   "cell_type": "code",
   "execution_count": 27,
   "id": "54429799-892e-4be6-ac1d-4aa72d20b859",
   "metadata": {},
   "outputs": [
    {
     "data": {
      "text/plain": [
       "11375"
      ]
     },
     "execution_count": 27,
     "metadata": {},
     "output_type": "execute_result"
    }
   ],
   "source": [
    "trembl = set(namespace.iloc[:, [2]].dropna()[\"UniProtKB/TrEMBL ID\"])\n",
    "sprot  = set(namespace.iloc[:, [3]].dropna()[\"UniProtKB/Swiss-Prot ID\"])\n",
    "trembl1 = {f\"uniprotkb:{p}\" for p in trembl}\n",
    "sprot1 = {f\"uniprotkb:{p}\" for p in sprot}\n",
    "len(all_nodes.intersection(sprot1))"
   ]
  },
  {
   "cell_type": "code",
   "execution_count": 28,
   "id": "1e6b72c0-6a7e-4b66-9c28-2730ff0a3b3b",
   "metadata": {},
   "outputs": [],
   "source": [
    "records = SeqIO.parse(\"../data/networks/seqs/uniprot_human_proteome_UP000005640_20k_genes.fa\", \"fasta\")\n",
    "\n",
    "sp_record = []\n",
    "sp_prots  = []\n",
    "for record in records:\n",
    "    id = record.id\n",
    "    _, name, _ = id.split(\"|\")[:3]\n",
    "    uprotname  = f\"uniprotkb:{name}\"\n",
    "    if id.startswith(\"sp\") and uprotname in all_nodes and len(record) < 800:\n",
    "        record.id = uprotname\n",
    "        sp_prots.append(uprotname)\n",
    "        sp_record.append(record)"
   ]
  },
  {
   "cell_type": "markdown",
   "id": "ae4fa4ac-ddea-4866-8a96-1a49b9f30373",
   "metadata": {},
   "source": [
    "## Filter the original networks and save"
   ]
  },
  {
   "cell_type": "code",
   "execution_count": 29,
   "id": "95d4d2a6-7192-4211-b81e-4b21a2d65c32",
   "metadata": {},
   "outputs": [],
   "source": [
    "sp_prots = set(sp_prots)\n",
    "\n",
    "dc1 = dc[(dc[0].isin(sp_prots)) & (dc[1].isin(sp_prots))]\n",
    "dy1 = dy[(dy[0].isin(sp_prots)) & (dy[1].isin(sp_prots))]\n",
    "\n",
    "dc1.to_csv(\"../data/networks/dscript-tt/coip_hc_full.tsv\", sep = \"\\t\", header = None, index = None)\n",
    "dy1.to_csv(\"../data/networks/dscript-tt/y2h_hc_full.tsv\", sep = \"\\t\", header = None, index = None)"
   ]
  },
  {
   "cell_type": "markdown",
   "id": "f55ed133-94b6-41c0-b612-b3c95f2cf319",
   "metadata": {},
   "source": [
    "## Save the fasta file"
   ]
  },
  {
   "cell_type": "code",
   "execution_count": 30,
   "id": "4c98db3e-9b9f-4546-a2b8-98ee2e835b48",
   "metadata": {},
   "outputs": [
    {
     "data": {
      "text/plain": [
       "9198"
      ]
     },
     "execution_count": 30,
     "metadata": {},
     "output_type": "execute_result"
    }
   ],
   "source": [
    "SeqIO.write(sp_record, \"../data/networks/dscript-tt/y2h-coip-human-sequences.fasta\", \"fasta\")"
   ]
  },
  {
   "cell_type": "markdown",
   "id": "81cc0374-6b0d-4068-afbc-35eb0cf7d57d",
   "metadata": {},
   "source": [
    "## Compute test and training cases"
   ]
  },
  {
   "cell_type": "code",
   "execution_count": 31,
   "id": "3d3dcb22-b3a1-4472-9d99-0a7c48d3bb4f",
   "metadata": {},
   "outputs": [],
   "source": [
    "dc2     = dc1.drop([2], axis = 1)\n",
    "dc2.loc[dc2[0] > dc2[1]] = dc2.loc[dc2[0] > dc2[1], [1, 0]]\n",
    "dcnodes = list(set(dc1[0]).union(set(dc1[1])))\n",
    "\n",
    "dy2     = dy1.drop([2], axis = 1)\n",
    "dy2.loc[dy2[0] > dy2[1]] = dy2.loc[dy2[0] > dy2[1], [1, 0]]\n",
    "dynodes = list(set(dy1[0]).union(set(dy1[1])))"
   ]
  },
  {
   "cell_type": "code",
   "execution_count": 32,
   "id": "0f21bdb0-b6d6-4a29-b4ea-975ce420c8d4",
   "metadata": {
    "tags": []
   },
   "outputs": [],
   "source": [
    "dcedges = {(k[0], k[1]): i for (i, k) in enumerate(dc2.values)}\n",
    "dyedges = {(k[0], k[1]): i for (i, k) in enumerate(dy2.values)}"
   ]
  },
  {
   "cell_type": "code",
   "execution_count": 33,
   "id": "2b9ba062-f207-447f-b06c-9b41659e7e34",
   "metadata": {},
   "outputs": [],
   "source": [
    "import numpy as np\n",
    "\n",
    "dcpos  = dc2.values\n",
    "dypos  = dy2.values"
   ]
  },
  {
   "cell_type": "markdown",
   "id": "36c172cc-4bf5-4bad-b9e8-bae2aa2114d9",
   "metadata": {},
   "source": [
    "## Split to train-test samples, generate negatives"
   ]
  },
  {
   "cell_type": "code",
   "execution_count": 34,
   "id": "0814f4b5-6774-495a-8667-066ae582b84f",
   "metadata": {},
   "outputs": [],
   "source": [
    "def getnegatives(edgemap, nodes, negratio = 10):\n",
    "    negedges = []\n",
    "    n_nodes  = len(nodes)\n",
    "    n_negative = len(edgemap) * negratio\n",
    "    while(len(negedges) < n_negative):\n",
    "        p, q = np.random.randint(n_nodes, size = 2)\n",
    "        if p == q:\n",
    "            continue\n",
    "        n1, n2  = (nodes[p], nodes[q])\n",
    "        n1, n2  = (n2, n1) if (n1 > n2) else (n1, n2)\n",
    "        \n",
    "        if (n1, n2) in edgemap:\n",
    "            continue\n",
    "        else:\n",
    "            negedges.append((n1, n2))\n",
    "    return negedges"
   ]
  },
  {
   "cell_type": "code",
   "execution_count": 35,
   "id": "472ca2b9-0a60-4159-838a-7538af382fe0",
   "metadata": {},
   "outputs": [],
   "source": [
    "dcneg = getnegatives(dcedges, dcnodes)\n",
    "dyneg = getnegatives(dyedges, dynodes)"
   ]
  },
  {
   "cell_type": "code",
   "execution_count": 36,
   "id": "6e853fc8-db45-4c79-96c2-2469de14ce91",
   "metadata": {},
   "outputs": [
    {
     "data": {
      "text/plain": [
       "(174420, 306860)"
      ]
     },
     "execution_count": 36,
     "metadata": {},
     "output_type": "execute_result"
    }
   ],
   "source": [
    "len(dcneg), len(dyneg)"
   ]
  },
  {
   "cell_type": "markdown",
   "id": "74e90fcc-2f18-40df-ae23-c390020bd3fa",
   "metadata": {},
   "source": [
    "# generate Train and Train in 4:1 ratio"
   ]
  },
  {
   "cell_type": "code",
   "execution_count": 37,
   "id": "bc0a99c5-1481-4825-8f1e-e9fc8ac12919",
   "metadata": {},
   "outputs": [
    {
     "data": {
      "text/plain": [
       "array([['uniprotkb:O75348', 'uniprotkb:Q9BWX1', '0.0'],\n",
       "       ['uniprotkb:Q9BW92', 'uniprotkb:Q9NS71', '0.0'],\n",
       "       ['uniprotkb:P08729', 'uniprotkb:Q8WW24', '0.0'],\n",
       "       ...,\n",
       "       ['uniprotkb:H3BRN8', 'uniprotkb:Q8TE77', '0.0'],\n",
       "       ['uniprotkb:O00757', 'uniprotkb:P06681', '0.0'],\n",
       "       ['uniprotkb:Q0VAQ4', 'uniprotkb:Q5MJ70', '0.0']], dtype='<U32')"
      ]
     },
     "execution_count": 37,
     "metadata": {},
     "output_type": "execute_result"
    }
   ],
   "source": [
    "dcpos = np.concatenate((dcpos, np.ones((len(dcpos), 1))), axis = 1)\n",
    "dypos = np.concatenate((dypos, np.ones((len(dypos), 1))), axis = 1)\n",
    "dcneg = np.concatenate((np.array(dcneg), np.zeros((len(dcneg), 1))), axis = 1)\n",
    "dyneg = np.concatenate((np.array(dyneg), np.zeros((len(dyneg), 1))), axis = 1)\n",
    "dyneg"
   ]
  },
  {
   "cell_type": "code",
   "execution_count": 38,
   "id": "69d86a1a-0db0-458c-b72f-65ca08585429",
   "metadata": {},
   "outputs": [],
   "source": [
    "pcp = np.random.permutation(len(dcpos))\n",
    "pyp = np.random.permutation(len(dypos))\n",
    "ncp = np.random.permutation(len(dcneg))\n",
    "nyp = np.random.permutation(len(dyneg))"
   ]
  },
  {
   "cell_type": "code",
   "execution_count": 39,
   "id": "86dc000d-0f97-43bb-86ac-2e63bee003d1",
   "metadata": {},
   "outputs": [],
   "source": [
    "pc, py, nc, ny = (len(pcp), len(pyp), len(ncp), len(nyp))\n",
    "pctr, pytr, nctr, nytr = [int(k * 4/5) for k in (pc, py, nc, ny)]\n",
    "\n",
    "c_train = np.concatenate((dcpos[pcp[:pctr]], dcneg[ncp[:nctr]]), axis = 0)\n",
    "c_test  = np.concatenate((dcpos[pcp[pctr:]], dcneg[ncp[nctr:]]), axis = 0)\n",
    "y_train = np.concatenate((dypos[pyp[:pytr]], dyneg[nyp[:nytr]]), axis = 0)\n",
    "y_test  = np.concatenate((dypos[pyp[pytr:]], dyneg[nyp[nytr:]]), axis = 0)"
   ]
  },
  {
   "cell_type": "code",
   "execution_count": 40,
   "id": "fe004fe9-f1f1-428e-b42d-f8d689f02a12",
   "metadata": {},
   "outputs": [
    {
     "data": {
      "text/plain": [
       "(153489, 38373, 270036, 67510)"
      ]
     },
     "execution_count": 40,
     "metadata": {},
     "output_type": "execute_result"
    }
   ],
   "source": [
    "len(c_train), len(c_test), len(y_train), len(y_test)"
   ]
  },
  {
   "cell_type": "code",
   "execution_count": 41,
   "id": "7fac08f4-2e19-4899-b7b1-998dd4a4d25a",
   "metadata": {},
   "outputs": [],
   "source": [
    "dctr = pd.DataFrame(c_train)\n",
    "dcte = pd.DataFrame(c_test)\n",
    "dytr = pd.DataFrame(y_train)\n",
    "dyte = pd.DataFrame(y_test)"
   ]
  },
  {
   "cell_type": "code",
   "execution_count": 42,
   "id": "a1eeaa57-e118-46ea-a90b-bb480bcf809e",
   "metadata": {},
   "outputs": [],
   "source": [
    "dctr.to_csv(\"../data/networks/dscript-tt/coip_train.tsv\", sep = \"\\t\", header = None, index = None)\n",
    "dcte.to_csv(\"../data/networks/dscript-tt/coip_test.tsv\", sep = \"\\t\", header = None, index = None)\n",
    "dytr.to_csv(\"../data/networks/dscript-tt/y2h_train.tsv\", sep = \"\\t\", header = None, index = None)\n",
    "dyte.to_csv(\"../data/networks/dscript-tt/y2h_test.tsv\", sep = \"\\t\", header = None, index = None)"
   ]
  },
  {
   "cell_type": "markdown",
   "id": "2d98f324-b71a-4b85-b8fa-e90e93f4f1af",
   "metadata": {},
   "source": [
    "# Generate TEST cases for the new model"
   ]
  },
  {
   "cell_type": "code",
   "execution_count": 50,
   "id": "0171009a-3041-42c3-82d7-a0b2b7679b2c",
   "metadata": {},
   "outputs": [
    {
     "data": {
      "text/plain": [
       "(                          0                 1  2\n",
       " 0          uniprotkb:Q9H3P7  uniprotkb:O43493  1\n",
       " 1          uniprotkb:Q9H3P7  uniprotkb:Q8WUA7  1\n",
       " 2          uniprotkb:Q9H3P7  uniprotkb:Q9NU19  1\n",
       " 3      uniprotkb:A0A0U1RRE5  uniprotkb:Q9NPI6  1\n",
       " 4          uniprotkb:Q9NPI6  uniprotkb:O95429  1\n",
       " ...                     ...               ... ..\n",
       " 17437      uniprotkb:Q9Y3C0  uniprotkb:O75506  1\n",
       " 17438      uniprotkb:Q9Y3C0  uniprotkb:Q9Y2V7  1\n",
       " 17439      uniprotkb:Q9Y3D3  uniprotkb:Q9Y4X4  1\n",
       " 17440      uniprotkb:Q9Y4X4  uniprotkb:Q8NCR0  1\n",
       " 17441      uniprotkb:Q9Y6I4  uniprotkb:Q8N5D0  1\n",
       " \n",
       " [17442 rows x 3 columns],\n",
       "                       0                 1  2\n",
       " 0      uniprotkb:P37268  uniprotkb:P48165  0\n",
       " 1      uniprotkb:P37268  uniprotkb:Q13520  0\n",
       " 2      uniprotkb:P37268  uniprotkb:Q14973  0\n",
       " 3      uniprotkb:P37268  uniprotkb:Q3SXY8  0\n",
       " 4      uniprotkb:P37268  uniprotkb:Q5JX71  0\n",
       " ...                 ...               ... ..\n",
       " 30681  uniprotkb:Q9UL46  uniprotkb:Q9UL46  0\n",
       " 30682  uniprotkb:Q9UMS4  uniprotkb:O60508  0\n",
       " 30683  uniprotkb:Q9Y328  uniprotkb:O14718  0\n",
       " 30684  uniprotkb:Q9Y3E7  uniprotkb:Q9UQN3  0\n",
       " 30685  uniprotkb:Q9Y5Q3  uniprotkb:Q9Y5Q3  0\n",
       " \n",
       " [30686 rows x 3 columns])"
      ]
     },
     "execution_count": 50,
     "metadata": {},
     "output_type": "execute_result"
    }
   ],
   "source": [
    "import pandas as pd\n",
    "\n",
    "dcoip = pd.read_csv(\"../data/networks/dscript-tt/coip_hc_full.tsv\", sep = \"\\t\", header = None)\n",
    "dy2h  = pd.read_csv(\"../data/networks/dscript-tt/y2h_hc_full.tsv\", sep = \"\\t\", header = None)\n",
    "dcoip[2] = 1\n",
    "dy2h[2]  = 0\n",
    "dcoip, dy2h"
   ]
  },
  {
   "cell_type": "code",
   "execution_count": 51,
   "id": "77e3a12c-6deb-4abb-8e09-49382f983367",
   "metadata": {},
   "outputs": [
    {
     "data": {
      "text/plain": [
       "(6011, 6233, 3333)"
      ]
     },
     "execution_count": 51,
     "metadata": {},
     "output_type": "execute_result"
    }
   ],
   "source": [
    "coipnodes = set(dcoip[0]).union(set(dcoip[1]))\n",
    "y2hnodes = set(dy2h[0]).union(set(dy2h[1]))\n",
    "len(coipnodes), len(y2hnodes), len(coipnodes.intersection(y2hnodes))"
   ]
  },
  {
   "cell_type": "code",
   "execution_count": 49,
   "id": "855632bf-4692-45d9-b59a-3f1225360cf8",
   "metadata": {},
   "outputs": [],
   "source": [
    "out_folder = \"../data/networks/dscript-tt/dataset_coip+y2h_predict\"\n",
    "# sample Train : 80, Test : 20\n",
    "n = 17442\n",
    "nt = int(n*0.8)\n",
    "for i in range(5):\n",
    "    dy2h1 = dy2h.sample(n=n)\n",
    "    n1s   = np.random.permutation(n)\n",
    "    n2s   = np.random.permutation(n)\n",
    "    dtr   = pd.concat([dy2h.loc[n1s[:nt]], dcoip.loc[n2s[:nt]]])\n",
    "    dte   = pd.concat([dy2h.loc[n1s[nt:]], dcoip.loc[n2s[nt:]]])\n",
    "    dtr.to_csv(f\"{out_folder}/train_{i}.tsv\", sep = \"\\t\", header = None, index = None)\n",
    "    dte.to_csv(f\"{out_folder}/test_{i}.tsv\", sep = \"\\t\", header = None, index = None)"
   ]
  },
  {
   "cell_type": "code",
   "execution_count": null,
   "id": "9715af11-d3a9-46ce-b1bf-8b2660cc8ddc",
   "metadata": {},
   "outputs": [],
   "source": []
  }
 ],
 "metadata": {
  "kernelspec": {
   "display_name": "dscript",
   "language": "python",
   "name": "dscript"
  },
  "language_info": {
   "codemirror_mode": {
    "name": "ipython",
    "version": 3
   },
   "file_extension": ".py",
   "mimetype": "text/x-python",
   "name": "python",
   "nbconvert_exporter": "python",
   "pygments_lexer": "ipython3",
   "version": "3.7.12"
  }
 },
 "nbformat": 4,
 "nbformat_minor": 5
}
