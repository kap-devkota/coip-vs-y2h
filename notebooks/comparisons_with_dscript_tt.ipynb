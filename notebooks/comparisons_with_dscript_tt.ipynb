{
 "cells": [
  {
   "cell_type": "code",
   "execution_count": 20,
   "id": "25e7f1a3-2127-452f-997c-8fad61869017",
   "metadata": {},
   "outputs": [
    {
     "name": "stdout",
     "output_type": "stream",
     "text": [
      "../data/networks/dscript-tt/models/coip-dscript\n",
      "--------------------\n",
      "[2022-09-17-15:19:57] Finished Epoch 1/10: Loss=0.418366, Accuracy=88.865%, MSE=0.090531, Precision=0.372208, Recall=0.355875, F1=0.363858, AUPR=0.372372\n",
      "[2022-09-17-18:24:40] Finished Epoch 2/10: Loss=0.239359, Accuracy=91.687%, MSE=0.0657484, Precision=0.38056, Recall=0.409259, F1=0.394388, AUPR=0.481008\n",
      "[2022-09-17-21:27:24] Finished Epoch 3/10: Loss=0.221773, Accuracy=92.310%, MSE=0.0602921, Precision=0.402247, Recall=0.417609, F1=0.409784, AUPR=0.512091\n",
      "[2022-09-18-00:30:02] Finished Epoch 4/10: Loss=0.261439, Accuracy=91.455%, MSE=0.0718422, Precision=0.341128, Recall=0.299617, F1=0.319028, AUPR=0.383529\n",
      "[2022-09-18-03:34:30] Finished Epoch 5/10: Loss=0.239312, Accuracy=92.305%, MSE=0.0635275, Precision=0.438688, Recall=0.322995, F1=0.372055, AUPR=0.483903\n",
      "[2022-09-18-06:36:58] Finished Epoch 6/10: Loss=0.327515, Accuracy=88.769%, MSE=0.0927826, Precision=0.270979, Recall=0.260529, F1=0.265651, AUPR=0.265514\n",
      "[2022-09-18-09:37:28] Finished Epoch 7/10: Loss=0.255992, Accuracy=92.266%, MSE=0.0655886, Precision=0.474342, Recall=0.236102, F1=0.315276, AUPR=0.521161\n",
      "[2022-09-18-12:37:18] Finished Epoch 8/10: Loss=0.288545, Accuracy=90.885%, MSE=0.0757219, Precision=0.368943, Recall=0.226418, F1=0.280621, AUPR=0.352208\n",
      "[2022-09-18-15:37:24] Finished Epoch 9/10: Loss=0.340389, Accuracy=90.820%, MSE=0.0835985, Precision=0.280102, Recall=0.103323, F1=0.15096, AUPR=0.277145\n",
      "[2022-09-18-18:37:25] Finished Epoch 10/10: Loss=0.340521, Accuracy=91.351%, MSE=0.0798983, Precision=0.365535, Recall=0.0874868, F1=0.141183, AUPR=0.424982\n",
      "../data/networks/dscript-tt/models/coip-dscript1\n",
      "--------------------\n",
      "cat: ../data/networks/dscript-tt/models/coip-dscript1/results.log: No such file or directory\n",
      "../data/networks/dscript-tt/models/coip-tt\n",
      "--------------------\n",
      "[2022-09-17-15:31:37] Finished Epoch 1/10: Loss=0.340403, Accuracy=90.853%, MSE=0.0780094, Precision=0.402033, Recall=0.213246, F1=0.278676, AUPR=0.323335\n",
      "[2022-09-17-18:40:39] Finished Epoch 2/10: Loss=0.258442, Accuracy=91.148%, MSE=0.0716901, Precision=0.327024, Recall=0.310072, F1=0.318323, AUPR=0.372086\n",
      "[2022-09-17-21:50:00] Finished Epoch 3/10: Loss=0.222244, Accuracy=92.949%, MSE=0.0588326, Precision=0.410773, Recall=0.317825, F1=0.35837, AUPR=0.543942\n",
      "[2022-09-18-00:59:17] Finished Epoch 4/10: Loss=0.218789, Accuracy=93.040%, MSE=0.0576086, Precision=0.445896, Recall=0.322353, F1=0.374191, AUPR=0.5745\n",
      "[2022-09-18-04:09:46] Finished Epoch 5/10: Loss=0.215435, Accuracy=93.121%, MSE=0.0569411, Precision=0.462372, Recall=0.356584, F1=0.402645, AUPR=0.561951\n",
      "[2022-09-18-07:15:11] Finished Epoch 6/10: Loss=0.20868, Accuracy=93.451%, MSE=0.0542313, Precision=0.504649, Recall=0.362591, F1=0.421985, AUPR=0.607278\n",
      "[2022-09-18-10:13:19] Finished Epoch 7/10: Loss=0.517061, Accuracy=80.151%, MSE=0.165339, Precision=0.124884, Recall=0.273946, F1=0.171559, AUPR=0.132016\n",
      "[2022-09-18-13:11:31] Finished Epoch 8/10: Loss=0.317871, Accuracy=88.678%, MSE=0.0950208, Precision=0.281541, Recall=0.399032, F1=0.330145, AUPR=0.322802\n",
      "[2022-09-18-16:09:49] Finished Epoch 9/10: Loss=0.253416, Accuracy=92.641%, MSE=0.0646311, Precision=0.482917, Recall=0.252745, F1=0.331823, AUPR=0.531798\n",
      "[2022-09-18-19:07:53] Finished Epoch 10/10: Loss=0.219061, Accuracy=93.493%, MSE=0.0554543, Precision=0.567528, Recall=0.341482, F1=0.426399, AUPR=0.61474\n",
      "../data/networks/dscript-tt/models/y2h-dscript\n",
      "--------------------\n",
      "[2022-09-17-16:42:21] Finished Epoch 1/10: Loss=0.242349, Accuracy=91.936%, MSE=0.0643854, Precision=0.430568, Recall=0.310476, F1=0.360791, AUPR=0.473586\n",
      "[2022-09-17-21:08:49] Finished Epoch 2/10: Loss=0.22728, Accuracy=92.927%, MSE=0.0602368, Precision=0.453254, Recall=0.323711, F1=0.377683, AUPR=0.544964\n",
      "[2022-09-18-01:37:03] Finished Epoch 3/10: Loss=0.242504, Accuracy=92.542%, MSE=0.0630384, Precision=0.481235, Recall=0.262708, F1=0.339877, AUPR=0.561592\n",
      "[2022-09-18-06:04:54] Finished Epoch 4/10: Loss=0.22918, Accuracy=92.702%, MSE=0.0608443, Precision=0.49246, Recall=0.340805, F1=0.402831, AUPR=0.547776\n",
      "[2022-09-18-10:40:05] Finished Epoch 5/10: Loss=0.244948, Accuracy=92.757%, MSE=0.0625734, Precision=0.534006, Recall=0.273998, F1=0.362168, AUPR=0.579533\n",
      "[2022-09-18-15:15:32] Finished Epoch 6/10: Loss=0.261411, Accuracy=92.385%, MSE=0.0662911, Precision=0.504222, Recall=0.269686, F1=0.351416, AUPR=0.520845\n",
      "[2022-09-18-19:47:01] Finished Epoch 7/10: Loss=0.252123, Accuracy=92.740%, MSE=0.0621364, Precision=0.614964, Recall=0.261461, F1=0.366921, AUPR=0.641723\n",
      "[2022-09-19-00:09:41] Finished Epoch 8/10: Loss=0.233784, Accuracy=93.297%, MSE=0.0583047, Precision=0.593297, Recall=0.335136, F1=0.428324, AUPR=0.609848\n",
      "[2022-09-19-04:28:14] Finished Epoch 9/10: Loss=0.27036, Accuracy=92.822%, MSE=0.0635153, Precision=0.6422, Recall=0.261568, F1=0.371731, AUPR=0.615479\n",
      "[2022-09-19-08:46:33] Finished Epoch 10/10: Loss=0.266534, Accuracy=92.902%, MSE=0.063428, Precision=0.587663, Recall=0.295528, F1=0.393281, AUPR=0.572549\n",
      "../data/networks/dscript-tt/models/y2h-tt\n",
      "--------------------\n",
      "[2022-09-17-16:45:22] Finished Epoch 1/10: Loss=0.256406, Accuracy=91.375%, MSE=0.0716955, Precision=0.331166, Recall=0.278847, F1=0.302763, AUPR=0.373474\n",
      "[2022-09-17-21:09:58] Finished Epoch 2/10: Loss=0.212263, Accuracy=92.554%, MSE=0.0586014, Precision=0.391405, Recall=0.354755, F1=0.37218, AUPR=0.522606\n",
      "[2022-09-18-01:37:45] Finished Epoch 3/10: Loss=0.20707, Accuracy=93.051%, MSE=0.0573609, Precision=0.430109, Recall=0.368652, F1=0.397016, AUPR=0.563806\n",
      "[2022-09-18-06:02:09] Finished Epoch 4/10: Loss=0.245512, Accuracy=92.332%, MSE=0.0673039, Precision=0.379062, Recall=0.267519, F1=0.31367, AUPR=0.465057\n",
      "[2022-09-18-10:21:50] Finished Epoch 5/10: Loss=0.215656, Accuracy=93.069%, MSE=0.0570892, Precision=0.52843, Recall=0.302551, F1=0.384791, AUPR=0.639235\n",
      "[2022-09-18-14:41:31] Finished Epoch 6/10: Loss=0.226232, Accuracy=93.000%, MSE=0.0597196, Precision=0.491351, Recall=0.308771, F1=0.379229, AUPR=0.571835\n",
      "[2022-09-18-19:00:51] Finished Epoch 7/10: Loss=0.236517, Accuracy=92.844%, MSE=0.0604929, Precision=0.559976, Recall=0.26635, F1=0.360994, AUPR=0.620549\n",
      "[2022-09-18-23:22:28] Finished Epoch 8/10: Loss=0.230603, Accuracy=93.057%, MSE=0.0593336, Precision=0.556159, Recall=0.294305, F1=0.38492, AUPR=0.618392\n",
      "[2022-09-19-03:40:06] Finished Epoch 9/10: Loss=0.249492, Accuracy=92.709%, MSE=0.0623141, Precision=0.575368, Recall=0.254135, F1=0.352551, AUPR=0.630789\n",
      "[2022-09-19-07:56:54] Finished Epoch 10/10: Loss=0.232097, Accuracy=92.890%, MSE=0.0592191, Precision=0.592209, Recall=0.284347, F1=0.384215, AUPR=0.640823\n"
     ]
    }
   ],
   "source": [
    "!for f in ../data/networks/dscript-tt/models/*; do echo $f; echo \"--------------------\"; cat $f/results.log | grep \"Finished\"; done"
   ]
  },
  {
   "cell_type": "markdown",
   "id": "c696b5a4-2f2f-4271-9daf-bb54bb170126",
   "metadata": {},
   "source": [
    "# D-SCRIPT model trained on Y2H network"
   ]
  },
  {
   "cell_type": "code",
   "execution_count": 4,
   "id": "548a5c1d-6ce1-4fbf-b6ed-042c8c65cf3d",
   "metadata": {},
   "outputs": [
    {
     "name": "stdout",
     "output_type": "stream",
     "text": [
      "\u001b[1m\u001b[37mimp                    \u001b[m  Sun Sep 18 19:51:04 2022  \u001b[1m\u001b[30m470.141.03\u001b[m\n",
      "\u001b[36m[0]\u001b[m \u001b[34mTesla V100-PCIE-32GB\u001b[m |\u001b[1m\u001b[31m 56'C\u001b[m, \u001b[1m\u001b[32m 88 %\u001b[m | \u001b[36m\u001b[1m\u001b[33m16911\u001b[m / \u001b[33m32510\u001b[m MB | \u001b[1m\u001b[30mkdevko01\u001b[m(\u001b[33m16907M\u001b[m)\n",
      "\u001b[36m[1]\u001b[m \u001b[34mTesla V100-PCIE-32GB\u001b[m |\u001b[31m 29'C\u001b[m, \u001b[32m  0 %\u001b[m | \u001b[36m\u001b[1m\u001b[33m    4\u001b[m / \u001b[33m32510\u001b[m MB |\n",
      "\u001b[36m[2]\u001b[m \u001b[34mTesla V100-PCIE-32GB\u001b[m |\u001b[1m\u001b[31m 58'C\u001b[m, \u001b[1m\u001b[32m 96 %\u001b[m | \u001b[36m\u001b[1m\u001b[33m17041\u001b[m / \u001b[33m32510\u001b[m MB | \u001b[1m\u001b[30mkdevko01\u001b[m(\u001b[33m17037M\u001b[m)\n",
      "\u001b[36m[3]\u001b[m \u001b[34mTesla V100-PCIE-32GB\u001b[m |\u001b[31m 33'C\u001b[m, \u001b[32m  0 %\u001b[m | \u001b[36m\u001b[1m\u001b[33m    4\u001b[m / \u001b[33m32510\u001b[m MB |\n",
      "\u001b[36m[4]\u001b[m \u001b[34mTesla V100-PCIE-32GB\u001b[m |\u001b[31m 30'C\u001b[m, \u001b[32m  0 %\u001b[m | \u001b[36m\u001b[1m\u001b[33m    4\u001b[m / \u001b[33m32510\u001b[m MB |\n",
      "\u001b[36m[5]\u001b[m \u001b[34mTesla V100-PCIE-32GB\u001b[m |\u001b[31m 35'C\u001b[m, \u001b[32m  0 %\u001b[m | \u001b[36m\u001b[1m\u001b[33m  925\u001b[m / \u001b[33m32510\u001b[m MB | \u001b[1m\u001b[30msamsl\u001b[m(\u001b[33m921M\u001b[m)\n",
      "\u001b[36m[6]\u001b[m \u001b[34mTesla V100-PCIE-32GB\u001b[m |\u001b[31m 32'C\u001b[m, \u001b[32m  0 %\u001b[m | \u001b[36m\u001b[1m\u001b[33m 5776\u001b[m / \u001b[33m32510\u001b[m MB | \u001b[1m\u001b[30msamsl\u001b[m(\u001b[33m2755M\u001b[m) \u001b[1m\u001b[30msamsl\u001b[m(\u001b[33m3017M\u001b[m)\n",
      "\u001b[36m[7]\u001b[m \u001b[34mTesla V100-PCIE-32GB\u001b[m |\u001b[31m 30'C\u001b[m, \u001b[32m  0 %\u001b[m | \u001b[36m\u001b[1m\u001b[33m    4\u001b[m / \u001b[33m32510\u001b[m MB |\n"
     ]
    }
   ],
   "source": [
    "!gpustat"
   ]
  },
  {
   "cell_type": "code",
   "execution_count": 9,
   "id": "f4e5cd46-8558-4d72-b970-621f1b1d4204",
   "metadata": {},
   "outputs": [
    {
     "name": "stdout",
     "output_type": "stream",
     "text": [
      "coip_hc_full.tsv\t  models\t\t\t  y2h_test.tsv\n",
      "coip_test.tsv\t\t  y2h-coip.h5\t\t\t  y2h_train.tsv\n",
      "coip_train.tsv\t\t  y2h-coip-human-sequences.fasta\n",
      "dataset_coip+y2h_predict  y2h_hc_full.tsv\n",
      "coip-dsript  coip-tt  y2h-dscript  y2h-tt\n",
      "ep__epoch01.sav  ep__epoch03.sav  ep__epoch05.sav  ep__epoch07.sav\n",
      "ep__epoch02.sav  ep__epoch04.sav  ep__epoch06.sav  results.log\n"
     ]
    }
   ],
   "source": [
    "MODELF=\"../data/networks/dscript-tt/models\"\n",
    "NETF=\"../data/networks/dscript-tt/\"\n",
    "!ls {NETF}\n",
    "!ls {MODELF}\n",
    "!ls {MODELF}/y2h-dscript"
   ]
  },
  {
   "cell_type": "code",
   "execution_count": 8,
   "id": "ec7f083a-02b1-43ff-8c21-3413b99ee955",
   "metadata": {},
   "outputs": [
    {
     "name": "stdout",
     "output_type": "stream",
     "text": [
      "usage: dscript evaluate [-h] --model MODEL --test TEST --embedding EMBEDDING\n",
      "                        [-o OUTFILE] [-d DEVICE]\n",
      "\n",
      "Evaluate a trained model.\n",
      "\n",
      "optional arguments:\n",
      "  -h, --help            show this help message and exit\n",
      "  --model MODEL         Trained prediction model\n",
      "  --test TEST           Test Data\n",
      "  --embedding EMBEDDING\n",
      "                        h5 file with embedded sequences\n",
      "  -o OUTFILE, --outfile OUTFILE\n",
      "                        Output file to write results\n",
      "  -d DEVICE, --device DEVICE\n",
      "                        Compute device to use\n"
     ]
    }
   ],
   "source": [
    "!dscript evaluate --help"
   ]
  },
  {
   "cell_type": "code",
   "execution_count": 10,
   "id": "560b5f89-aa32-4ee1-80de-3ddb20d5d8b3",
   "metadata": {},
   "outputs": [
    {
     "name": "stdout",
     "output_type": "stream",
     "text": [
      "[2022-09-18-20:00:03] Using CUDA device 1 - Tesla V100-PCIE-32GB\n",
      "100%|██████████████████████████████████████| 6011/6011 [00:52<00:00, 113.73it/s]\n",
      "Predicting pairs: 100%|█████████████████| 153489/153489 [29:16<00:00, 87.39it/s]\n",
      "[2022-09-18-20:30:18] AUPR: 0.2343964357142362\n",
      "[2022-09-18-20:30:18] AUROC: 0.5927711733207112\n"
     ]
    }
   ],
   "source": [
    "!mkdir -p {MODELF}/y2h-dscript/evaluation-coip\n",
    "!dscript evaluate --model {MODELF}/y2h-dscript/ep__epoch07.sav --test {NETF}/coip_train.tsv --embedding {NETF}/y2h-coip.h5 --device 1 -o {MODELF}/y2h-dscript/evaluation-coip/results"
   ]
  },
  {
   "cell_type": "markdown",
   "id": "c6f0bf8b-33fa-43c9-8e89-dcb5686095b3",
   "metadata": {},
   "source": [
    "# TT model trained on Y2H network"
   ]
  },
  {
   "cell_type": "code",
   "execution_count": 12,
   "id": "389da04d-b275-47b9-ae08-22b97df92e46",
   "metadata": {},
   "outputs": [
    {
     "name": "stdout",
     "output_type": "stream",
     "text": [
      "[2022-09-18-21:03:07] Using CUDA device 1 - Tesla V100-PCIE-32GB\n",
      "100%|██████████████████████████████████████| 6011/6011 [00:53<00:00, 112.92it/s]\n",
      "Predicting pairs: 100%|█████████████████| 153489/153489 [29:19<00:00, 87.22it/s]\n",
      "[2022-09-18-21:33:26] AUPR: 0.20951086292793222\n",
      "[2022-09-18-21:33:26] AUROC: 0.593367153956244\n"
     ]
    }
   ],
   "source": [
    "MOD=\"y2h-tt\"\n",
    "TEST=\"coip\"\n",
    "!mkdir -p {MODELF}/{MOD}/evaluation-coip\n",
    "!dscript evaluate --model {MODELF}/{MOD}/ep__epoch05.sav --test {NETF}/{TEST}_train.tsv --embedding {NETF}/y2h-coip.h5 --device 1 -o {MODELF}/{MOD}/evaluation-{TEST}/results"
   ]
  },
  {
   "cell_type": "markdown",
   "id": "4f4173b7-016b-415b-b534-cf49bb88906e",
   "metadata": {},
   "source": [
    "# D-SCRIPT model trained on Co-IP network"
   ]
  },
  {
   "cell_type": "code",
   "execution_count": 17,
   "id": "9fd0633c-6b39-4a36-8557-f63c42d2e315",
   "metadata": {},
   "outputs": [
    {
     "name": "stdout",
     "output_type": "stream",
     "text": [
      "[2022-09-18-21:35:50] Using CUDA device 1 - Tesla V100-PCIE-32GB\n",
      "100%|██████████████████████████████████████| 6233/6233 [00:55<00:00, 112.02it/s]\n",
      "Predicting pairs: 100%|████████████████| 270036/270036 [44:59<00:00, 100.02it/s]\n",
      "[2022-09-18-22:21:51] AUPR: 0.17111659841344418\n",
      "[2022-09-18-22:21:51] AUROC: 0.6187012573963075\n"
     ]
    }
   ],
   "source": [
    "MOD=\"coip-dscript\"\n",
    "TEST=\"y2h\"\n",
    "!mkdir -p {MODELF}/{MOD}/evaluation-{TEST}\n",
    "!dscript evaluate --model {MODELF}/{MOD}/ep__epoch07.sav --test {NETF}/{TEST}_train.tsv --embedding {NETF}/y2h-coip.h5 --device 1 -o {MODELF}/{MOD}/evaluation-{TEST}/results"
   ]
  },
  {
   "cell_type": "markdown",
   "id": "7e0b3561-042c-4db6-8dbf-921284aa010f",
   "metadata": {},
   "source": [
    "# TT model trained on Co-IP network"
   ]
  },
  {
   "cell_type": "code",
   "execution_count": 18,
   "id": "cc54263d-89a7-4629-840d-6aeeaaa16888",
   "metadata": {
    "tags": []
   },
   "outputs": [
    {
     "name": "stdout",
     "output_type": "stream",
     "text": [
      "[2022-09-18-22:22:03] Using CUDA device 1 - Tesla V100-PCIE-32GB\n",
      "100%|██████████████████████████████████████| 6233/6233 [00:53<00:00, 116.23it/s]\n",
      "Predicting pairs: 100%|████████████████| 270036/270036 [44:54<00:00, 100.22it/s]\n",
      "[2022-09-18-23:07:57] AUPR: 0.19488863040214954\n",
      "[2022-09-18-23:07:57] AUROC: 0.60848262838619\n"
     ]
    }
   ],
   "source": [
    "MOD=\"coip-tt\"\n",
    "TEST=\"y2h\"\n",
    "!mkdir -p {MODELF}/{MOD}/evaluation-{TEST}\n",
    "!dscript evaluate --model {MODELF}/{MOD}/ep__epoch10.sav --test {NETF}/{TEST}_train.tsv --embedding {NETF}/y2h-coip.h5 --device 1 -o {MODELF}/{MOD}/evaluation-{TEST}/results"
   ]
  },
  {
   "cell_type": "markdown",
   "id": "a35f30af-b2d1-47b5-a773-ae4e34897f87",
   "metadata": {},
   "source": [
    "# Model that classifies between Co-IP and Y2H networks.\n",
    "\n",
    "To see if the D-SCRIPT model can classify between Co-IP and Y2H edges, we did the following:\n",
    "\n",
    "1) Construct train/test set (ratio: 0.8:0.2) by setting all Co-IP edges to 1 and all Y2H edges to 0. Construct the network where the CoIP and Y2H networks are in a 1-1 ratio.\n",
    "2) Use it to train the D-SCRIPT Model.\n",
    "3) See how well the trained model can classify the test cases.\n",
    "4) Report the AUPR"
   ]
  },
  {
   "cell_type": "code",
   "execution_count": 19,
   "id": "425e9a1e-9c75-4478-af93-cd9a9479cd87",
   "metadata": {},
   "outputs": [
    {
     "name": "stdout",
     "output_type": "stream",
     "text": [
      "[2022-09-18-01:56:52] Finished Epoch 1/10: Loss=0.690575, Accuracy=78.000%, MSE=0.174625, Precision=0.715688, Recall=0.726811, F1=0.721207, AUPR=0.6714\n",
      "[2022-09-18-02:30:01] Finished Epoch 2/10: Loss=0.60876, Accuracy=82.371%, MSE=0.136598, Precision=0.935587, Recall=0.654325, F1=0.770078, AUPR=0.941988\n",
      "[2022-09-18-03:03:00] Finished Epoch 3/10: Loss=0.623451, Accuracy=83.314%, MSE=0.132287, Precision=0.937562, Recall=0.678678, F1=0.787387, AUPR=0.950772\n",
      "[2022-09-18-03:35:57] Finished Epoch 4/10: Loss=0.531915, Accuracy=82.671%, MSE=0.135033, Precision=0.900994, Recall=0.687483, F1=0.779889, AUPR=0.902884\n",
      "[2022-09-18-04:08:57] Finished Epoch 5/10: Loss=0.389799, Accuracy=88.086%, MSE=0.0941779, Precision=0.890842, Recall=0.822675, F1=0.855402, AUPR=0.901804\n",
      "[2022-09-18-04:41:52] Finished Epoch 6/10: Loss=0.424106, Accuracy=87.300%, MSE=0.0995488, Precision=0.931049, Recall=0.776348, F1=0.84669, AUPR=0.942842\n",
      "[2022-09-18-05:14:51] Finished Epoch 7/10: Loss=0.412304, Accuracy=88.200%, MSE=0.0935432, Precision=0.912614, Recall=0.817213, F1=0.862283, AUPR=0.923889\n",
      "[2022-09-18-05:47:50] Finished Epoch 8/10: Loss=0.361154, Accuracy=90.171%, MSE=0.0783966, Precision=0.941151, Recall=0.827571, F1=0.880714, AUPR=0.959004\n",
      "[2022-09-18-06:20:56] Finished Epoch 9/10: Loss=0.391804, Accuracy=89.143%, MSE=0.0856742, Precision=0.926174, Recall=0.830044, F1=0.875478, AUPR=0.955728\n",
      "[2022-09-18-06:54:03] Finished Epoch 10/10: Loss=0.523094, Accuracy=86.414%, MSE=0.110263, Precision=0.952489, Recall=0.736269, F1=0.830537, AUPR=0.952685\n"
     ]
    }
   ],
   "source": [
    "!cat ../data/networks/dscript-tt/dataset_coip+y2h_predict/models/md1/results.log | grep \"Finished\""
   ]
  }
 ],
 "metadata": {
  "kernelspec": {
   "display_name": "main",
   "language": "python",
   "name": "main"
  },
  "language_info": {
   "codemirror_mode": {
    "name": "ipython",
    "version": 3
   },
   "file_extension": ".py",
   "mimetype": "text/x-python",
   "name": "python",
   "nbconvert_exporter": "python",
   "pygments_lexer": "ipython3",
   "version": "3.9.15"
  }
 },
 "nbformat": 4,
 "nbformat_minor": 5
}
