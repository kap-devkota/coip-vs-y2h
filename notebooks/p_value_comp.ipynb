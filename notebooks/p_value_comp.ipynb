{
 "cells": [
  {
   "cell_type": "code",
   "execution_count": 8,
   "id": "6c29f210-6006-4985-b4cd-d2d5de4bc9a8",
   "metadata": {},
   "outputs": [],
   "source": [
    "import numpy as np\n",
    "import networkx as nx\n",
    "import pandas as pd\n"
   ]
  },
  {
   "cell_type": "code",
   "execution_count": 41,
   "id": "cf2cc49d-44e5-41c6-81c8-5cd6f3afd550",
   "metadata": {},
   "outputs": [],
   "source": [
    "dc = pd.read_csv(\"../data/networks/coip_hc_full.tsv\", sep = \"\\t\", header = None)\n",
    "Gc = nx.from_pandas_edgelist(dc, 0, 1, 2)\n",
    "dy = pd.read_csv(\"../data/networks/y2h_hc_full.tsv\", sep = \"\\t\", header = None)\n",
    "Gy = nx.from_pandas_edgelist(dy, 0, 1, 2)\n",
    "dcs = pd.read_csv(\"../data/networks/coip_hc_shared.tsv\", sep = \"\\t\", header = None)\n",
    "Gcs = nx.from_pandas_edgelist(dcs, 0, 1, 2)\n",
    "dys = pd.read_csv(\"../data/networks/y2h_hc_shared.tsv\", sep = \"\\t\", header = None)\n",
    "Gys = nx.from_pandas_edgelist(dys, 0, 1, 2)"
   ]
  },
  {
   "cell_type": "code",
   "execution_count": 25,
   "id": "3bc6b26c-7baa-4970-8296-48dafcb9be94",
   "metadata": {},
   "outputs": [],
   "source": [
    "def compute_random_samples_barabasi(n_nodes, n_avg_edges, runs, metrics = {}):\n",
    "    results = {}\n",
    "    for i in range(runs):\n",
    "        print(f\"Run: {i+1}\")\n",
    "        Gb = nx.barabasi_albert_graph(n_nodes, n_avg_edges)\n",
    "        for metric_id, metric in metrics.items():\n",
    "            if metric_id not in results:\n",
    "                results[metric_id] = []\n",
    "            results[metric_id].append(metric(Gb))\n",
    "    return results\n",
    "\n",
    "metrics = {\"3-clustering\" : (lambda G: nx.average_clustering(G)),\n",
    "          \"4-clustering\": (lambda G: np.mean(list(nx.square_clustering(G).values())))}"
   ]
  },
  {
   "cell_type": "code",
   "execution_count": 44,
   "id": "e4862144-318d-43b9-b6a3-14749bf4f9f5",
   "metadata": {},
   "outputs": [],
   "source": [
    "from scipy.stats import t\n",
    "def compute_p_value_onetail(result, value):\n",
    "    dof = len(result)\n",
    "    mean = np.average(result)\n",
    "    std  = np.sqrt(dof/(dof - 1)) * np.std(result) # unbiased\n",
    "    t_score = (value - mean) / (std) \n",
    "    print(t_score)\n",
    "    return 1 - t.cdf(t_score, dof)"
   ]
  },
  {
   "cell_type": "code",
   "execution_count": 43,
   "id": "ad86b053-36e5-4f0c-9686-94cf14e80d83",
   "metadata": {
    "tags": []
   },
   "outputs": [
    {
     "data": {
      "text/plain": [
       "{'COIP': 6.933001304399383,\n",
       " 'Y2H': 9.654263986963606,\n",
       " 'S-COIP': 6.893457006768614,\n",
       " 'S-Y2H': 6.324160565513759}"
      ]
     },
     "execution_count": 43,
     "metadata": {},
     "output_type": "execute_result"
    }
   ],
   "source": [
    "Gnets = {\"COIP\" : Gc, \"Y2H\" : Gy, \"S-COIP\" : Gcs, \"S-Y2H\": Gys}\n",
    "adegs = {k : np.average(list(dict(G.degree).values())) for k, G in Gnets.items()}\n",
    "adegs"
   ]
  },
  {
   "cell_type": "code",
   "execution_count": 46,
   "id": "c1275f03-576f-470f-bf5a-ae8c447e92d5",
   "metadata": {
    "collapsed": true,
    "jupyter": {
     "outputs_hidden": true
    },
    "tags": []
   },
   "outputs": [
    {
     "name": "stdout",
     "output_type": "stream",
     "text": [
      "Running experiments on COIP\n",
      "Run: 1\n",
      "Run: 2\n",
      "Run: 3\n",
      "Run: 4\n",
      "Run: 5\n",
      "Run: 6\n",
      "Run: 7\n",
      "Run: 8\n",
      "Run: 9\n",
      "Run: 10\n",
      "Run: 11\n",
      "Run: 12\n",
      "Run: 13\n",
      "Run: 14\n",
      "Run: 15\n",
      "Run: 16\n",
      "Run: 17\n",
      "Run: 18\n",
      "Run: 19\n",
      "Run: 20\n",
      "Running experiments on Y2H\n",
      "Run: 1\n",
      "Run: 2\n",
      "Run: 3\n",
      "Run: 4\n",
      "Run: 5\n",
      "Run: 6\n",
      "Run: 7\n",
      "Run: 8\n",
      "Run: 9\n",
      "Run: 10\n",
      "Run: 11\n",
      "Run: 12\n",
      "Run: 13\n",
      "Run: 14\n",
      "Run: 15\n",
      "Run: 16\n",
      "Run: 17\n",
      "Run: 18\n",
      "Run: 19\n",
      "Run: 20\n",
      "Running experiments on S-COIP\n",
      "Run: 1\n",
      "Run: 2\n",
      "Run: 3\n",
      "Run: 4\n",
      "Run: 5\n",
      "Run: 6\n",
      "Run: 7\n",
      "Run: 8\n",
      "Run: 9\n",
      "Run: 10\n",
      "Run: 11\n",
      "Run: 12\n",
      "Run: 13\n",
      "Run: 14\n",
      "Run: 15\n",
      "Run: 16\n",
      "Run: 17\n",
      "Run: 18\n",
      "Run: 19\n",
      "Run: 20\n",
      "Running experiments on S-Y2H\n",
      "Run: 1\n",
      "Run: 2\n",
      "Run: 3\n",
      "Run: 4\n",
      "Run: 5\n",
      "Run: 6\n",
      "Run: 7\n",
      "Run: 8\n",
      "Run: 9\n",
      "Run: 10\n",
      "Run: 11\n",
      "Run: 12\n",
      "Run: 13\n",
      "Run: 14\n",
      "Run: 15\n",
      "Run: 16\n",
      "Run: 17\n",
      "Run: 18\n",
      "Run: 19\n",
      "Run: 20\n"
     ]
    }
   ],
   "source": [
    "measures = dict()\n",
    "for netname, G in Gnets.items():\n",
    "    print(f\"Running experiments on {netname}\")\n",
    "    measures[netname] = compute_random_samples_barabasi(len(G), int(adegs[netname] + 1/2), 20, metrics)"
   ]
  },
  {
   "cell_type": "code",
   "execution_count": 49,
   "id": "c58953e2-7623-4bd0-b680-e2428d944d3e",
   "metadata": {
    "tags": []
   },
   "outputs": [],
   "source": [
    "reported_scores = {\"3_clust\": {}, \"4_clust\": {}}\n",
    "for netname, G in Gnets.items():\n",
    "    reported_scores[\"3_clust\"][netname] = metrics[\"3-clustering\"](G)\n",
    "    reported_scores[\"4_clust\"][netname] = metrics[\"4-clustering\"](G)"
   ]
  },
  {
   "cell_type": "code",
   "execution_count": 50,
   "id": "2d7cfc6a-bb70-43b9-a268-1b979caf7a5f",
   "metadata": {},
   "outputs": [
    {
     "data": {
      "text/plain": [
       "{'3_clust': {'COIP': 0.1491005172236027,\n",
       "  'Y2H': 0.0545058052240701,\n",
       "  'S-COIP': 0.16051943577950162,\n",
       "  'S-Y2H': 0.046768868100458855},\n",
       " '4_clust': {'COIP': 0.04410007120960226,\n",
       "  'Y2H': 0.030597263163203638,\n",
       "  'S-COIP': 0.04785061857566836,\n",
       "  'S-Y2H': 0.025622544396029873}}"
      ]
     },
     "execution_count": 50,
     "metadata": {},
     "output_type": "execute_result"
    }
   ],
   "source": [
    "reported_scores"
   ]
  },
  {
   "cell_type": "code",
   "execution_count": 53,
   "id": "3d46bd31-da3c-4e09-8831-4e4238c26632",
   "metadata": {},
   "outputs": [
    {
     "name": "stdout",
     "output_type": "stream",
     "text": [
      "340.3431903342301\n",
      "595.4827890160647\n",
      "91.25667680805545\n",
      "240.6870406561348\n",
      "189.36715313906222\n",
      "209.7619319744132\n",
      "31.1767837696944\n",
      "161.384166834821\n"
     ]
    }
   ],
   "source": [
    "for netname, G in Gnets.items():\n",
    "    reported_scores[\"3_clust\"][f\"{netname}-pvalue\"] = compute_p_value_onetail(measures[netname][\"3-clustering\"], reported_scores[\"3_clust\"][netname])\n",
    "    reported_scores[\"4_clust\"][f\"{netname}-pvalue\"] = compute_p_value_onetail(measures[netname][\"4-clustering\"], reported_scores[\"4_clust\"][netname])"
   ]
  },
  {
   "cell_type": "code",
   "execution_count": 54,
   "id": "4eb64036-4dac-401b-b1ba-9eb85697ed63",
   "metadata": {},
   "outputs": [
    {
     "data": {
      "text/plain": [
       "{'3_clust': {'COIP': 0.1491005172236027,\n",
       "  'Y2H': 0.0545058052240701,\n",
       "  'S-COIP': 0.16051943577950162,\n",
       "  'S-Y2H': 0.046768868100458855,\n",
       "  'COIP-pvalue': 0.0,\n",
       "  'Y2H-pvalue': 0.0,\n",
       "  'S-COIP-pvalue': 0.0,\n",
       "  'S-Y2H-pvalue': 0.0},\n",
       " '4_clust': {'COIP': 0.04410007120960226,\n",
       "  'Y2H': 0.030597263163203638,\n",
       "  'S-COIP': 0.04785061857566836,\n",
       "  'S-Y2H': 0.025622544396029873,\n",
       "  'COIP-pvalue': 0.0,\n",
       "  'Y2H-pvalue': 0.0,\n",
       "  'S-COIP-pvalue': 0.0,\n",
       "  'S-Y2H-pvalue': 0.0}}"
      ]
     },
     "execution_count": 54,
     "metadata": {},
     "output_type": "execute_result"
    }
   ],
   "source": [
    "reported_scores"
   ]
  },
  {
   "cell_type": "code",
   "execution_count": null,
   "id": "fd4aedc8-fc34-4dfd-8c06-cdaf30570049",
   "metadata": {},
   "outputs": [],
   "source": []
  }
 ],
 "metadata": {
  "kernelspec": {
   "display_name": "dscript",
   "language": "python",
   "name": "dscript"
  },
  "language_info": {
   "codemirror_mode": {
    "name": "ipython",
    "version": 3
   },
   "file_extension": ".py",
   "mimetype": "text/x-python",
   "name": "python",
   "nbconvert_exporter": "python",
   "pygments_lexer": "ipython3",
   "version": "3.7.12"
  }
 },
 "nbformat": 4,
 "nbformat_minor": 5
}
